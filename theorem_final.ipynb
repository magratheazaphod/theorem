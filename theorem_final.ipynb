{
 "cells": [
  {
   "cell_type": "markdown",
   "metadata": {},
   "source": [
    "# Predicting Loan Cancellation #\n",
    "\n",
    "## Summary\n",
    "I built a parsimonious model by first reducing the total number of variables to a workable representative set, investigating the effect of each variable on the probability of loan cancellation, and discarding variables with limited predictivity. My final model achieves an AUC score of 0.649, with ROC curve shown below.\n",
    "\n",
    "![My final ROC curve](./roc_final.jpg)\n",
    "\n",
    "My final model uses six numerical variables: BorrowerRate, DolLoanAmountRequested, DolMonthlyDebt, DolMonthlyIncome, NumRealEstateTrades and PctBankcardUtil. I also use two categorical variables based on employment (StrEmploymentStatus and StrOccupation), and created four boolean variables based on other variables: BoolNonzeroPublicRecordsLast10Years, BoolOldLoanee, BoolPriorProsperLoanee and BoolYoungLoanee.\n",
    "\n",
    "\n",
    "## Methodology\n",
    "\n",
    "### Dimensional Reduction\n",
    "\n",
    "To handle the large number of columns in the data (86 to start), my initial focus was dimensional reduction: Finding a smaller set of variables that still encompasses most of the original information. One way to do this would be Principal Component Analysis (PCA) followed by rotation of eigenvectors, but since I was dealing with an unfamiliar data set, I preferred to use a different method to allow me to pare down data more deliberately. Instead, I used Pearson's r to find variables that were highly correlated, which I then turned into a graph with networkx to find connected families. After doing this, I chose one representive variable from each family and dropped the rest. \n",
    "\n",
    "My first application of this graph technique with r = .55 found twelve families and reduced the number of variables from 80 to 56. I chose an r such that the max family size would be no larger than 10. I then reapplied the same method with a lower cutoff of r = .45. This method proved to be imperfect - in the original run-through, I ended up discarding NumPriorProsperLoans, which I later realized to be highly important.\n",
    "\n",
    "### Logistic Regression with Individual Variables\n",
    "\n",
    "I then performed a logistic regression with each individual variable to see whether a significant relation exists, and then I started to build my final logistic model one variable at a time. In the case of clearly related families of variables, such as the combination of DolMonthlyDebt-DolMonthlyIncome-FracDebtToIncomeRatio, I investigated the set of variables as a group to see what combination of variables provided better predictivity (in this case, DolMonthlyDebt and DolMonthlyIncome performed best). Plugging in each variable at a time proved painstaking, but given my unfamiliarity with loan data I didn't feel comfortable with making assumptions about which variables might be significant.\n",
    "\n",
    "### Creating New Variables\n",
    "\n",
    "In some cases, a logistic regression revealed nonlinear behavior. For instance, when analyzing NumPriorProsperLoans, I found a significant decline in the probability of cancellation if the potential loanee had taken out a Prosper loan before, but no further effect if users had taken out multiple loans. Therefore, I created a new boolean variable, BoolPriorProsperLoanee, to better capture this behavior. I also wound up doing the same thing with NumPublicRecordsLast10Years and DateFirstCredit, converting them into BoolNonzeroPublicRecordsLast10Years and the pair BoolOldLoanee and BoldYoungLoanee respectively.\n",
    "\n",
    "\n",
    "## Key Findings\n",
    "\n",
    "* One of the best predictors of loan cancellation is familiarity with the Prosper platform. Users who have taken out a Prosper loan before have only a 13% chance of cancellation, versus 35% if they have not. However, only 6.5% of potential loans are by previous loanees, so we need further differentiating information.\n",
    "\n",
    "* Potential loanees who list their employment status as \"Other\" are much more likely to cancel than those listing their employment status as Employed, Full-time and Self-Employed - 49% versus 32%. However, only 7.8% of potential loanees list their employment status as Other. Conversely, and perhaps unexpectedly, loanees who list their employment status as Self-Employed have only a 20% chance of cancelling (6.2% of population).\n",
    "\n",
    "* The larger the potential loan, the more likely the loan will eventually be cancelled.\n",
    "\n",
    "* Potential loanees with higher monthly income are much more likely to cancel, whereas higher monthly debt leads to lower probability of cancellation.\n",
    "\n",
    "* A higher percentage of bankcard use correlates with lower probability of cancellation.\n",
    "\n",
    "* There are 67 different occupations listed, and I was therefore reluctant to include StrOccupation in my model without better insight into why individuals from certain professions would be more likely to cancel. However, including StrOccupation greatly increases predictive strength, and the sample sizes of different professions are large enough (several hundred) that the change in cancellation probability was very likely a real effect, so I wound up including StrOccupation as a categorical variable.\n",
    "\n",
    "### Other Findings\n",
    "\n",
    "* One might expect the interest rate of the loan to strongly influence cancellations, but in fact higher interest rates only slightly increase cancellation probability, subordinate to other factors (but still significant enough to merit inclusion in my final model).\n",
    "\n",
    "* Young and old loanees (either <4000 days of credit history or >12000) are both more likely to cancel, perhaps for different reasons.\n",
    "\n",
    "* Having a public record of a completed mortgage within the past 10 years and having a nonzero number of real estate trades on record both correspond with lower probability of cancellation."
   ]
  },
  {
   "cell_type": "code",
   "execution_count": 91,
   "metadata": {
    "collapsed": true
   },
   "outputs": [],
   "source": [
    "%matplotlib inline\n",
    "\n",
    "from datetime import datetime, timedelta\n",
    "import itertools\n",
    "import matplotlib.pyplot as plt\n",
    "import numpy as np\n",
    "import pandas as pd\n",
    "import pickle\n",
    "import scipy.stats as stats\n",
    "import seaborn as sns\n",
    "from sklearn import linear_model\n",
    "from sklearn import metrics\n",
    "from sklearn import preprocessing\n",
    "from sklearn.cross_validation import train_test_split\n",
    "from sklearn.pipeline import make_pipeline\n",
    "\n",
    "import networkx as nx\n",
    "from networkx.algorithms.components.connected import connected_components\n",
    "\n",
    "#show up to 100 columns and rows.\n",
    "pd.set_option('display.max_columns', 100, 'display.max_rows', 100)"
   ]
  },
  {
   "cell_type": "markdown",
   "metadata": {},
   "source": [
    "Load in the data from the pickle file"
   ]
  },
  {
   "cell_type": "code",
   "execution_count": 92,
   "metadata": {
    "collapsed": false
   },
   "outputs": [],
   "source": [
    "data_file = \"new_theorem_data.p\"\n",
    "\n",
    "## data appears to have been savied in Python 2 - changing encoding allows us to properly load data\n",
    "with open(data_file, 'rb') as pickle_file:\n",
    "    data = pickle.load(pickle_file, encoding='latin1') "
   ]
  },
  {
   "cell_type": "markdown",
   "metadata": {},
   "source": [
    "Sample listing below"
   ]
  },
  {
   "cell_type": "code",
   "execution_count": 93,
   "metadata": {
    "collapsed": false
   },
   "outputs": [
    {
     "data": {
      "text/plain": [
       "ListingID                                                       973605\n",
       "DateCreditPulled                                   2013-10-13 01:50:58\n",
       "DateListingStart                            2014-01-26 19:00:08.887000\n",
       "DateListingCreation                         2013-10-13 01:50:56.287000\n",
       "EnumListingStatus                                                    7\n",
       "DolLoanAmountRequested                                           15000\n",
       "BoolPartialFundingApproved                                        True\n",
       "CreditGrade                                                          B\n",
       "LenderYield                                                      0.152\n",
       "BorrowerRate                                                     0.162\n",
       "NumMonthsTerm                                                       60\n",
       "DolMonthlyLoanPayment                                           366.37\n",
       "FICOScore                                                          689\n",
       "ProsperScore                                                         6\n",
       "EnumListingCategory                                                  1\n",
       "DolMonthlyIncome                                                  6000\n",
       "BoolIncomeVerifiable                                              True\n",
       "FracDebtToIncomeRatio                                             0.27\n",
       "StrEmploymentStatus                                           Employed\n",
       "StrOccupation                                     Tradesman - Mechanic\n",
       "NumMonthsEmployed                                                  445\n",
       "StrState                                                            VA\n",
       "StrBorrowerCity                                           VIRGINIA BCH\n",
       "NumPriorProsperLoansActive                                           0\n",
       "NumPriorProsperLoans                                                 0\n",
       "DolPriorProsperLoansPrincipalBorrowed                              NaN\n",
       "DolPriorProsperLoansPrincipalOutstanding                           NaN\n",
       "DolPriorProsperLoansBalanceOutstanding                             NaN\n",
       "NumPriorProsperLoansCyclesBilled                                   NaN\n",
       "NumPriorProsperLoansOnTimePayments                                 NaN\n",
       "NumPriorProsperLoansLateCycles                                     NaN\n",
       "NumPriorProsperLoansLatePayments                                   NaN\n",
       "DolMaxPriorProsperLoan                                             NaN\n",
       "DolMinPriorProsperLoan                                             NaN\n",
       "NumPriorProsperLoansEarliestPayOff                                 NaN\n",
       "NumPriorProsperLoans31dpd                                          NaN\n",
       "NumPriorProsperLoans61dpd                                          NaN\n",
       "BoolIsLender                                                         0\n",
       "BoolInGroup                                                      False\n",
       "EnumChannelCode                                                  70000\n",
       "NumTrades                                                           29\n",
       "NumTradesOpened6                                                     1\n",
       "NumTradesDelinqOrPastDue6                                            0\n",
       "NumOpenTradesDelinqOrPastDue6                                        0\n",
       "NumTradesCurr30DPDOrDerog6                                           0\n",
       "NumTradesEver90DPDOrDerog                                            0\n",
       "DolTotalBalanceAllOpenTrades6                                   121431\n",
       "DolTotalBalanceOnPublicRecords                                       0\n",
       "DolTotalPaymentAllOpenTrades6                                     1348\n",
       "AgeOldestTrade                                                     419\n",
       "NumInquiries6MinusLastTwoWeeks                                       0\n",
       "PctTradesNeverDelinquent                                            96\n",
       "NumBankcardTradesOpened12                                            4\n",
       "DolTotalAvailBankcardCredit6                                       439\n",
       "DolTotalBalanceInstallTradesReptd6                                   0\n",
       "NumRealEstateTrades                                                  2\n",
       "NumRealPropertyTrades                                                4\n",
       "DolTotalBalanceOpenRevolving6                                    33956\n",
       "NumTradesEverDerog                                                   0\n",
       "DolMonthlyDebt                                                    1242\n",
       "NumCurrentDelinquencies                                              0\n",
       "NumDelinquencies84                                                   1\n",
       "NumPublicRecordsLast10Years                                          0\n",
       "NumPublicRecords12                                                   0\n",
       "DateFirstCredit                                    1978-11-03 08:00:00\n",
       "NumCreditLines84                                                    35\n",
       "NumInquiries6                                                        0\n",
       "DolAmountDelinquent                                                  0\n",
       "NumCurrentCreditLines                                               11\n",
       "NumOpenCreditLines                                                   8\n",
       "PctBankcardUtil                                                   0.97\n",
       "NumOpenRevolvingAccounts                                             7\n",
       "DolRealEstateBalance                                             87475\n",
       "DolRevolvingBalance                                              52941\n",
       "DolRealEstatePayment                                               583\n",
       "NumTotalInquiries                                                    5\n",
       "NumSatisfactoryAccounts                                             33\n",
       "NumWasDelinquentDerog                                                2\n",
       "NumDelinquenciesOver30Days                                           8\n",
       "NumDelinquenciesOver60Days                                           1\n",
       "BoolOwnsHome                                                      True\n",
       "EnumLoanFractionalType                                               3\n",
       "DateWholeLoanStart                          2014-01-26 18:28:42.477000\n",
       "DateWholeLoanEnd                                                   NaT\n",
       "BoolEverWholeLoan                                                 True\n",
       "BoolIsFractionalLoan                                             False\n",
       "Name: 973605, dtype: object"
      ]
     },
     "execution_count": 93,
     "metadata": {},
     "output_type": "execute_result"
    }
   ],
   "source": [
    "data.iloc[0]"
   ]
  },
  {
   "cell_type": "code",
   "execution_count": 94,
   "metadata": {
    "collapsed": false
   },
   "outputs": [
    {
     "name": "stdout",
     "output_type": "stream",
     "text": [
      "Number of rows: 252469\n",
      "Number of columns: 86\n"
     ]
    }
   ],
   "source": [
    "print('Number of rows:',len(data))\n",
    "cols = data.columns.values\n",
    "print('Number of columns:',len(cols))"
   ]
  },
  {
   "cell_type": "markdown",
   "metadata": {
    "collapsed": true
   },
   "source": [
    "Let's visualize how the different columns are inter-related by showing a heat map of Pearson's r between pairs of variables."
   ]
  },
  {
   "cell_type": "code",
   "execution_count": 95,
   "metadata": {
    "collapsed": false
   },
   "outputs": [
    {
     "data": {
      "text/plain": [
       "<matplotlib.axes._subplots.AxesSubplot at 0x13f263cf8>"
      ]
     },
     "execution_count": 95,
     "metadata": {},
     "output_type": "execute_result"
    },
    {
     "data": {
      "image/png": "[encoded data removed]",
      "text/plain": [
       "<matplotlib.figure.Figure at 0x13f263550>"
      ]
     },
     "metadata": {},
     "output_type": "display_data"
    }
   ],
   "source": [
    "corr = data.corr()\n",
    "corr.head()\n",
    "\n",
    "## 86 different categories - start by taking correlation matrix to figure out which categories are redundant\n",
    "f, ax = plt.subplots(figsize=(9,7))\n",
    "\n",
    "# Draw the heatmap using seaborn\n",
    "sns.heatmap(corr, square=True, cbar=True, xticklabels=False, yticklabels=False)"
   ]
  },
  {
   "cell_type": "markdown",
   "metadata": {},
   "source": [
    "There are many visible families of variables encoding very similar information. Let's gather these sets of variables by turning them into a graph network. I've provided a solution using networkx below."
   ]
  },
  {
   "cell_type": "code",
   "execution_count": 96,
   "metadata": {
    "collapsed": true
   },
   "outputs": [],
   "source": [
    "## thank you to stack overflow for the elegant solution: \n",
    "## http://stackoverflow.com/questions/4842613/merge-lists-that-share-common-elements\n",
    "def to_graph(l):\n",
    "    G = nx.Graph()\n",
    "    for part in l:\n",
    "        G.add_nodes_from(part)\n",
    "        G.add_edges_from(to_edges(part))\n",
    "    return G\n",
    "\n",
    "def to_edges(l):\n",
    "    \"\"\" \n",
    "        treat `l` as a Graph and returns it's edges \n",
    "        to_edges(['a','b','c','d']) -> [(a,b), (b,c),(c,d)]\n",
    "    \"\"\"\n",
    "    it = iter(l)\n",
    "    last = next(it)\n",
    "\n",
    "    for current in it:\n",
    "        yield last, current\n",
    "        last = current    "
   ]
  },
  {
   "cell_type": "markdown",
   "metadata": {},
   "source": [
    "The following function outputs a sorted list of all families of highly-correlated variables in a matrix. Takes in a dataframe of correlations and outputs a list of lists."
   ]
  },
  {
   "cell_type": "code",
   "execution_count": 97,
   "metadata": {
    "collapsed": false
   },
   "outputs": [],
   "source": [
    "def find_families(corr_df, thresh):\n",
    "    \n",
    "    tentative_families = []\n",
    "\n",
    "    ## for each variable, find each other variable that is highly correlated with, and put into list form.\n",
    "    for name, col in corr_df.iteritems():\n",
    "\n",
    "        highly_correlated = (abs(col) > thresh) & (col.index != name)\n",
    "        high_corr_list = col[highly_correlated].index.tolist()\n",
    "\n",
    "        #need to add the variable itself if the family is non-empty\n",
    "        if high_corr_list != []:\n",
    "            tentative_families.append(sorted(high_corr_list + [ name ]))\n",
    "\n",
    "    tentative_families.sort()\n",
    "    tentative_families = list(tentative_families for tentative_families,_ in itertools.groupby(tentative_families))\n",
    "        \n",
    "    ## use networkx class to convert list of connected nodes into a graph\n",
    "    G = to_graph(tentative_families)\n",
    "    cc = nx.connected_components(G)  ## returns a list of connected nodel elements\n",
    "    families = []\n",
    "\n",
    "    for nodes in cc:\n",
    "        families.append(list(nodes))\n",
    "\n",
    "    families = sorted([ sorted(fam) for fam in families ])\n",
    "\n",
    "    ## let's print a list of all the families we've found\n",
    "    for fam in families:\n",
    "        print(fam, len(fam))\n",
    "   \n",
    "    ll = [ len(fam) for fam in families ]\n",
    "    print(\"In total,\", sum(ll), \"variables found in\", len(families), \"families.\")\n",
    "    \n",
    "    return families"
   ]
  },
  {
   "cell_type": "markdown",
   "metadata": {},
   "source": [
    "For each variable in our data, we find a list of variables that it is highly correlated with, transform these linkages into a graph, and output families of connected nodes."
   ]
  },
  {
   "cell_type": "code",
   "execution_count": 98,
   "metadata": {
    "collapsed": false
   },
   "outputs": [
    {
     "name": "stdout",
     "output_type": "stream",
     "text": [
      "['BoolEverWholeLoan', 'BoolIsFractionalLoan', 'EnumLoanFractionalType'] 3\n",
      "['BoolOwnsHome', 'DolMonthlyDebt', 'DolRealEstateBalance', 'DolRealEstatePayment', 'DolTotalBalanceAllOpenTrades6', 'DolTotalBalanceInstallTradesReptd6', 'DolTotalPaymentAllOpenTrades6'] 7\n",
      "['BorrowerRate', 'LenderYield', 'ProsperScore'] 3\n",
      "['DolLoanAmountRequested', 'DolMonthlyLoanPayment'] 2\n",
      "['DolMaxPriorProsperLoan', 'DolMinPriorProsperLoan', 'DolPriorProsperLoansBalanceOutstanding', 'DolPriorProsperLoansPrincipalBorrowed', 'DolPriorProsperLoansPrincipalOutstanding', 'NumPriorProsperLoans', 'NumPriorProsperLoansActive', 'NumPriorProsperLoansCyclesBilled', 'NumPriorProsperLoansEarliestPayOff', 'NumPriorProsperLoansOnTimePayments'] 10\n",
      "['DolRevolvingBalance', 'DolTotalBalanceOpenRevolving6'] 2\n",
      "['NumBankcardTradesOpened12', 'NumCreditLines84', 'NumCurrentCreditLines', 'NumOpenCreditLines', 'NumOpenRevolvingAccounts', 'NumSatisfactoryAccounts', 'NumTrades'] 7\n",
      "['NumDelinquencies84', 'NumDelinquenciesOver30Days', 'NumDelinquenciesOver60Days', 'NumTradesEver90DPDOrDerog', 'NumTradesEverDerog', 'NumWasDelinquentDerog', 'PctTradesNeverDelinquent'] 7\n",
      "['NumInquiries6', 'NumInquiries6MinusLastTwoWeeks', 'NumTotalInquiries'] 3\n",
      "['NumPriorProsperLoans31dpd', 'NumPriorProsperLoans61dpd'] 2\n",
      "['NumRealEstateTrades', 'NumRealPropertyTrades'] 2\n",
      "['NumTradesCurr30DPDOrDerog6', 'NumTradesDelinqOrPastDue6'] 2\n",
      "In total, 50 variables found in 12 families.\n"
     ]
    }
   ],
   "source": [
    "## cutoff of .6 recovers 47 inter-connected variables, .5 recovers 52, .55 recovers 50\n",
    "## cutoff of .55 features largest group at length 10 - probably don't want to exceed that\n",
    "cutoff = .55\n",
    "families_1 = find_families(corr,cutoff)"
   ]
  },
  {
   "cell_type": "markdown",
   "metadata": {},
   "source": [
    "I go through each family individually, give each one a name, and then choose a single variable to represent that family. Then, drop all of the variables in each family except for the chosen representative variable."
   ]
  },
  {
   "cell_type": "code",
   "execution_count": 99,
   "metadata": {
    "collapsed": false
   },
   "outputs": [],
   "source": [
    "## give custom descriptive names to each family\n",
    "# two items: first, each unit in the family; second, the variable(s) you're going to keep around.\n",
    "family_dict = {}\n",
    "family_dict['fractional_loan'] = [families_1[0],'BoolEverWholeLoan']\n",
    "family_dict['debt'] = [families_1[1],'DolMonthlyDebt']\n",
    "family_dict['borrower_rate'] = [families_1[2],'BorrowerRate']\n",
    "family_dict['loan_amount'] = [families_1[3],'DolLoanAmountRequested']\n",
    "family_dict['prosper_history'] = [families_1[4],'NumPriorProsperLoans']\n",
    "family_dict['revolving_balance'] = [families_1[5],'DolTotalBalanceOpenRevolving6']\n",
    "family_dict['credit'] = [families_1[6],'NumCurrentCreditLines']\n",
    "family_dict['delinquencies'] = [families_1[7],'PctTradesNeverDelinquent']\n",
    "family_dict['inquiries'] = [families_1[8],'NumTotalInquiries']\n",
    "family_dict['prior_prosper_loans'] = [families_1[9],'NumPriorProsperLoans61dpd']\n",
    "family_dict['real_estate'] = [families_1[10],'NumRealEstateTrades']\n",
    "family_dict['current_delinquency'] = [families_1[11],'NumTradesCurr30DPDOrDerog6']\n",
    "\n",
    "## leave original data unaltered, work with dataframe reduced_data instead...\n",
    "reduced_data = pd.DataFrame.copy(data, deep = True)"
   ]
  },
  {
   "cell_type": "code",
   "execution_count": 100,
   "metadata": {
    "collapsed": false
   },
   "outputs": [
    {
     "name": "stdout",
     "output_type": "stream",
     "text": [
      "New number of columns after first filtering: 48\n"
     ]
    }
   ],
   "source": [
    "## drop similar columns as determined by families\n",
    "for fam, items in family_dict.items():\n",
    "    drop_cols = list(items[0])\n",
    "    drop_cols.remove(items[1]) #keep our chosen representative variable for that family\n",
    "    reduced_data.drop(drop_cols, axis = 1, inplace = True)\n",
    "    \n",
    "print('New number of columns after first filtering:',len(reduced_data.columns.values))\n",
    "\n",
    "## save this preliminary set of variables as a pickle file.\n",
    "reduced_data.to_pickle('theorem_reduced_firstfilter.pkl')"
   ]
  },
  {
   "cell_type": "markdown",
   "metadata": {},
   "source": [
    "Can take a quick look at remaining columns."
   ]
  },
  {
   "cell_type": "code",
   "execution_count": 101,
   "metadata": {
    "collapsed": false
   },
   "outputs": [
    {
     "name": "stdout",
     "output_type": "stream",
     "text": [
      "['ListingID' 'DateCreditPulled' 'DateListingStart' 'DateListingCreation'\n",
      " 'EnumListingStatus' 'DolLoanAmountRequested' 'BoolPartialFundingApproved'\n",
      " 'CreditGrade' 'BorrowerRate' 'NumMonthsTerm' 'FICOScore'\n",
      " 'EnumListingCategory' 'DolMonthlyIncome' 'BoolIncomeVerifiable'\n",
      " 'FracDebtToIncomeRatio' 'StrEmploymentStatus' 'StrOccupation'\n",
      " 'NumMonthsEmployed' 'StrState' 'StrBorrowerCity' 'NumPriorProsperLoans'\n",
      " 'NumPriorProsperLoansLateCycles' 'NumPriorProsperLoansLatePayments'\n",
      " 'NumPriorProsperLoans61dpd' 'BoolIsLender' 'BoolInGroup' 'EnumChannelCode'\n",
      " 'NumTradesOpened6' 'NumOpenTradesDelinqOrPastDue6'\n",
      " 'NumTradesCurr30DPDOrDerog6' 'DolTotalBalanceOnPublicRecords'\n",
      " 'AgeOldestTrade' 'PctTradesNeverDelinquent' 'DolTotalAvailBankcardCredit6'\n",
      " 'NumRealEstateTrades' 'DolTotalBalanceOpenRevolving6' 'DolMonthlyDebt'\n",
      " 'NumCurrentDelinquencies' 'NumPublicRecordsLast10Years'\n",
      " 'NumPublicRecords12' 'DateFirstCredit' 'DolAmountDelinquent'\n",
      " 'NumCurrentCreditLines' 'PctBankcardUtil' 'NumTotalInquiries'\n",
      " 'DateWholeLoanStart' 'DateWholeLoanEnd' 'BoolEverWholeLoan']\n"
     ]
    }
   ],
   "source": [
    "print(reduced_data.columns.values)"
   ]
  },
  {
   "cell_type": "markdown",
   "metadata": {},
   "source": [
    "Start looking at individual columns and remove extraneous columns such as dates and ID numbers. For instance, variables such as DateCreditPulled, DateListingCreation, DateListingStart and DateWholeLoanStart are unlikely to reflect consumer decision-making. Similarly, while there may be interesting things to be said about the influence of state/city on loan cancellation, they again shouldn't really strongly affect decision-making, and any effects are probably subordinate to direct economic effects."
   ]
  },
  {
   "cell_type": "code",
   "execution_count": 102,
   "metadata": {
    "collapsed": false
   },
   "outputs": [],
   "source": [
    "## immediately drop columns that are unlikely/unable to cause loan cancellation (ID numbers/dates)\n",
    "drop_cols = ['ListingID', 'DateCreditPulled', 'DateListingStart', 'DateListingCreation', 'DateWholeLoanStart', 'DateWholeLoanEnd']\n",
    "reduced_data.drop(drop_cols, axis = 1, inplace = True)\n",
    "\n",
    "## manually drop a few other columns that won't help this analysis.\n",
    "reduced_data.drop(['StrState','StrBorrowerCity'], axis=1, inplace=True)"
   ]
  },
  {
   "cell_type": "markdown",
   "metadata": {},
   "source": [
    "Although it's still too early to work with each column individual, some of these columns can be translated into more useful form - in particular, DateFirstCredit."
   ]
  },
  {
   "cell_type": "code",
   "execution_count": 103,
   "metadata": {
    "collapsed": false
   },
   "outputs": [],
   "source": [
    "## replace DateFirstCredit column with an integer\n",
    "days_since_firstcredit = datetime.now()-reduced_data['DateFirstCredit']\n",
    "reduced_data['DaysSinceFirstCredit'] = [ x.days for x in days_since_firstcredit ]\n",
    "reduced_data.drop('DateFirstCredit', axis=1, inplace=True)"
   ]
  },
  {
   "cell_type": "markdown",
   "metadata": {},
   "source": [
    "Similarly, it turns out that CreditGrade encodes the same information as BorrowerRate, except with greater precision."
   ]
  },
  {
   "cell_type": "code",
   "execution_count": 104,
   "metadata": {
    "collapsed": false
   },
   "outputs": [
    {
     "data": {
      "image/png": "[encoded data removed]",
      "text/plain": [
       "<matplotlib.figure.Figure at 0x13f25cb70>"
      ]
     },
     "metadata": {},
     "output_type": "display_data"
    }
   ],
   "source": [
    "## quick plot to show that BorrowerRate and CreditGrade are pretty much equivalent - drop CreditGrade\n",
    "reduced_data['BorrowerRate'].hist(by=reduced_data['CreditGrade'])\n",
    "reduced_data.drop('CreditGrade',axis =1, inplace=True)"
   ]
  },
  {
   "cell_type": "markdown",
   "metadata": {},
   "source": [
    "We're down to 39 columns."
   ]
  },
  {
   "cell_type": "code",
   "execution_count": 105,
   "metadata": {
    "collapsed": false
   },
   "outputs": [
    {
     "name": "stdout",
     "output_type": "stream",
     "text": [
      "New number of columns after removing variables: 39\n"
     ]
    }
   ],
   "source": [
    "print('New number of columns after removing variables:',len(reduced_data.columns.values))"
   ]
  },
  {
   "cell_type": "markdown",
   "metadata": {},
   "source": [
    "Let's use the graph-family-correlation method again to further reduce the number of variables we're working with, this time with a lower threshold."
   ]
  },
  {
   "cell_type": "code",
   "execution_count": 106,
   "metadata": {
    "collapsed": false
   },
   "outputs": [
    {
     "data": {
      "text/plain": [
       "<matplotlib.axes._subplots.AxesSubplot at 0x140a4dba8>"
      ]
     },
     "execution_count": 106,
     "metadata": {},
     "output_type": "execute_result"
    },
    {
     "data": {
      "image/png": "[encoded data removed]",
      "text/plain": [
       "<matplotlib.figure.Figure at 0x140a18a20>"
      ]
     },
     "metadata": {},
     "output_type": "display_data"
    }
   ],
   "source": [
    "## show another correlation matrix, this time with reduced set of variables.\n",
    "reduced_corr = reduced_data.corr()\n",
    "\n",
    "f, ax = plt.subplots(figsize=(9,7))\n",
    "\n",
    "# Draw the heatmap using seaborn\n",
    "sns.heatmap(reduced_corr, square=True, cbar=True, xticklabels=False, yticklabels=False)"
   ]
  },
  {
   "cell_type": "markdown",
   "metadata": {},
   "source": [
    "Still pockets of highly-correlated variables present, so let's rerun the method."
   ]
  },
  {
   "cell_type": "code",
   "execution_count": 107,
   "metadata": {
    "collapsed": false
   },
   "outputs": [
    {
     "name": "stdout",
     "output_type": "stream",
     "text": [
      "['AgeOldestTrade', 'DaysSinceFirstCredit'] 2\n",
      "['BorrowerRate', 'DolTotalAvailBankcardCredit6', 'FICOScore', 'PctTradesNeverDelinquent'] 4\n",
      "['DolMonthlyDebt', 'DolTotalBalanceOpenRevolving6', 'NumCurrentCreditLines'] 3\n",
      "['NumCurrentDelinquencies', 'NumTradesCurr30DPDOrDerog6'] 2\n",
      "['NumPriorProsperLoansLateCycles', 'NumPriorProsperLoansLatePayments'] 2\n",
      "In total, 13 variables found in 5 families.\n"
     ]
    }
   ],
   "source": [
    "cutoff = .45\n",
    "families_2 = find_families(reduced_corr,cutoff)"
   ]
  },
  {
   "cell_type": "code",
   "execution_count": 108,
   "metadata": {
    "collapsed": true
   },
   "outputs": [],
   "source": [
    "## give custom descriptive names to each family\n",
    "# two items: first, each unit in the family; second, the variable(s) you're going to keep around.\n",
    "family_dict_2 = {}\n",
    "family_dict_2['oldest_trade'] = [families_2[0],'DaysSinceFirstCredit']\n",
    "family_dict_2['borrower_rate'] = [families_2[1],'BorrowerRate']\n",
    "family_dict_2['monthly_debt'] = [families_2[2],'DolMonthlyDebt']\n",
    "family_dict_2['current_delinquencies'] = [families_2[3],'NumCurrentDelinquencies']\n",
    "family_dict_2['prosper_delinquencies'] = [families_2[4],'NumPriorProsperLoansLatePayments']\n",
    "\n",
    "## again, drop similar columns as determined by families\n",
    "for fam, items in family_dict_2.items():\n",
    "    drop_cols = list(items[0])\n",
    "    drop_cols.remove(items[1]) #keep our chosen representative variable for that family\n",
    "    reduced_data.drop(drop_cols, axis = 1, inplace = True)"
   ]
  },
  {
   "cell_type": "code",
   "execution_count": 109,
   "metadata": {
    "collapsed": false
   },
   "outputs": [
    {
     "name": "stdout",
     "output_type": "stream",
     "text": [
      "Number of columns: 31\n"
     ]
    },
    {
     "data": {
      "text/html": [
       "<div>\n",
       "<table border=\"1\" class=\"dataframe\">\n",
       "  <thead>\n",
       "    <tr style=\"text-align: right;\">\n",
       "      <th></th>\n",
       "      <th>EnumListingStatus</th>\n",
       "      <th>DolLoanAmountRequested</th>\n",
       "      <th>BoolPartialFundingApproved</th>\n",
       "      <th>BorrowerRate</th>\n",
       "      <th>NumMonthsTerm</th>\n",
       "      <th>EnumListingCategory</th>\n",
       "      <th>DolMonthlyIncome</th>\n",
       "      <th>BoolIncomeVerifiable</th>\n",
       "      <th>FracDebtToIncomeRatio</th>\n",
       "      <th>StrEmploymentStatus</th>\n",
       "      <th>StrOccupation</th>\n",
       "      <th>NumMonthsEmployed</th>\n",
       "      <th>NumPriorProsperLoans</th>\n",
       "      <th>NumPriorProsperLoansLatePayments</th>\n",
       "      <th>NumPriorProsperLoans61dpd</th>\n",
       "      <th>BoolIsLender</th>\n",
       "      <th>BoolInGroup</th>\n",
       "      <th>EnumChannelCode</th>\n",
       "      <th>NumTradesOpened6</th>\n",
       "      <th>NumOpenTradesDelinqOrPastDue6</th>\n",
       "      <th>DolTotalBalanceOnPublicRecords</th>\n",
       "      <th>NumRealEstateTrades</th>\n",
       "      <th>DolMonthlyDebt</th>\n",
       "      <th>NumCurrentDelinquencies</th>\n",
       "      <th>NumPublicRecordsLast10Years</th>\n",
       "      <th>NumPublicRecords12</th>\n",
       "      <th>DolAmountDelinquent</th>\n",
       "      <th>PctBankcardUtil</th>\n",
       "      <th>NumTotalInquiries</th>\n",
       "      <th>BoolEverWholeLoan</th>\n",
       "      <th>DaysSinceFirstCredit</th>\n",
       "    </tr>\n",
       "    <tr>\n",
       "      <th>ListingNumber</th>\n",
       "      <th></th>\n",
       "      <th></th>\n",
       "      <th></th>\n",
       "      <th></th>\n",
       "      <th></th>\n",
       "      <th></th>\n",
       "      <th></th>\n",
       "      <th></th>\n",
       "      <th></th>\n",
       "      <th></th>\n",
       "      <th></th>\n",
       "      <th></th>\n",
       "      <th></th>\n",
       "      <th></th>\n",
       "      <th></th>\n",
       "      <th></th>\n",
       "      <th></th>\n",
       "      <th></th>\n",
       "      <th></th>\n",
       "      <th></th>\n",
       "      <th></th>\n",
       "      <th></th>\n",
       "      <th></th>\n",
       "      <th></th>\n",
       "      <th></th>\n",
       "      <th></th>\n",
       "      <th></th>\n",
       "      <th></th>\n",
       "      <th></th>\n",
       "      <th></th>\n",
       "      <th></th>\n",
       "    </tr>\n",
       "  </thead>\n",
       "  <tbody>\n",
       "    <tr>\n",
       "      <th>973605</th>\n",
       "      <td>7</td>\n",
       "      <td>15000.0</td>\n",
       "      <td>True</td>\n",
       "      <td>0.1620</td>\n",
       "      <td>60</td>\n",
       "      <td>1</td>\n",
       "      <td>6000.0000</td>\n",
       "      <td>True</td>\n",
       "      <td>0.27</td>\n",
       "      <td>Employed</td>\n",
       "      <td>Tradesman - Mechanic</td>\n",
       "      <td>445.0</td>\n",
       "      <td>0</td>\n",
       "      <td>NaN</td>\n",
       "      <td>NaN</td>\n",
       "      <td>0</td>\n",
       "      <td>False</td>\n",
       "      <td>70000</td>\n",
       "      <td>1</td>\n",
       "      <td>0</td>\n",
       "      <td>0</td>\n",
       "      <td>2</td>\n",
       "      <td>1242</td>\n",
       "      <td>0</td>\n",
       "      <td>0</td>\n",
       "      <td>0</td>\n",
       "      <td>0</td>\n",
       "      <td>0.97</td>\n",
       "      <td>5</td>\n",
       "      <td>True</td>\n",
       "      <td>13920</td>\n",
       "    </tr>\n",
       "    <tr>\n",
       "      <th>981099</th>\n",
       "      <td>7</td>\n",
       "      <td>15000.0</td>\n",
       "      <td>True</td>\n",
       "      <td>0.1585</td>\n",
       "      <td>60</td>\n",
       "      <td>1</td>\n",
       "      <td>7916.6667</td>\n",
       "      <td>True</td>\n",
       "      <td>0.35</td>\n",
       "      <td>Other</td>\n",
       "      <td>NaN</td>\n",
       "      <td>32.0</td>\n",
       "      <td>0</td>\n",
       "      <td>NaN</td>\n",
       "      <td>NaN</td>\n",
       "      <td>0</td>\n",
       "      <td>False</td>\n",
       "      <td>70000</td>\n",
       "      <td>1</td>\n",
       "      <td>0</td>\n",
       "      <td>0</td>\n",
       "      <td>2</td>\n",
       "      <td>2289</td>\n",
       "      <td>0</td>\n",
       "      <td>0</td>\n",
       "      <td>0</td>\n",
       "      <td>0</td>\n",
       "      <td>0.48</td>\n",
       "      <td>3</td>\n",
       "      <td>True</td>\n",
       "      <td>14257</td>\n",
       "    </tr>\n",
       "    <tr>\n",
       "      <th>1025766</th>\n",
       "      <td>6</td>\n",
       "      <td>4000.0</td>\n",
       "      <td>True</td>\n",
       "      <td>0.2085</td>\n",
       "      <td>36</td>\n",
       "      <td>1</td>\n",
       "      <td>2083.3333</td>\n",
       "      <td>True</td>\n",
       "      <td>0.53</td>\n",
       "      <td>Employed</td>\n",
       "      <td>Professional</td>\n",
       "      <td>4.0</td>\n",
       "      <td>3</td>\n",
       "      <td>0.0</td>\n",
       "      <td>NaN</td>\n",
       "      <td>0</td>\n",
       "      <td>False</td>\n",
       "      <td>80000</td>\n",
       "      <td>0</td>\n",
       "      <td>0</td>\n",
       "      <td>0</td>\n",
       "      <td>0</td>\n",
       "      <td>911</td>\n",
       "      <td>0</td>\n",
       "      <td>0</td>\n",
       "      <td>0</td>\n",
       "      <td>0</td>\n",
       "      <td>0.93</td>\n",
       "      <td>5</td>\n",
       "      <td>False</td>\n",
       "      <td>4165</td>\n",
       "    </tr>\n",
       "    <tr>\n",
       "      <th>1003835</th>\n",
       "      <td>7</td>\n",
       "      <td>10000.0</td>\n",
       "      <td>True</td>\n",
       "      <td>0.1299</td>\n",
       "      <td>36</td>\n",
       "      <td>13</td>\n",
       "      <td>3750.0000</td>\n",
       "      <td>True</td>\n",
       "      <td>0.14</td>\n",
       "      <td>Employed</td>\n",
       "      <td>Medical Technician</td>\n",
       "      <td>2.0</td>\n",
       "      <td>0</td>\n",
       "      <td>NaN</td>\n",
       "      <td>NaN</td>\n",
       "      <td>0</td>\n",
       "      <td>False</td>\n",
       "      <td>90000</td>\n",
       "      <td>1</td>\n",
       "      <td>0</td>\n",
       "      <td>0</td>\n",
       "      <td>0</td>\n",
       "      <td>223</td>\n",
       "      <td>0</td>\n",
       "      <td>0</td>\n",
       "      <td>0</td>\n",
       "      <td>0</td>\n",
       "      <td>0.26</td>\n",
       "      <td>1</td>\n",
       "      <td>True</td>\n",
       "      <td>2961</td>\n",
       "    </tr>\n",
       "    <tr>\n",
       "      <th>1011335</th>\n",
       "      <td>6</td>\n",
       "      <td>20000.0</td>\n",
       "      <td>True</td>\n",
       "      <td>0.1440</td>\n",
       "      <td>60</td>\n",
       "      <td>1</td>\n",
       "      <td>9000.0000</td>\n",
       "      <td>True</td>\n",
       "      <td>0.16</td>\n",
       "      <td>Employed</td>\n",
       "      <td>Executive</td>\n",
       "      <td>90.0</td>\n",
       "      <td>1</td>\n",
       "      <td>0.0</td>\n",
       "      <td>NaN</td>\n",
       "      <td>0</td>\n",
       "      <td>False</td>\n",
       "      <td>80000</td>\n",
       "      <td>1</td>\n",
       "      <td>0</td>\n",
       "      <td>1249</td>\n",
       "      <td>1</td>\n",
       "      <td>1264</td>\n",
       "      <td>1</td>\n",
       "      <td>2</td>\n",
       "      <td>0</td>\n",
       "      <td>0</td>\n",
       "      <td>0.81</td>\n",
       "      <td>17</td>\n",
       "      <td>False</td>\n",
       "      <td>8348</td>\n",
       "    </tr>\n",
       "  </tbody>\n",
       "</table>\n",
       "</div>"
      ],
      "text/plain": [
       "               EnumListingStatus  DolLoanAmountRequested  \\\n",
       "ListingNumber                                              \n",
       "973605                         7                 15000.0   \n",
       "981099                         7                 15000.0   \n",
       "1025766                        6                  4000.0   \n",
       "1003835                        7                 10000.0   \n",
       "1011335                        6                 20000.0   \n",
       "\n",
       "              BoolPartialFundingApproved  BorrowerRate  NumMonthsTerm  \\\n",
       "ListingNumber                                                           \n",
       "973605                              True        0.1620             60   \n",
       "981099                              True        0.1585             60   \n",
       "1025766                             True        0.2085             36   \n",
       "1003835                             True        0.1299             36   \n",
       "1011335                             True        0.1440             60   \n",
       "\n",
       "               EnumListingCategory  DolMonthlyIncome BoolIncomeVerifiable  \\\n",
       "ListingNumber                                                               \n",
       "973605                           1         6000.0000                 True   \n",
       "981099                           1         7916.6667                 True   \n",
       "1025766                          1         2083.3333                 True   \n",
       "1003835                         13         3750.0000                 True   \n",
       "1011335                          1         9000.0000                 True   \n",
       "\n",
       "               FracDebtToIncomeRatio StrEmploymentStatus  \\\n",
       "ListingNumber                                              \n",
       "973605                          0.27            Employed   \n",
       "981099                          0.35               Other   \n",
       "1025766                         0.53            Employed   \n",
       "1003835                         0.14            Employed   \n",
       "1011335                         0.16            Employed   \n",
       "\n",
       "                      StrOccupation  NumMonthsEmployed  NumPriorProsperLoans  \\\n",
       "ListingNumber                                                                  \n",
       "973605         Tradesman - Mechanic              445.0                     0   \n",
       "981099                          NaN               32.0                     0   \n",
       "1025766                Professional                4.0                     3   \n",
       "1003835          Medical Technician                2.0                     0   \n",
       "1011335                   Executive               90.0                     1   \n",
       "\n",
       "               NumPriorProsperLoansLatePayments  NumPriorProsperLoans61dpd  \\\n",
       "ListingNumber                                                                \n",
       "973605                                      NaN                        NaN   \n",
       "981099                                      NaN                        NaN   \n",
       "1025766                                     0.0                        NaN   \n",
       "1003835                                     NaN                        NaN   \n",
       "1011335                                     0.0                        NaN   \n",
       "\n",
       "               BoolIsLender BoolInGroup EnumChannelCode  NumTradesOpened6  \\\n",
       "ListingNumber                                                               \n",
       "973605                    0       False           70000                 1   \n",
       "981099                    0       False           70000                 1   \n",
       "1025766                   0       False           80000                 0   \n",
       "1003835                   0       False           90000                 1   \n",
       "1011335                   0       False           80000                 1   \n",
       "\n",
       "               NumOpenTradesDelinqOrPastDue6  DolTotalBalanceOnPublicRecords  \\\n",
       "ListingNumber                                                                  \n",
       "973605                                     0                               0   \n",
       "981099                                     0                               0   \n",
       "1025766                                    0                               0   \n",
       "1003835                                    0                               0   \n",
       "1011335                                    0                            1249   \n",
       "\n",
       "               NumRealEstateTrades  DolMonthlyDebt  NumCurrentDelinquencies  \\\n",
       "ListingNumber                                                                 \n",
       "973605                           2            1242                        0   \n",
       "981099                           2            2289                        0   \n",
       "1025766                          0             911                        0   \n",
       "1003835                          0             223                        0   \n",
       "1011335                          1            1264                        1   \n",
       "\n",
       "               NumPublicRecordsLast10Years  NumPublicRecords12  \\\n",
       "ListingNumber                                                    \n",
       "973605                                   0                   0   \n",
       "981099                                   0                   0   \n",
       "1025766                                  0                   0   \n",
       "1003835                                  0                   0   \n",
       "1011335                                  2                   0   \n",
       "\n",
       "               DolAmountDelinquent  PctBankcardUtil  NumTotalInquiries  \\\n",
       "ListingNumber                                                            \n",
       "973605                           0             0.97                  5   \n",
       "981099                           0             0.48                  3   \n",
       "1025766                          0             0.93                  5   \n",
       "1003835                          0             0.26                  1   \n",
       "1011335                          0             0.81                 17   \n",
       "\n",
       "              BoolEverWholeLoan  DaysSinceFirstCredit  \n",
       "ListingNumber                                          \n",
       "973605                     True                 13920  \n",
       "981099                     True                 14257  \n",
       "1025766                   False                  4165  \n",
       "1003835                    True                  2961  \n",
       "1011335                   False                  8348  "
      ]
     },
     "execution_count": 109,
     "metadata": {},
     "output_type": "execute_result"
    }
   ],
   "source": [
    "print(\"Number of columns:\",len(reduced_data.columns.values))\n",
    "reduced_data.head()"
   ]
  },
  {
   "cell_type": "markdown",
   "metadata": {},
   "source": [
    "A closer look at BoolIncomeVerifiable shows that it is completely equivalent to StrEmploymentStatus - can safely drop."
   ]
  },
  {
   "cell_type": "code",
   "execution_count": 110,
   "metadata": {
    "collapsed": false
   },
   "outputs": [
    {
     "name": "stdout",
     "output_type": "stream",
     "text": [
      "BoolIncomeVerifiable is false:\n",
      " Self-employed    0.999616\n",
      "Not employed     0.000256\n",
      "Employed         0.000128\n",
      "Name: StrEmploymentStatus, dtype: float64\n",
      "BoolIncomeVerifiable is true:\n",
      " Employed         0.914816\n",
      "Other            0.082516\n",
      "Full-time        0.002592\n",
      "Self-employed    0.000055\n",
      "Part-time        0.000021\n",
      "Name: StrEmploymentStatus, dtype: float64\n"
     ]
    }
   ],
   "source": [
    "print('BoolIncomeVerifiable is false:\\n', \\\n",
    "      reduced_data[reduced_data['BoolIncomeVerifiable'] == False]['StrEmploymentStatus'].value_counts(normalize = True))\n",
    "print('BoolIncomeVerifiable is true:\\n', \\\n",
    "      reduced_data[reduced_data['BoolIncomeVerifiable'] == True]['StrEmploymentStatus'].value_counts(normalize = True))\n",
    "\n",
    "reduced_data.drop('BoolIncomeVerifiable', axis = 1, inplace = True)"
   ]
  },
  {
   "cell_type": "markdown",
   "metadata": {},
   "source": [
    "Last change: Logistic regression requires that the target variable be either 0 or 1, so let's create a new variable called \"Cancelled\" which is just EnumListingStatus minus 6."
   ]
  },
  {
   "cell_type": "code",
   "execution_count": 111,
   "metadata": {
    "collapsed": false
   },
   "outputs": [],
   "source": [
    "## replace EnumListingStatus with Cancelled\n",
    "reduced_data['Cancelled'] = reduced_data['EnumListingStatus']-6\n",
    "reduced_data.drop('EnumListingStatus', axis=1, inplace = True)"
   ]
  },
  {
   "cell_type": "code",
   "execution_count": 112,
   "metadata": {
    "collapsed": true
   },
   "outputs": [],
   "source": [
    "## save to pickle file again.\n",
    "reduced_data.to_pickle('theorem_reduced_secondfilter.pkl')"
   ]
  },
  {
   "cell_type": "code",
   "execution_count": 113,
   "metadata": {
    "collapsed": false
   },
   "outputs": [
    {
     "name": "stdout",
     "output_type": "stream",
     "text": [
      "['DolLoanAmountRequested' 'BoolPartialFundingApproved' 'BorrowerRate'\n",
      " 'NumMonthsTerm' 'EnumListingCategory' 'DolMonthlyIncome'\n",
      " 'FracDebtToIncomeRatio' 'StrEmploymentStatus' 'StrOccupation'\n",
      " 'NumMonthsEmployed' 'NumPriorProsperLoans'\n",
      " 'NumPriorProsperLoansLatePayments' 'NumPriorProsperLoans61dpd'\n",
      " 'BoolIsLender' 'BoolInGroup' 'EnumChannelCode' 'NumTradesOpened6'\n",
      " 'NumOpenTradesDelinqOrPastDue6' 'DolTotalBalanceOnPublicRecords'\n",
      " 'NumRealEstateTrades' 'DolMonthlyDebt' 'NumCurrentDelinquencies'\n",
      " 'NumPublicRecordsLast10Years' 'NumPublicRecords12' 'DolAmountDelinquent'\n",
      " 'PctBankcardUtil' 'NumTotalInquiries' 'BoolEverWholeLoan'\n",
      " 'DaysSinceFirstCredit' 'Cancelled']\n"
     ]
    }
   ],
   "source": [
    "## What's left:\n",
    "print(reduced_data.columns.values)"
   ]
  },
  {
   "cell_type": "markdown",
   "metadata": {},
   "source": [
    "This is the final set of variables that we're going to start investigating. We've gone from 86 columns down to 31 columns. Here's a breakdown of what remains:\n",
    "\n",
    "* Target: Cancelled\n",
    "* Numerical variables: DolLoanAmountRequested, BorrowerRate, NumMonthsTerm, DolMonthlyIncome, FracDebtToIncomeRatio, NumMonthsEmployed, NumPriorProsperLoans, NumPriorProsperLoansLatePayments, NumPriorProsperLoans61dpd, NumTradesOpened6, NumOpenTradesDelinqOrPastDue6, DolTotalBalanceOnPublicRecords, NumRealEstateTrades, DolMonthlyDebt, NumCurrentDelinquencies, NumPublicRecordsLast10Years, NumPublicRecords12, DolAmountDelinquent, PctBankcardUtil, NumTotalInquiries, DaysSinceFirstCredit (21)\n",
    "* Categorical variables: EnumListingCategory, StrEmploymentStatus, StrOccupation, EnumChannelCode (4)\n",
    "* Boolean variables: BoolPartialFundingApproved, BoolIsLender, BoolInGroup, BoolEverWholeLoan (5)\n",
    "\n",
    "Many of these variables have strange distributions, and will have to be treated individually. In particular, some of these variables are likely better suited to be bools, as demonstrated shortly, and others have large numbers of NaNs that we'll have to figure out what to do with."
   ]
  },
  {
   "cell_type": "markdown",
   "metadata": {},
   "source": [
    "Time to visualize the data! NumPriorProsperLoans61dpd is left out because, on closer inspection, all but 50 of the rows have NaNs in that variable. We also use NumPublicRecordsLast10Years instead of NumPublicRecords12 to explore link between public records and cancellation."
   ]
  },
  {
   "cell_type": "code",
   "execution_count": 114,
   "metadata": {
    "collapsed": false
   },
   "outputs": [
    {
     "data": {
      "text/plain": [
       "0    251457\n",
       "1       894\n",
       "2        92\n",
       "3        18\n",
       "4         7\n",
       "6         1\n",
       "Name: NumPublicRecords12, dtype: int64"
      ]
     },
     "execution_count": 114,
     "metadata": {},
     "output_type": "execute_result"
    }
   ],
   "source": [
    "## only 50 people have a non-zero value for this criterion!\n",
    "sum(np.isnan(reduced_data['NumPriorProsperLoans61dpd']))\n",
    "reduced_data['NumPriorProsperLoans61dpd'].value_counts()\n",
    "\n",
    "## similarly, very few people have a public record from the last 12 months - let's use 10-year version instead for now\n",
    "sum(np.isnan(reduced_data['NumPublicRecords12']))\n",
    "reduced_data['NumPublicRecords12'].value_counts()"
   ]
  },
  {
   "cell_type": "code",
   "execution_count": null,
   "metadata": {
    "collapsed": false
   },
   "outputs": [],
   "source": [
    "## 19 numerical variables only - show plot for each one. Also include column for cancellation.\n",
    "numerics = reduced_data[['DolLoanAmountRequested','BorrowerRate','NumMonthsTerm','DolMonthlyIncome','FracDebtToIncomeRatio',\\\n",
    "'NumMonthsEmployed','NumPriorProsperLoans','NumPriorProsperLoansLatePayments',\\\n",
    "'NumTradesOpened6','NumOpenTradesDelinqOrPastDue6','DolTotalBalanceOnPublicRecords','NumRealEstateTrades',\\\n",
    "'DolMonthlyDebt','NumCurrentDelinquencies','NumPublicRecordsLast10Years','DolAmountDelinquent','PctBankcardUtil',\\\n",
    "'NumTotalInquiries','DaysSinceFirstCredit']]"
   ]
  },
  {
   "cell_type": "code",
   "execution_count": null,
   "metadata": {
    "collapsed": false
   },
   "outputs": [],
   "source": [
    "## create one big figure behind subpanels\n",
    "fig, axes = plt.subplots(6,3,figsize=(12,16), facecolor='w')\n",
    "\n",
    "## cycle through each numeric variable and logistic regress with cancellation (excluding cancellation itself)\n",
    "for ax, var in zip(axes.reshape(-1),numerics.columns.values):\n",
    "    sns.regplot(ax=ax, x=var, y=\"Cancelled\", data=reduced_data, logistic=True, ci = None, x_bins = 200)"
   ]
  },
  {
   "cell_type": "markdown",
   "metadata": {},
   "source": [
    "* Variables that immediately appear to show a strong correlation with loan cancellation: DolLoanAmountRequested, DolMonthlyIncome,FracDebtToIncomeRatio,NumMonthsEmployed,NumTradesOpened6, NumOpenTradesDelinqOrPastDue6, NumRealEstateTrades, DolMonthlyDebt, NumCurrentDelinquencies, PctBankcardUtil, NumTotalInquiries.\n",
    "\n",
    "* A few variables immediately seem to demonstrate nonlinear behavior, most notably DaysSinceFirstCredit, DolMonthlyDebt, NumMonthsEmployed and maybe even BorrowerRate. That said, I'm reluctant to add non-linear terms to my eventual model for risk of overfitting.\n",
    "\n",
    "* NumPriorProsperLoans is a great predictor of whether you cancel or not. This makes some intuitive sense - if you've been through the process before, much easier to follow through. In fact, a boolean variable seems more appropriate, which we implement immediately below."
   ]
  },
  {
   "cell_type": "code",
   "execution_count": null,
   "metadata": {
    "collapsed": false
   },
   "outputs": [],
   "source": [
    "fig, ax = plt.subplots()\n",
    "sns.regplot(x=\"NumPriorProsperLoans\", y=\"Cancelled\", data=reduced_data, logistic=True, ci = None, x_bins = 500)"
   ]
  },
  {
   "cell_type": "markdown",
   "metadata": {},
   "source": [
    "There's no evidence that taking out more than one loans actually makes you less likely to cancel, so a logistic regression of the number of loans is a poor model. Let's change this variable to a boolean parameter instead."
   ]
  },
  {
   "cell_type": "code",
   "execution_count": null,
   "metadata": {
    "collapsed": false
   },
   "outputs": [],
   "source": [
    "#Create new Boolean variable that shows whether someone has ever taken out a Prosper loan before or not.\n",
    "reduced_data['BoolPriorProsperLoanee'] = reduced_data['NumPriorProsperLoans'] > 0\n",
    "reduced_data.drop('NumPriorProsperLoans', inplace = True, axis =1)"
   ]
  },
  {
   "cell_type": "markdown",
   "metadata": {},
   "source": [
    "As we did above for the numerical variables, let's check out the influence of the boolean variables in our set."
   ]
  },
  {
   "cell_type": "code",
   "execution_count": null,
   "metadata": {
    "collapsed": true
   },
   "outputs": [],
   "source": [
    "## 5 boolean variables to consider.\n",
    "booleans = reduced_data[['BoolPriorProsperLoanee','BoolPartialFundingApproved','BoolIsLender','BoolInGroup','BoolEverWholeLoan']]"
   ]
  },
  {
   "cell_type": "code",
   "execution_count": null,
   "metadata": {
    "collapsed": false
   },
   "outputs": [],
   "source": [
    "## create one big figure behind subpanels\n",
    "fig, axes = plt.subplots(3,2,figsize=(8,10), facecolor='w')\n",
    "\n",
    "## cycle through each numeric variable and logistic regress with cancellation (excluding cancellation itself)\n",
    "for ax, var in zip(axes.reshape(-1), booleans.columns.values):\n",
    "    sns.regplot(ax=ax, x=var, y=\"Cancelled\", data=reduced_data, logistic=True, ci = None, x_bins = 500)"
   ]
  },
  {
   "cell_type": "markdown",
   "metadata": {},
   "source": [
    "BoolPriorProsperLoanee is highly significant, BoolIsLender and BoolInGroup also look significant, \n",
    "BoolPartialFundingApproved and BoolEverWholeLoan do not. We drop the latter two variables right away."
   ]
  },
  {
   "cell_type": "code",
   "execution_count": null,
   "metadata": {
    "collapsed": false
   },
   "outputs": [],
   "source": [
    "reduced_data.drop(['BoolPartialFundingApproved','BoolEverWholeLoan'], inplace = True, axis =1)"
   ]
  },
  {
   "cell_type": "code",
   "execution_count": null,
   "metadata": {
    "collapsed": false
   },
   "outputs": [],
   "source": [
    "print(reduced_data['BoolPriorProsperLoanee'].value_counts(normalize = True))\n",
    "print(reduced_data['BoolIsLender'].value_counts(normalize = True))\n",
    "print(reduced_data['BoolInGroup'].value_counts(normalize = True))"
   ]
  },
  {
   "cell_type": "markdown",
   "metadata": {},
   "source": [
    "Even though these variables all looked significant, BoolIsLender and BoolInGroup are only true for a very small subset of the total loan population - therefore including them into our model probably won't improve skill very much. We'll still keep them in as candidate variables for now."
   ]
  },
  {
   "cell_type": "code",
   "execution_count": null,
   "metadata": {
    "collapsed": true
   },
   "outputs": [],
   "source": [
    "reduced_data.to_pickle('theorem_model_variables_test.pkl')"
   ]
  },
  {
   "cell_type": "markdown",
   "metadata": {},
   "source": [
    "We added a couple of variables and dropped others based on our findings above - let's save our final variable pool."
   ]
  },
  {
   "cell_type": "markdown",
   "metadata": {},
   "source": [
    "# Building a logistic model"
   ]
  },
  {
   "cell_type": "markdown",
   "metadata": {},
   "source": [
    "### First parameters"
   ]
  },
  {
   "cell_type": "markdown",
   "metadata": {},
   "source": [
    "The plot above gives us a good idea of a few variables that make a big difference, including DolLoanAmountRequested, BoolPriorProsperLoanee and PctBankcardUtil. Loanees are more likely to cancel if the amount of the loan is higher, less likely to cancel if they have received a Prosper loan before, and less likely to cancel with higher bank card utilization. Let's plot some ROC curves for these variables, and also test out another variable, NumTotalInquiries."
   ]
  },
  {
   "cell_type": "code",
   "execution_count": null,
   "metadata": {
    "collapsed": true
   },
   "outputs": [],
   "source": []
  },
  {
   "cell_type": "code",
   "execution_count": null,
   "metadata": {
    "collapsed": false
   },
   "outputs": [],
   "source": [
    "variables = [['DolLoanAmountRequested'],['BoolPriorProsperLoanee','DolLoanAmountRequested'],\\\n",
    "       ['BoolPriorProsperLoanee','DolLoanAmountRequested','PctBankcardUtil'],\\\n",
    "            ['BoolPriorProsperLoanee','DolLoanAmountRequested','PctBankcardUtil','NumTotalInquiries']]\n",
    "\n",
    "y = reduced_data['Cancelled']\n",
    "X = []\n",
    "X_train = []\n",
    "X_test = []\n",
    "y_train = []\n",
    "y_test = []\n",
    "\n",
    "fig, ax = plt.subplots()\n",
    "\n",
    "for i,v in enumerate(variables):\n",
    "    standard_scaler = preprocessing.StandardScaler()\n",
    "    X.append(standard_scaler.fit_transform(reduced_data[v]))\n",
    "    X_tr, X_te, y_tr, y_te = train_test_split(X[i], y, test_size=0.3, random_state=0)\n",
    "    logm = linear_model.LogisticRegression()\n",
    "    logm.fit(X_tr,y_tr)\n",
    "    probs = logm.predict_proba(X_te)\n",
    "    fpr, tpr, thresholds = metrics.roc_curve(y_te,probs[:,1])\n",
    "\n",
    "    ## make plot of ROC curve\n",
    "    l, = ax.plot(fpr,tpr, label = 'a')\n",
    "    print(logm.coef_)\n",
    "\n",
    "plt.title('Receiver Operating Characteristic (ROC) Curve', fontsize = 16)\n",
    "plt.xlabel('FPR (False Positive Rate)', fontsize=14)\n",
    "plt.ylabel('TPR (True Positive Rate)', fontsize=14)\n",
    "\n",
    "handles, labels = ax.get_legend_handles_labels()\n",
    "mylabels = ['DolLoanAmountRequested','BoolPriorProsperLoanee, DolLoanAmountRequested',\\\n",
    "       'BoolPriorProsperLoanee, DolLoanAmountRequested,\\nPctBankcardUtil',\\\n",
    "            'BoolPriorProsperLoanee, DolLoanAmountRequested,\\nNumTotalInquiries, PctBankcardUtil']\n",
    "legend = ax.legend(handles[::-1], labels = mylabels, loc = 2)\n",
    "\n",
    "#show the \"no-skill\" line\n",
    "ax.plot([0, 1], [0, 1], color='navy', linestyle='--')"
   ]
  },
  {
   "cell_type": "markdown",
   "metadata": {},
   "source": [
    "This series of ROC curves shows that starting with DolLoanAmountRequested, then adding BoolPriorProsperLoanee, then PctBankcardUtil, all make successive contributions to quality of fit. On the other hand, adding NumTotalInquiries makes a relatively minor impact on the resulting ROC curve, so we should consider leaving it out."
   ]
  },
  {
   "cell_type": "markdown",
   "metadata": {},
   "source": [
    "### Employment Status"
   ]
  },
  {
   "cell_type": "markdown",
   "metadata": {},
   "source": [
    "Next, let's figure out how to treat the categorical variable StrEmploymentStatus."
   ]
  },
  {
   "cell_type": "code",
   "execution_count": null,
   "metadata": {
    "collapsed": false
   },
   "outputs": [],
   "source": [
    "print(reduced_data['StrEmploymentStatus'].value_counts())\n",
    "print(reduced_data.groupby('StrEmploymentStatus')['Cancelled'].mean())"
   ]
  },
  {
   "cell_type": "markdown",
   "metadata": {},
   "source": [
    "Clearly, self-reported employment status makes a huge difference on the probability of cancellation, especially if potential loanees list themselves as \"Other.\" Let's file the last two categories as Other to reduce the number of categories and convert StrEmploymentStatus to dummy variables."
   ]
  },
  {
   "cell_type": "code",
   "execution_count": null,
   "metadata": {
    "collapsed": false
   },
   "outputs": [],
   "source": [
    "## important step...let's test the treatment of the categorical variable.\n",
    "reduced_data['StrEmploymentStatus'].replace(['Part-time','Not employed'],'Other',inplace = True)\n",
    "X_job = reduced_data['StrEmploymentStatus'].to_frame()\n",
    "X_dummies = pd.get_dummies(X_job)\n",
    "\n",
    "## these are the core variables we've already identified\n",
    "variables = ['BoolPriorProsperLoanee','DolLoanAmountRequested','PctBankcardUtil']\n",
    "X = reduced_data[variables]\n",
    "\n",
    "#y = reduced_data['Cancelled']\n",
    "X_without_jobs = reduced_data[variables]\n",
    "X_with_jobs = pd.concat([X,X_dummies], axis=1)"
   ]
  },
  {
   "cell_type": "code",
   "execution_count": null,
   "metadata": {
    "collapsed": false
   },
   "outputs": [],
   "source": [
    "## let's plot 3 curves - accounting for job status only\n",
    "fig, ax = plt.subplots()\n",
    "\n",
    "standard_scaler1 = preprocessing.StandardScaler()\n",
    "X_without_jobs_sc = standard_scaler1.fit_transform(X_without_jobs)\n",
    "\n",
    "standard_scaler2 = preprocessing.StandardScaler()\n",
    "X_with_jobs_sc = standard_scaler2.fit_transform(X_with_jobs)\n",
    "\n",
    "for X in [X_dummies, X_without_jobs_sc, X_with_jobs_sc]:\n",
    "    X_tr, X_te, y_tr, y_te = train_test_split(X, y, test_size=0.3, random_state=0)\n",
    "    logm = linear_model.LogisticRegression()\n",
    "    logm.fit(X_tr,y_tr)\n",
    "    probs = logm.predict_proba(X_te)\n",
    "    fpr, tpr, thresholds = metrics.roc_curve(y_te,probs[:,1])\n",
    "    plt.plot(fpr,tpr)\n",
    "    print(logm.coef_)\n",
    "    \n",
    "plt.title('Receiver Operating Characteristic (ROC) Curve', fontsize = 16)\n",
    "plt.xlabel('FPR (False Positive Rate)', fontsize=14)\n",
    "plt.ylabel('TPR (True Positive Rate)', fontsize=14)\n",
    "\n",
    "handles, labels = ax.get_legend_handles_labels()\n",
    "mylabels = ['StrEmploymentStatus only','3 vars without job status','3 vars with job status']\n",
    "legend = ax.legend(handles, labels = mylabels, loc = 2)\n",
    "\n",
    "## draw the \"no-skill\" line\n",
    "plt.plot([0, 1], [0, 1], color='navy', linestyle='--')"
   ]
  },
  {
   "cell_type": "markdown",
   "metadata": {},
   "source": [
    "Adding job type notably increases area under curve, especially at the fringes - again, small sub-populations (like\n",
    "those who respond 'other' as job status) where we're able to make much stronger predictions. StrEmploymentStatus is added as the fourth core variable of the model."
   ]
  },
  {
   "cell_type": "markdown",
   "metadata": {},
   "source": [
    "### Monthly Debt/Monthly Income/Debt-To-Income Ratio"
   ]
  },
  {
   "cell_type": "markdown",
   "metadata": {},
   "source": [
    "Rather than trying to introduce these variables separately, they are clearly inter-related to one another (although as we'll see below, FracDebtToIncomeratio is not exactly equal to DolMonthlyDebt/DolMonthlyIncome). Therefore, I tested the possible combinations of these variables to see which had the best predictivity for loan cancellation (rather than just plugging each in individually)."
   ]
  },
  {
   "cell_type": "code",
   "execution_count": null,
   "metadata": {
    "collapsed": false
   },
   "outputs": [],
   "source": [
    "print('Does variable contain any NaNs?')\n",
    "reduced_data.isnull().any()"
   ]
  },
  {
   "cell_type": "markdown",
   "metadata": {},
   "source": [
    "One immediate problem - some values of DolMonthlyIncome are null. Let's figure out why."
   ]
  },
  {
   "cell_type": "code",
   "execution_count": null,
   "metadata": {
    "collapsed": false
   },
   "outputs": [],
   "source": [
    "DI_null = reduced_data[reduced_data['FracDebtToIncomeRatio'].isnull()]\n",
    "print(DI_null['StrEmploymentStatus'].value_counts())"
   ]
  },
  {
   "cell_type": "markdown",
   "metadata": {},
   "source": [
    "15605 of 15624 loanees listed as Self-employed don't have a value for FracDebtToIncomeRatio. Let's fix that by creating a pseudo-value based on the observed relationships for other kinds of jobs."
   ]
  },
  {
   "cell_type": "code",
   "execution_count": null,
   "metadata": {
    "collapsed": false
   },
   "outputs": [],
   "source": [
    "## make a smaller data-frame just with DolMonthlyDebt, DolMonthlyIncome and FracDebtToIncomeRatio.\n",
    "test_df = reduced_data[['DolMonthlyDebt','DolMonthlyIncome','FracDebtToIncomeRatio']]\n",
    "test_df['PreliminaryDTI'] = test_df['DolMonthlyDebt']/test_df['DolMonthlyIncome']\n",
    "\n",
    "## first try - let's compare the variable FracDebtToIncomeRatio to what we get by dividing DolMonthlyDebt to DolMonthlyIncome.\n",
    "test_df['prelim_vs_actual_frac'] = test_df['PreliminaryDTI']/test_df['FracDebtToIncomeRatio']\n",
    "\n",
    "## key line below - a very small amount of loanees have a reported DolMonthlyIncome of 0, in which case the fraction is infinite\n",
    "test_df.replace([np.inf, -np.inf], np.nan, inplace = True)\n",
    "print(\"Mean ratio between our estimated Debt-to-Income ratio and actual:\", test_df['prelim_vs_actual_frac'].mean())\n",
    "print(\"Standard deviation:\", test_df['prelim_vs_actual_frac'].std())\n",
    "\n",
    "fig,ax = plt.subplots()\n",
    "test_df['prelim_vs_actual_frac'].hist(bins = 100)\n",
    "plt.title('Ratio of estimated Debt-to-Income Ratio versus Actual', size = 14)"
   ]
  },
  {
   "cell_type": "markdown",
   "metadata": {},
   "source": [
    "Ad hoc formula for creating a pseudo-Debt-to-Income ratio: divide DolMonthlyDebt by DolMonthlyIncome, then scale by factor of 1/.6933 (about 1.442)"
   ]
  },
  {
   "cell_type": "code",
   "execution_count": null,
   "metadata": {
    "collapsed": false
   },
   "outputs": [],
   "source": [
    "## let's make the pseudo-variable.\n",
    "## Two steps: 1) Use FracDebtToIncomeRatio where available. 2) Otherwise, estimate it using method described just above.\n",
    "test_df['EstimatedDebtToIncomeRatio'] = test_df['FracDebtToIncomeRatio']\n",
    "test_df.ix[np.isnan(test_df.EstimatedDebtToIncomeRatio), 'EstimatedDebtToIncomeRatio'] = test_df['PreliminaryDTI']/.6933\n",
    "test_df[:20]"
   ]
  },
  {
   "cell_type": "markdown",
   "metadata": {},
   "source": [
    "Now, let's try out some models with different combinations of variables, starting with individual variables."
   ]
  },
  {
   "cell_type": "code",
   "execution_count": null,
   "metadata": {
    "collapsed": false
   },
   "outputs": [],
   "source": [
    "cols_debt_income = [['DolMonthlyDebt'],['DolMonthlyIncome'],['EstimatedDebtToIncomeRatio']]\n",
    "\n",
    "fig, ax = plt.subplots()\n",
    "\n",
    "for cols in cols_debt_income:\n",
    "    X_debt = test_df[cols]\n",
    "    standard_scaler2 = preprocessing.StandardScaler()\n",
    "    X_debt_sc = standard_scaler2.fit_transform(X_debt)\n",
    "    X_tr, X_te, y_tr, y_te = train_test_split(X_debt_sc, y, test_size=0.3, random_state=0)\n",
    "    logm = linear_model.LogisticRegression()\n",
    "    logm.fit(X_tr,y_tr)\n",
    "    probs = logm.predict_proba(X_te)\n",
    "    fpr, tpr, thresholds = metrics.roc_curve(y_te,probs[:,1])\n",
    "    plt.plot(fpr,tpr)\n",
    "    print(logm.coef_)\n",
    "    \n",
    "plt.title('ROC curves for single variables', fontsize = 16)\n",
    "plt.xlabel('FPR (False Positive Rate)', fontsize=14)\n",
    "plt.ylabel('TPR (True Positive Rate)', fontsize=14)\n",
    "\n",
    "handles, labels = ax.get_legend_handles_labels()\n",
    "mylabels = ['DolMonthlyDebt','DolMonthlyIncome','EstimatedDebtToIncomeRatio']\n",
    "legend = ax.legend(handles, labels = mylabels, loc = 2)\n",
    "\n",
    "## draw the \"no-skill\" line\n",
    "plt.plot([0, 1], [0, 1], color='navy', linestyle='--')"
   ]
  },
  {
   "cell_type": "markdown",
   "metadata": {},
   "source": [
    "If we were going to pick a single variable, DolMonthlyDebt would perform best  and EstimatedDebtToIncomeRatio not too much worse, while DolMonthlyIncome would have very little predictivity."
   ]
  },
  {
   "cell_type": "code",
   "execution_count": null,
   "metadata": {
    "collapsed": false
   },
   "outputs": [],
   "source": [
    "cols_debt_income = [['DolMonthlyDebt','DolMonthlyIncome'],\\\n",
    "      ['DolMonthlyDebt','EstimatedDebtToIncomeRatio'],\\\n",
    "      ['DolMonthlyIncome','EstimatedDebtToIncomeRatio']]\n",
    "\n",
    "fig, ax = plt.subplots()\n",
    "\n",
    "for cols in cols_debt_income:\n",
    "    X = test_df[cols]\n",
    "    X_tr, X_te, y_tr, y_te = train_test_split(X, y, test_size=0.3, random_state=0)\n",
    "    logm = linear_model.LogisticRegression()\n",
    "    logm.fit(X_tr,y_tr)\n",
    "    probs = logm.predict_proba(X_te)\n",
    "    fpr, tpr, thresholds = metrics.roc_curve(y_te,probs[:,1])\n",
    "    plt.plot(fpr,tpr)\n",
    "    print(logm.coef_)\n",
    "    \n",
    "plt.title('ROC curves for single variables', fontsize = 16)\n",
    "plt.xlabel('FPR (False Positive Rate)', fontsize=14)\n",
    "plt.ylabel('TPR (True Positive Rate)', fontsize=14)\n",
    "\n",
    "handles, labels = ax.get_legend_handles_labels()\n",
    "mylabels = ['DolMonthlyDebt + DolMonthlyIncome','DolMonthlyDebt + EstimatedDebtToIncomeRatio',\\\n",
    "           'DolMonthlyIncome + EstimatedDebtToIncomeRatio']\n",
    "legend = ax.legend(handles, labels = mylabels, loc = 2)\n",
    "\n",
    "## draw the \"no-skill\" line\n",
    "plt.plot([0, 1], [0, 1], color='navy', linestyle='--')"
   ]
  },
  {
   "cell_type": "markdown",
   "metadata": {},
   "source": [
    "Perhaps surprisingly, even though DolMonthlyIncome wasn't useful individually, works better in tandem with DolMonthlyDebt than EstimatedDebtToIncomeRatio."
   ]
  },
  {
   "cell_type": "code",
   "execution_count": null,
   "metadata": {
    "collapsed": false
   },
   "outputs": [],
   "source": [
    "cols_debt_income = [['DolMonthlyDebt'],['DolMonthlyDebt','DolMonthlyIncome'],\\\n",
    "                   ['DolMonthlyDebt','DolMonthlyIncome','EstimatedDebtToIncomeRatio']]\n",
    "\n",
    "fig, ax = plt.subplots()\n",
    "plt.plot([0, 1], [0, 1], color='navy', linestyle='--')\n",
    "\n",
    "for cols in cols_debt_income:\n",
    "    X = test_df[cols]\n",
    "    X_tr, X_te, y_tr, y_te = train_test_split(X, y, test_size=0.3, random_state=0)\n",
    "    logm = linear_model.LogisticRegression()\n",
    "    logm.fit(X_tr,y_tr)\n",
    "    probs = logm.predict_proba(X_te)\n",
    "    fpr, tpr, thresholds = metrics.roc_curve(y_te,probs[:,1])\n",
    "    plt.plot(fpr,tpr)\n",
    "    print(logm.coef_)\n",
    "    \n",
    "handles, labels = ax.get_legend_handles_labels()\n",
    "mylabels = ['DolMonthlyDebt','DolMonthlyDebt + DolMonthlyIncome',\\\n",
    "           'DolMonthlyDebt + DolMonthlyIncome + EstimatedDebtToIncomeRatio']\n",
    "legend = ax.legend(handles, labels = mylabels, loc = 2)\n",
    "\n",
    "## draw the \"no-skill\" line\n",
    "plt.plot([0, 1], [0, 1], color='navy', linestyle='--')"
   ]
  },
  {
   "cell_type": "markdown",
   "metadata": {},
   "source": [
    "The last plot above shows that adding EstimatedDebtToIncomeRatio doesn't add skill to the combo of DolMonthlyDebt and DolMonthlyIncome - therefore, we get to leave it out entirely. It makes sense that one of the three variables should be omitted, since they are clearly not independent from one another. Let's take a look at the improvement in skill by including these two variables:"
   ]
  },
  {
   "cell_type": "code",
   "execution_count": null,
   "metadata": {
    "collapsed": false
   },
   "outputs": [],
   "source": [
    "X_nodebt = X_with_jobs \n",
    "X_withdebt = pd.concat([X_nodebt,reduced_data[['DolMonthlyDebt','DolMonthlyIncome']]], axis=1)\n",
    "X_withdebt.head()"
   ]
  },
  {
   "cell_type": "code",
   "execution_count": null,
   "metadata": {
    "collapsed": false
   },
   "outputs": [],
   "source": [
    "fig, ax = plt.subplots()\n",
    "\n",
    "## scale the variables first\n",
    "X_nodebt_sc = X_with_jobs_sc\n",
    "standard_scaler = preprocessing.StandardScaler()\n",
    "X_withdebt_sc = standard_scaler.fit_transform(X_withdebt)\n",
    "\n",
    "for X in [X_nodebt_sc, X_withdebt_sc]:\n",
    "    X_tr, X_te, y_tr, y_te = train_test_split(X, y, test_size=0.3, random_state=0)\n",
    "    logm = linear_model.LogisticRegression()\n",
    "    logm.fit(X_tr,y_tr)\n",
    "    probs = logm.predict_proba(X_te)\n",
    "    fpr, tpr, thresholds = metrics.roc_curve(y_te,probs[:,1])\n",
    "    plt.plot(fpr,tpr)\n",
    "    print(logm.coef_)\n",
    "    \n",
    "plt.title('Receiver Operating Characteristic (ROC) Curve', fontsize = 16)\n",
    "plt.xlabel('FPR (False Positive Rate)', fontsize=14)\n",
    "plt.ylabel('TPR (True Positive Rate)', fontsize=14)\n",
    "\n",
    "handles, labels = ax.get_legend_handles_labels()\n",
    "mylabels = ['Without Monthly Debt/Income','With Monthly Debt/Income']\n",
    "legend = ax.legend(handles, labels = mylabels, loc = 2)\n",
    "\n",
    "## draw the \"no-skill\" line\n",
    "plt.plot([0, 1], [0, 1], color='navy', linestyle='--')"
   ]
  },
  {
   "cell_type": "markdown",
   "metadata": {},
   "source": [
    "### Borrower Rate and Real Estate Trades\n",
    "From our variable-by-variable logistic regressions above, it seemed that BorrowerRate and NumRealEstateTrades both had a weak influence on cancellation probability. Let's test it out here."
   ]
  },
  {
   "cell_type": "code",
   "execution_count": null,
   "metadata": {
    "collapsed": false
   },
   "outputs": [],
   "source": [
    "X_borrower_rate = pd.concat([X_withdebt,reduced_data[['BorrowerRate']]], axis=1)\n",
    "X_full = pd.concat([X_withdebt,reduced_data[['BorrowerRate','NumRealEstateTrades']]], axis=1)\n",
    "\n",
    "fig, ax = plt.subplots()\n",
    "\n",
    "## scale the variables first\n",
    "standard_scaler = preprocessing.StandardScaler()\n",
    "X_borrower_rate_sc = standard_scaler.fit_transform(X_borrower_rate)\n",
    "\n",
    "standard_scaler_2 = preprocessing.StandardScaler()\n",
    "X_full_sc = standard_scaler.fit_transform(X_full)\n",
    "\n",
    "for X in [X_withdebt_sc, X_borrower_rate_sc, X_full_sc]:\n",
    "    X_tr, X_te, y_tr, y_te = train_test_split(X, y, test_size=0.3, random_state=0)\n",
    "    logm = linear_model.LogisticRegression()\n",
    "    logm.fit(X_tr,y_tr)\n",
    "    probs = logm.predict_proba(X_te)\n",
    "    fpr, tpr, thresholds = metrics.roc_curve(y_te,probs[:,1])\n",
    "    plt.plot(fpr,tpr)\n",
    "    print(logm.coef_)\n",
    "    \n",
    "plt.title('Receiver Operating Characteristic (ROC) Curve', fontsize = 16)\n",
    "plt.xlabel('FPR (False Positive Rate)', fontsize=14)\n",
    "plt.ylabel('TPR (True Positive Rate)', fontsize=14)\n",
    "\n",
    "handles, labels = ax.get_legend_handles_labels()\n",
    "mylabels = ['BoolPriorProsperLoanee, DolLoanAmountRequested, PctBankcardUtil,\\n\\\n",
    "StrEmploymentStatus, DolMonthlyDebt and DolMonthlyIncome', '+ BorrowerRate','+ BorrowerRate + NumRealEstateTrades']\n",
    "legend = ax.legend(handles, labels = mylabels, loc = 2)\n",
    "\n",
    "## draw the \"no-skill\" line\n",
    "plt.plot([0, 1], [0, 1], color='navy', linestyle='--')"
   ]
  },
  {
   "cell_type": "markdown",
   "metadata": {},
   "source": [
    "The coefficient for BorrowerRate is smaller in magnitude than for other variables, but it does make a noticeable difference in the center of our ROC curve, and so I include it in the final model. For other variables such as BoolPriorProsperLoanee which only affect a small percentage of loanees (less than 10%), the effect is primarily on the fringes of the ROC curve. Even though the BorrowerRate effect is small (higher borrower rate leads to slightly higher probability of cancellation), it still provides added information for every loan."
   ]
  },
  {
   "cell_type": "markdown",
   "metadata": {},
   "source": [
    "## Are we missing any significant variables?\n",
    "As it stands, the model includes BoolPriorProsperLoanee (derived from NumPriorProsperLoans), DolLoanAmountRequested, PctBankcardUtil, StrEmploymentStatus, DolMonthlyDebt, DolMonthlyIncome, BorrowerRate and NumRealEstateTrades, for 8 variables in total (11 if we account for treating StrEmploymentStatus with dummy variables). Let's test out a few other possibly important variables to see if we're missing anything."
   ]
  },
  {
   "cell_type": "markdown",
   "metadata": {},
   "source": [
    "## Categorical variables\n",
    "We still have EnumChannelCode, EnumListingCategory and StrOccupation to evaluate, since they require prior treatment before determining their influence"
   ]
  },
  {
   "cell_type": "code",
   "execution_count": 48,
   "metadata": {
    "collapsed": false
   },
   "outputs": [
    {
     "name": "stdout",
     "output_type": "stream",
     "text": [
      "EnumChannelCode\n",
      "40000    0.347317\n",
      "50000    0.350827\n",
      "70000    0.369273\n",
      "80000    0.133648\n",
      "90000    0.341167\n",
      "Name: Cancelled, dtype: float64\n"
     ]
    }
   ],
   "source": [
    "channel_codes = reduced_data.groupby('EnumChannelCode')\n",
    "print(channel_codes['Cancelled'].mean())\n"
   ]
  },
  {
   "cell_type": "markdown",
   "metadata": {},
   "source": [
    "EnumChannelCode looks promising, but there's a catch:"
   ]
  },
  {
   "cell_type": "code",
   "execution_count": 49,
   "metadata": {
    "collapsed": false
   },
   "outputs": [
    {
     "data": {
      "text/plain": [
       "1.0"
      ]
     },
     "execution_count": 49,
     "metadata": {},
     "output_type": "execute_result"
    }
   ],
   "source": [
    "channel_codes.get_group('80000')['BoolPriorProsperLoanee'].mean()"
   ]
  },
  {
   "cell_type": "markdown",
   "metadata": {},
   "source": [
    "An EnumChannelCode of 80000 just refers to a new potential Prosper loanee, so no new information - can go ahead and discard."
   ]
  },
  {
   "cell_type": "code",
   "execution_count": 50,
   "metadata": {
    "collapsed": false
   },
   "outputs": [
    {
     "name": "stdout",
     "output_type": "stream",
     "text": [
      "EnumListingCategory\n",
      "0        81\n",
      "1     62989\n",
      "2      4453\n",
      "3      2659\n",
      "6       846\n",
      "7      6687\n",
      "8       134\n",
      "9        55\n",
      "11      112\n",
      "12       57\n",
      "13      933\n",
      "14     1627\n",
      "15     2111\n",
      "16      104\n",
      "17       60\n",
      "18      400\n",
      "19      581\n",
      "20      497\n",
      "21       31\n",
      "Name: Cancelled, dtype: int64\n",
      "EnumListingCategory\n",
      "0     0.355263\n",
      "1     0.322420\n",
      "2     0.352350\n",
      "3     0.421997\n",
      "6     0.374668\n",
      "7     0.376605\n",
      "8     0.330864\n",
      "9     0.343750\n",
      "11    0.336336\n",
      "12    0.518182\n",
      "13    0.343267\n",
      "14    0.402126\n",
      "15    0.394137\n",
      "16    0.371429\n",
      "17    0.410959\n",
      "18    0.269542\n",
      "19    0.431329\n",
      "20    0.351734\n",
      "21    0.244094\n",
      "Name: Cancelled, dtype: float64\n"
     ]
    }
   ],
   "source": [
    "listing_category = reduced_data.groupby('EnumListingCategory')\n",
    "print(listing_category['Cancelled'].sum())\n",
    "print(listing_category['Cancelled'].mean())"
   ]
  },
  {
   "cell_type": "markdown",
   "metadata": {},
   "source": [
    "Let's test out whether including StrOccupation (as opposed to just StrEmploymentStatus) can improve predictions."
   ]
  },
  {
   "cell_type": "code",
   "execution_count": 51,
   "metadata": {
    "collapsed": false
   },
   "outputs": [],
   "source": [
    "X_occupation = reduced_data['StrOccupation'].to_frame()\n",
    "X_occupation_dummies = pd.get_dummies(X_occupation)\n",
    "X_full_plus_occupation = pd.concat([X_full,X_occupation_dummies], axis=1)"
   ]
  },
  {
   "cell_type": "code",
   "execution_count": 52,
   "metadata": {
    "collapsed": false,
    "scrolled": true
   },
   "outputs": [
    {
     "name": "stdout",
     "output_type": "stream",
     "text": [
      "[[-0.28483716  0.2253451  -0.15113019 -0.02038505 -0.01987256  0.17816365\n",
      "  -0.16407718 -0.14316928  0.41307171  0.07629983 -0.09721096]]\n",
      "[[-0.13988701 -0.11243354 -0.19726335 -0.0387766  -0.06955507 -0.02288684\n",
      "  -0.02038457 -0.0288002  -0.02931209 -0.12385895 -0.01053592 -0.13081067\n",
      "  -0.19363732 -0.06645952  0.00158623 -0.02865449 -0.02834915 -0.09650302\n",
      "  -0.10054635 -0.13979454 -0.05011273 -0.01281783 -0.01849313 -0.04731646\n",
      "   0.01281186 -0.01631909 -0.01076619 -0.04727013 -0.01974722 -0.0641389\n",
      "  -0.07892993 -0.05111772 -0.03700485 -0.14938569 -0.01282368 -0.36824531\n",
      "  -0.04377648 -0.02763206 -0.12465132 -0.0722801  -0.04448395 -0.29948321\n",
      "  -0.07279584 -0.02758296 -0.0170099   0.00431347 -0.10395401 -0.08424547\n",
      "  -0.07310506 -0.0604576  -0.10677303 -0.06517976  0.00651405 -0.00700254\n",
      "  -0.0082082  -0.01255882  0.01310073 -0.01062916  0.00570835 -0.14516898\n",
      "  -0.00739753 -0.01865269 -0.05590363 -0.07799285 -0.00738032 -0.06424568\n",
      "  -0.0025789 ]]\n",
      "[[ -2.72537026e-01   2.51202990e-01  -1.47020800e-01   5.07375822e-02\n",
      "   -8.71945801e-03   7.17501457e-02  -1.51265998e-01  -1.23899513e-01\n",
      "    4.40138153e-01   6.79449587e-02  -9.04484644e-02  -1.22318391e-01\n",
      "   -8.94882999e-02  -1.84670732e-01  -3.49498618e-02  -5.18228297e-02\n",
      "   -1.79952255e-02  -1.07225912e-02  -2.23918108e-02  -2.74004768e-02\n",
      "   -1.14499078e-01  -1.24555313e-03  -1.04459456e-01  -1.87292586e-01\n",
      "   -4.01921848e-02   8.26737095e-03  -2.44403431e-02  -2.72407227e-02\n",
      "   -9.25625638e-02  -9.51468693e-02  -1.32346806e-01  -4.83430916e-02\n",
      "   -1.13050462e-02  -4.85790299e-04  -3.47169006e-02   2.77446536e-02\n",
      "    5.91900541e-03  -8.23770200e-03  -2.87657666e-02   3.27352116e-03\n",
      "   -5.37034610e-02  -7.36518523e-02  -4.94694895e-02  -2.89884719e-02\n",
      "   -1.44347597e-01   5.80130904e-06  -3.12010633e-01  -4.33994523e-02\n",
      "   -2.74189196e-02  -1.15207227e-01  -6.55230205e-02  -3.92441143e-02\n",
      "   -2.67139324e-01  -6.70890155e-02  -1.89025546e-02   1.42576109e-02\n",
      "    1.28344643e-02  -9.02320999e-02  -6.04551729e-02  -4.45214255e-02\n",
      "   -5.66937148e-02  -8.60121922e-02  -5.32480212e-02   1.02935976e-02\n",
      "   -5.34017919e-03  -4.61486559e-03  -8.47789786e-03   1.66524573e-02\n",
      "   -7.26263659e-03   8.46808716e-03  -1.23922982e-01   5.98487632e-04\n",
      "   -6.02013991e-03  -5.08435085e-02  -6.65826844e-02  -3.32801979e-03\n",
      "   -4.60011605e-02   5.71892528e-03]]\n"
     ]
    },
    {
     "name": "stderr",
     "output_type": "stream",
     "text": [
      "//anaconda/lib/python3.5/site-packages/matplotlib/axes/_axes.py:492: UserWarning: You have mixed positional and keyword arguments, some input will be discarded.\n",
      "  warnings.warn(\"You have mixed positional and keyword \"\n"
     ]
    },
    {
     "data": {
      "text/plain": [
       "[<matplotlib.lines.Line2D at 0x11f846e80>]"
      ]
     },
     "execution_count": 52,
     "metadata": {},
     "output_type": "execute_result"
    },
    {
     "data": {
      "image/png": "[encoded data removed]",
      "text/plain": [
       "<matplotlib.figure.Figure at 0x11f886ef0>"
      ]
     },
     "metadata": {},
     "output_type": "display_data"
    }
   ],
   "source": [
    "fig, ax = plt.subplots()\n",
    "\n",
    "## scale the variables first\n",
    "standard_scaler = preprocessing.StandardScaler()\n",
    "X_occupation_sc = standard_scaler.fit_transform(X_occupation_dummies)\n",
    "\n",
    "standard_scaler_2 = preprocessing.StandardScaler()\n",
    "X_full_plus_occupation_sc = standard_scaler.fit_transform(X_full_plus_occupation)\n",
    "\n",
    "for X in [X_full_sc, X_occupation_sc, X_full_plus_occupation_sc]:\n",
    "    X_tr, X_te, y_tr, y_te = train_test_split(X, y, test_size=0.3, random_state=0)\n",
    "    logm = linear_model.LogisticRegression()\n",
    "    logm.fit(X_tr,y_tr)\n",
    "    probs = logm.predict_proba(X_te)\n",
    "    fpr, tpr, thresholds = metrics.roc_curve(y_te,probs[:,1])\n",
    "    plt.plot(fpr,tpr)\n",
    "    print(logm.coef_)\n",
    "    \n",
    "plt.title('Receiver Operating Characteristic (ROC) Curve', fontsize = 16)\n",
    "plt.xlabel('FPR (False Positive Rate)', fontsize=14)\n",
    "plt.ylabel('TPR (True Positive Rate)', fontsize=14)\n",
    "\n",
    "handles, labels = ax.get_legend_handles_labels()\n",
    "mylabels = ['Previous best model','StrOccupation only','Best model + StrOccupation']\n",
    "legend = ax.legend(handles, labels = mylabels, loc = 2)\n",
    "\n",
    "## draw the \"no-skill\" line\n",
    "plt.plot([0, 1], [0, 1], color='navy', linestyle='--')"
   ]
  },
  {
   "cell_type": "markdown",
   "metadata": {},
   "source": [
    "I'm reluctant to add StrOccupation because it adds so many variables to the model, but it also shows great predictive skill both on its own and when appended to the other variables. Furthermore, adding StrOccupation as a dummy variable doesn't strongly affect the previously calculated coefficients for the other variables in our model. Let's include it for now."
   ]
  },
  {
   "cell_type": "code",
   "execution_count": 53,
   "metadata": {
    "collapsed": true
   },
   "outputs": [],
   "source": [
    "X_final = X_full_plus_occupation\n",
    "X_final_sc = X_full_plus_occupation_sc\n",
    "\n",
    "## save the final set of variables to pickle file for easy reload.\n",
    "X_final.to_pickle('theorem_reduced_finalmodel.pkl')\n",
    "y.to_pickle('cancelled.pkl')"
   ]
  },
  {
   "cell_type": "markdown",
   "metadata": {},
   "source": [
    "### Remaining boolean variables\n",
    "\n",
    "We have two remaining variables that seem to show strong predictivity of loan cancellation: BoolIsLender and BoolInGroup. The problem as shown below is that there are very few loanees for whom either variable are true, and so including them will only add predictive skill to about 1% of loans."
   ]
  },
  {
   "cell_type": "code",
   "execution_count": 54,
   "metadata": {
    "collapsed": false
   },
   "outputs": [
    {
     "name": "stdout",
     "output_type": "stream",
     "text": [
      "0    249330\n",
      "1      3139\n",
      "Name: BoolIsLender, dtype: int64\n",
      "False    251804\n",
      "True        665\n",
      "Name: BoolInGroup, dtype: int64\n"
     ]
    }
   ],
   "source": [
    "print(reduced_data['BoolIsLender'].value_counts())\n",
    "print(reduced_data['BoolInGroup'].value_counts())"
   ]
  },
  {
   "cell_type": "code",
   "execution_count": 55,
   "metadata": {
    "collapsed": false
   },
   "outputs": [
    {
     "name": "stdout",
     "output_type": "stream",
     "text": [
      "[[ -2.72537026e-01   2.51202990e-01  -1.47020800e-01   5.07375822e-02\n",
      "   -8.71945801e-03   7.17501457e-02  -1.51265998e-01  -1.23899513e-01\n",
      "    4.40138153e-01   6.79449587e-02  -9.04484644e-02  -1.22318391e-01\n",
      "   -8.94882999e-02  -1.84670732e-01  -3.49498618e-02  -5.18228297e-02\n",
      "   -1.79952255e-02  -1.07225912e-02  -2.23918108e-02  -2.74004768e-02\n",
      "   -1.14499078e-01  -1.24555313e-03  -1.04459456e-01  -1.87292586e-01\n",
      "   -4.01921848e-02   8.26737095e-03  -2.44403431e-02  -2.72407227e-02\n",
      "   -9.25625638e-02  -9.51468693e-02  -1.32346806e-01  -4.83430916e-02\n",
      "   -1.13050462e-02  -4.85790299e-04  -3.47169006e-02   2.77446536e-02\n",
      "    5.91900541e-03  -8.23770200e-03  -2.87657666e-02   3.27352116e-03\n",
      "   -5.37034610e-02  -7.36518523e-02  -4.94694895e-02  -2.89884719e-02\n",
      "   -1.44347597e-01   5.80130904e-06  -3.12010633e-01  -4.33994523e-02\n",
      "   -2.74189196e-02  -1.15207227e-01  -6.55230205e-02  -3.92441143e-02\n",
      "   -2.67139324e-01  -6.70890155e-02  -1.89025546e-02   1.42576109e-02\n",
      "    1.28344643e-02  -9.02320999e-02  -6.04551729e-02  -4.45214255e-02\n",
      "   -5.66937148e-02  -8.60121922e-02  -5.32480212e-02   1.02935976e-02\n",
      "   -5.34017919e-03  -4.61486559e-03  -8.47789786e-03   1.66524573e-02\n",
      "   -7.26263659e-03   8.46808716e-03  -1.23922982e-01   5.98487632e-04\n",
      "   -6.02013991e-03  -5.08435085e-02  -6.65826844e-02  -3.32801979e-03\n",
      "   -4.60011605e-02   5.71892528e-03]]\n",
      "[[ -2.77501438e-01   2.51101672e-01  -1.46793045e-01   5.09211847e-02\n",
      "   -1.04542177e-02   7.19252755e-02  -1.51371450e-01  -1.23545242e-01\n",
      "    4.38815144e-01   6.78987040e-02  -9.04352642e-02  -1.22544548e-01\n",
      "   -8.94991131e-02  -1.84991700e-01  -3.49218842e-02  -5.19103015e-02\n",
      "   -1.79845634e-02  -1.07170851e-02  -2.23658993e-02  -2.74345000e-02\n",
      "   -1.14541295e-01  -1.25765880e-03  -1.04418790e-01  -1.87865741e-01\n",
      "   -4.01726280e-02   8.26625059e-03  -2.45331430e-02  -2.72741378e-02\n",
      "   -9.26899768e-02  -9.52169059e-02  -1.32627291e-01  -4.83124944e-02\n",
      "   -1.12989023e-02  -4.83290183e-04  -3.48031040e-02   2.77723572e-02\n",
      "    5.73834105e-03  -8.22906814e-03  -2.87564334e-02   3.29402705e-03\n",
      "   -5.37045958e-02  -7.39118472e-02  -4.96415211e-02  -2.89718877e-02\n",
      "   -1.44295513e-01   6.02520404e-05  -3.12120682e-01  -4.34385349e-02\n",
      "   -2.75412222e-02  -1.15214796e-01  -6.56000510e-02  -3.93255515e-02\n",
      "   -2.67548836e-01  -6.70946894e-02  -1.89113325e-02   1.41399259e-02\n",
      "    1.28249635e-02  -9.03059800e-02  -6.05425926e-02  -4.45627002e-02\n",
      "   -5.67686927e-02  -8.60021826e-02  -5.33092808e-02   1.03469051e-02\n",
      "   -5.31803495e-03  -4.72234080e-03  -8.58509210e-03   1.66616842e-02\n",
      "   -7.31649782e-03   8.47794090e-03  -1.23931510e-01   6.14618184e-04\n",
      "   -5.96250175e-03  -5.08380918e-02  -6.65886171e-02  -3.29143513e-03\n",
      "   -4.59931801e-02   5.71701679e-03   1.41203095e-02   1.19666991e-02]]\n"
     ]
    },
    {
     "name": "stderr",
     "output_type": "stream",
     "text": [
      "//anaconda/lib/python3.5/site-packages/matplotlib/axes/_axes.py:492: UserWarning: You have mixed positional and keyword arguments, some input will be discarded.\n",
      "  warnings.warn(\"You have mixed positional and keyword \"\n"
     ]
    },
    {
     "data": {
      "text/plain": [
       "[<matplotlib.lines.Line2D at 0x121c7d080>]"
      ]
     },
     "execution_count": 55,
     "metadata": {},
     "output_type": "execute_result"
    },
    {
     "data": {
      "image/png": "[encoded data removed]",
      "text/plain": [
       "<matplotlib.figure.Figure at 0x11f850240>"
      ]
     },
     "metadata": {},
     "output_type": "display_data"
    }
   ],
   "source": [
    "X_bool_test= pd.concat([X_final,reduced_data[['BoolIsLender','BoolInGroup']]], axis=1)\n",
    "\n",
    "fig, ax = plt.subplots()\n",
    "\n",
    "## scale the variables first\n",
    "standard_scaler = preprocessing.StandardScaler()\n",
    "X_bool_test_sc = standard_scaler.fit_transform(X_bool_test)\n",
    "\n",
    "for X in [X_final_sc, X_bool_test_sc]:\n",
    "    X_tr, X_te, y_tr, y_te = train_test_split(X, y, test_size=0.3, random_state=0)\n",
    "    logm = linear_model.LogisticRegression()\n",
    "    logm.fit(X_tr,y_tr)\n",
    "    probs = logm.predict_proba(X_te)\n",
    "    fpr, tpr, thresholds = metrics.roc_curve(y_te,probs[:,1])\n",
    "    plt.plot(fpr,tpr)\n",
    "    print(logm.coef_)\n",
    "    \n",
    "plt.title('Receiver Operating Characteristic (ROC) Curve', fontsize = 16)\n",
    "plt.xlabel('FPR (False Positive Rate)', fontsize=14)\n",
    "plt.ylabel('TPR (True Positive Rate)', fontsize=14)\n",
    "\n",
    "handles, labels = ax.get_legend_handles_labels()\n",
    "mylabels = ['Core model without booleans','Core model with booleans']\n",
    "legend = ax.legend(handles, labels = mylabels, loc = 2)\n",
    "\n",
    "## draw the \"no-skill\" line\n",
    "plt.plot([0, 1], [0, 1], color='navy', linestyle='--')"
   ]
  },
  {
   "cell_type": "markdown",
   "metadata": {},
   "source": [
    "No perceptible difference exists between including or excluding BoolIsLender and BoolInGroup, so we leave them out of the model."
   ]
  },
  {
   "cell_type": "markdown",
   "metadata": {},
   "source": [
    "### Remaining numerical variables\n",
    "\n",
    "A list of numerical variables that we haven't put into the model yet:\n",
    "DolTotalBalanceOnPublicRecords, NumMonthsTerm, NumMonthsEmployed, NumPriorProsperLoansLatePayments, NumPriorProsperLoans61dpd, NumTradesOpened6, NumOpenTradesDelinqOrPastDue6, NumCurrentDelinquencies, NumPublicRecordsLast10Years, NumPublicRecords12, DolAmountDelinquent, DaysSinceFirstCredit"
   ]
  },
  {
   "cell_type": "markdown",
   "metadata": {},
   "source": [
    "### DaysSinceFirstCredit and NumMonthsEmployed\n",
    "As shown below, these two variables are unsurprisingly highly correlated."
   ]
  },
  {
   "cell_type": "code",
   "execution_count": 56,
   "metadata": {
    "collapsed": false
   },
   "outputs": [
    {
     "data": {
      "text/plain": [
       "<matplotlib.axes._subplots.AxesSubplot at 0x11fa2fb38>"
      ]
     },
     "execution_count": 56,
     "metadata": {},
     "output_type": "execute_result"
    },
    {
     "data": {
      "image/png": "[encoded data removed]",
      "text/plain": [
       "<matplotlib.figure.Figure at 0x104eee6d8>"
      ]
     },
     "metadata": {},
     "output_type": "display_data"
    }
   ],
   "source": [
    "sns.regplot(reduced_data['DaysSinceFirstCredit'],reduced_data['NumMonthsEmployed'],x_bins=100)"
   ]
  },
  {
   "cell_type": "markdown",
   "metadata": {},
   "source": [
    "However, there's clearly something unusual going on at both extremes with old and young lenders, as shown by repeating the regression with each of these two variables below."
   ]
  },
  {
   "cell_type": "code",
   "execution_count": 57,
   "metadata": {
    "collapsed": false,
    "scrolled": true
   },
   "outputs": [
    {
     "data": {
      "image/png": "[encoded data removed]",
      "text/plain": [
       "<matplotlib.figure.Figure at 0x132cd6b38>"
      ]
     },
     "metadata": {},
     "output_type": "display_data"
    }
   ],
   "source": [
    "date_vars = reduced_data[['NumMonthsEmployed','DaysSinceFirstCredit']]\n",
    "\n",
    "## create one big figure behind subpanels\n",
    "fig, axes = plt.subplots(2,1,figsize=(8,8), facecolor='w')\n",
    "\n",
    "## cycle through each numeric variable and logistic regress with cancellation (excluding cancellation itself)\n",
    "for ax, var in zip(axes.reshape(-1),date_vars.columns.values):\n",
    "    sns.regplot(ax=ax, x=var, y=\"Cancelled\", data=reduced_data, logistic=True, ci = None, x_bins = 200)"
   ]
  },
  {
   "cell_type": "markdown",
   "metadata": {},
   "source": [
    "These variables are pretty highly correlated so let's just use DaysSinceFirstCredit which doesn't have NaNs to save time (NumMonthsEmployed has a few NaNs for self-employed loanees). The relation looks parabolic, but instead let's see what happens if we treat it as a categorical variable."
   ]
  },
  {
   "cell_type": "code",
   "execution_count": 58,
   "metadata": {
    "collapsed": false
   },
   "outputs": [
    {
     "name": "stdout",
     "output_type": "stream",
     "text": [
      "Young loanee cancellation rate (<5000 days since first credit): 0.389867753406\n",
      "False    0.900863\n",
      "True     0.099137\n",
      "Name: DaysSinceFirstCredit, dtype: float64\n",
      "Intermediate loanee cancellation rate (5000-12500 days since first credit): 0.323552189592\n",
      "True     0.833659\n",
      "False    0.166341\n",
      "Name: DaysSinceFirstCredit, dtype: float64\n",
      "Old loanee cancellation rate (>12500 days since first credit): 0.386666666667\n",
      "False    0.932863\n",
      "True     0.067137\n",
      "Name: DaysSinceFirstCredit, dtype: float64\n"
     ]
    }
   ],
   "source": [
    "## let's calculate the fraction of lenders who fall into arbitrary categories of \"young\" and \"old\", and whether\n",
    "## these arbitrarily chosen age groups have different characteristics.\n",
    "young_pct = (reduced_data['DaysSinceFirstCredit'] < 4000).value_counts(normalize = True)\n",
    "med_pct = ((reduced_data['DaysSinceFirstCredit'] > 4000) &\\\n",
    "           (reduced_data['DaysSinceFirstCredit'] < 12500)).value_counts(normalize = True)\n",
    "old_pct = (reduced_data['DaysSinceFirstCredit'] > 12500).value_counts(normalize = True)\n",
    "\n",
    "young_cancel = reduced_data[reduced_data['DaysSinceFirstCredit'] < 4000]['Cancelled'].mean()\n",
    "med_cancel = reduced_data[(reduced_data['DaysSinceFirstCredit'] > 4000) &\\\n",
    "                          (reduced_data['DaysSinceFirstCredit'] < 12500)]['Cancelled'].mean()\n",
    "old_cancel = reduced_data[reduced_data['DaysSinceFirstCredit'] > 12500]['Cancelled'].mean()\n",
    "\n",
    "## \n",
    "print(\"Young loanee cancellation rate (<5000 days since first credit):\",young_cancel)\n",
    "print(young_pct)\n",
    "print(\"Intermediate loanee cancellation rate (5000-12500 days since first credit):\", med_cancel)\n",
    "print(med_pct)\n",
    "print(\"Old loanee cancellation rate (>12500 days since first credit):\",old_cancel)\n",
    "print(old_pct)"
   ]
  },
  {
   "cell_type": "markdown",
   "metadata": {},
   "source": [
    "Somewhat promising - young and old lenders have a cancellation percentage closer to 39%, whereas loanees of intermediate age are closer to 32%. Let's create a couple of categorical variables and see if they say anything useful."
   ]
  },
  {
   "cell_type": "code",
   "execution_count": 59,
   "metadata": {
    "collapsed": false
   },
   "outputs": [],
   "source": [
    "## only two categorical variables below because only need N-1 variables for N categories.\n",
    "reduced_data['BoolYoungLoanee'] = reduced_data['DaysSinceFirstCredit'] < 4000\n",
    "reduced_data['BoolOldLoanee'] = reduced_data['DaysSinceFirstCredit'] > 12500"
   ]
  },
  {
   "cell_type": "code",
   "execution_count": 60,
   "metadata": {
    "collapsed": false
   },
   "outputs": [
    {
     "name": "stdout",
     "output_type": "stream",
     "text": [
      "[[ -2.72537026e-01   2.51202990e-01  -1.47020800e-01   5.07375822e-02\n",
      "   -8.71945801e-03   7.17501457e-02  -1.51265998e-01  -1.23899513e-01\n",
      "    4.40138153e-01   6.79449587e-02  -9.04484644e-02  -1.22318391e-01\n",
      "   -8.94882999e-02  -1.84670732e-01  -3.49498618e-02  -5.18228297e-02\n",
      "   -1.79952255e-02  -1.07225912e-02  -2.23918108e-02  -2.74004768e-02\n",
      "   -1.14499078e-01  -1.24555313e-03  -1.04459456e-01  -1.87292586e-01\n",
      "   -4.01921848e-02   8.26737095e-03  -2.44403431e-02  -2.72407227e-02\n",
      "   -9.25625638e-02  -9.51468693e-02  -1.32346806e-01  -4.83430916e-02\n",
      "   -1.13050462e-02  -4.85790299e-04  -3.47169006e-02   2.77446536e-02\n",
      "    5.91900541e-03  -8.23770200e-03  -2.87657666e-02   3.27352116e-03\n",
      "   -5.37034610e-02  -7.36518523e-02  -4.94694895e-02  -2.89884719e-02\n",
      "   -1.44347597e-01   5.80130904e-06  -3.12010633e-01  -4.33994523e-02\n",
      "   -2.74189196e-02  -1.15207227e-01  -6.55230205e-02  -3.92441143e-02\n",
      "   -2.67139324e-01  -6.70890155e-02  -1.89025546e-02   1.42576109e-02\n",
      "    1.28344643e-02  -9.02320999e-02  -6.04551729e-02  -4.45214255e-02\n",
      "   -5.66937148e-02  -8.60121922e-02  -5.32480212e-02   1.02935976e-02\n",
      "   -5.34017919e-03  -4.61486559e-03  -8.47789786e-03   1.66524573e-02\n",
      "   -7.26263659e-03   8.46808716e-03  -1.23922982e-01   5.98487632e-04\n",
      "   -6.02013991e-03  -5.08435085e-02  -6.65826844e-02  -3.32801979e-03\n",
      "   -4.60011605e-02   5.71892528e-03]]\n",
      "[[ 0.29078678  0.26956999]]\n",
      "[[ -2.70323463e-01   2.52892393e-01  -1.44329362e-01   5.23994175e-02\n",
      "   -8.13246034e-03   6.92331194e-02  -1.50999440e-01  -1.20250351e-01\n",
      "    4.40651717e-01   6.75626357e-02  -8.05918810e-02  -1.22701022e-01\n",
      "   -8.91444481e-02  -1.84887970e-01  -3.52269067e-02  -5.21727618e-02\n",
      "   -1.80168620e-02  -1.08753067e-02  -2.25082020e-02  -2.73220056e-02\n",
      "   -1.13536935e-01  -1.63144275e-03  -1.03589953e-01  -1.90915239e-01\n",
      "   -4.11345259e-02   7.65999488e-03  -2.49071115e-02  -2.78077476e-02\n",
      "   -9.33481375e-02  -9.60818739e-02  -1.33211913e-01  -4.80195613e-02\n",
      "   -1.08368764e-02  -2.44039257e-03  -3.54439698e-02   2.73632912e-02\n",
      "    5.26998804e-03  -8.73582832e-03  -2.93163134e-02   3.06637311e-03\n",
      "   -5.34245605e-02  -7.43238968e-02  -4.90946570e-02  -2.85733304e-02\n",
      "   -1.44356365e-01  -1.74883856e-03  -3.12617278e-01  -4.39336609e-02\n",
      "   -2.76819576e-02  -1.14101368e-01  -6.48035317e-02  -3.91272737e-02\n",
      "   -2.66155144e-01  -6.72777188e-02  -1.84637873e-02   1.40780101e-02\n",
      "    1.25304212e-02  -9.01083914e-02  -6.05350380e-02  -4.62963835e-02\n",
      "   -5.71891473e-02  -8.64311645e-02  -5.22873473e-02   9.18185114e-03\n",
      "   -6.75072441e-03  -5.84162230e-03  -9.83197427e-03   1.55269663e-02\n",
      "   -8.49538174e-03   8.06173650e-03  -1.22865068e-01   5.45702541e-05\n",
      "   -6.21020850e-03  -5.11152861e-02  -6.63841712e-02  -3.56729545e-03\n",
      "   -4.59632170e-02   3.85527685e-03   6.26813150e-02   4.16207750e-02]]\n"
     ]
    },
    {
     "name": "stderr",
     "output_type": "stream",
     "text": [
      "//anaconda/lib/python3.5/site-packages/matplotlib/axes/_axes.py:492: UserWarning: You have mixed positional and keyword arguments, some input will be discarded.\n",
      "  warnings.warn(\"You have mixed positional and keyword \"\n"
     ]
    },
    {
     "data": {
      "text/plain": [
       "[<matplotlib.lines.Line2D at 0x121ef2898>]"
      ]
     },
     "execution_count": 60,
     "metadata": {},
     "output_type": "execute_result"
    },
    {
     "data": {
      "image/png": "[encoded data removed]",
      "text/plain": [
       "<matplotlib.figure.Figure at 0x12148efd0>"
      ]
     },
     "metadata": {},
     "output_type": "display_data"
    }
   ],
   "source": [
    "BoolAge = reduced_data[['BoolYoungLoanee','BoolOldLoanee']]\n",
    "X_age = pd.concat([X_final,BoolAge], axis=1)\n",
    "\n",
    "fig, ax = plt.subplots()\n",
    "\n",
    "## scale the variables first\n",
    "standard_scaler = preprocessing.StandardScaler()\n",
    "X_age_sc = standard_scaler.fit_transform(X_age)\n",
    "\n",
    "for X in [X_final_sc, BoolAge, X_age_sc]:\n",
    "    X_tr, X_te, y_tr, y_te = train_test_split(X, y, test_size=0.3, random_state=0)\n",
    "    logm = linear_model.LogisticRegression()\n",
    "    logm.fit(X_tr,y_tr)\n",
    "    probs = logm.predict_proba(X_te)\n",
    "    fpr, tpr, thresholds = metrics.roc_curve(y_te,probs[:,1])\n",
    "    plt.plot(fpr,tpr)\n",
    "    print(logm.coef_)\n",
    "    \n",
    "plt.title('Receiver Operating Characteristic (ROC) Curve', fontsize = 16)\n",
    "plt.xlabel('FPR (False Positive Rate)', fontsize=14)\n",
    "plt.ylabel('TPR (True Positive Rate)', fontsize=14)\n",
    "\n",
    "handles, labels = ax.get_legend_handles_labels()\n",
    "mylabels = ['Final model','Age categories alone','Final model with age categories']\n",
    "legend = ax.legend(handles, labels = mylabels, loc = 2)\n",
    "\n",
    "## draw the \"no-skill\" line\n",
    "plt.plot([0, 1], [0, 1], color='navy', linestyle='--')"
   ]
  },
  {
   "cell_type": "markdown",
   "metadata": {},
   "source": [
    "The improvement to the existing model is minor compared to the other variables we've explored, but still noticeable. Let's add BoolYoungLoanee and BoolOldLoanee to the final model."
   ]
  },
  {
   "cell_type": "code",
   "execution_count": 61,
   "metadata": {
    "collapsed": true
   },
   "outputs": [],
   "source": [
    "X_final['BoolYoungLoanee'] = reduced_data['BoolYoungLoanee']\n",
    "X_final['BoolOldLoanee'] = reduced_data['BoolOldLoanee']\n",
    "\n",
    "## save the final set of variables to pickle file for easy reload.\n",
    "X_final.to_pickle('theorem_reduced_finalmodel.pkl')"
   ]
  },
  {
   "cell_type": "markdown",
   "metadata": {},
   "source": [
    "### NumPublicRecordsLast10Years and NumPublicRecords12\n",
    "These two variables are tricky to deal with because most loanees have no public records (especially not in the last 12 months)."
   ]
  },
  {
   "cell_type": "code",
   "execution_count": 62,
   "metadata": {
    "collapsed": false
   },
   "outputs": [
    {
     "name": "stdout",
     "output_type": "stream",
     "text": [
      "0     0.756754\n",
      "1     0.212640\n",
      "2     0.021040\n",
      "3     0.005422\n",
      "4     0.002099\n",
      "5     0.000860\n",
      "6     0.000499\n",
      "7     0.000265\n",
      "8     0.000154\n",
      "9     0.000091\n",
      "11    0.000032\n",
      "14    0.000020\n",
      "10    0.000020\n",
      "12    0.000020\n",
      "21    0.000012\n",
      "15    0.000012\n",
      "13    0.000008\n",
      "18    0.000008\n",
      "38    0.000008\n",
      "44    0.000004\n",
      "16    0.000004\n",
      "17    0.000004\n",
      "19    0.000004\n",
      "26    0.000004\n",
      "28    0.000004\n",
      "37    0.000004\n",
      "42    0.000004\n",
      "59    0.000004\n",
      "Name: NumPublicRecordsLast10Years, dtype: float64\n",
      "0    0.995992\n",
      "1    0.003541\n",
      "2    0.000364\n",
      "3    0.000071\n",
      "4    0.000028\n",
      "6    0.000004\n",
      "Name: NumPublicRecords12, dtype: float64\n"
     ]
    }
   ],
   "source": [
    "print(reduced_data['NumPublicRecordsLast10Years'].value_counts(normalize = True))\n",
    "print(reduced_data['NumPublicRecords12'].value_counts(normalize = True))"
   ]
  },
  {
   "cell_type": "code",
   "execution_count": 63,
   "metadata": {
    "collapsed": false
   },
   "outputs": [
    {
     "data": {
      "text/plain": [
       "<matplotlib.axes._subplots.AxesSubplot at 0x132cd6668>"
      ]
     },
     "execution_count": 63,
     "metadata": {},
     "output_type": "execute_result"
    },
    {
     "data": {
      "image/png": "[encoded data removed]",
      "text/plain": [
       "<matplotlib.figure.Figure at 0x11fa4dc88>"
      ]
     },
     "metadata": {},
     "output_type": "display_data"
    }
   ],
   "source": [
    "## unsurprisingly, there is a weak correlation between the number of public records in the last 12 months and in the last 10 years.\n",
    "sns.regplot(reduced_data['NumPublicRecordsLast10Years'],reduced_data['NumPublicRecords12'],x_bins=2000)"
   ]
  },
  {
   "cell_type": "code",
   "execution_count": 64,
   "metadata": {
    "collapsed": false
   },
   "outputs": [
    {
     "data": {
      "image/png": "[encoded data removed]",
      "text/plain": [
       "<matplotlib.figure.Figure at 0x1220a9908>"
      ]
     },
     "metadata": {},
     "output_type": "display_data"
    }
   ],
   "source": [
    "date_vars = reduced_data[['NumPublicRecordsLast10Years','NumPublicRecords12']]\n",
    "\n",
    "## create one big figure behind subpanels\n",
    "fig, axes = plt.subplots(2,1,figsize=(8,8), facecolor='w')\n",
    "\n",
    "## cycle through each numeric variable and logistic regress with cancellation (excluding cancellation itself)\n",
    "for ax, var in zip(axes.reshape(-1),date_vars.columns.values):\n",
    "    sns.regplot(ax=ax, x=var, y=\"Cancelled\", data=reduced_data, logistic=True, ci = None, x_bins = 2000)"
   ]
  },
  {
   "cell_type": "code",
   "execution_count": 65,
   "metadata": {
    "collapsed": false
   },
   "outputs": [
    {
     "name": "stdout",
     "output_type": "stream",
     "text": [
      "Past 10 years:\n",
      "Non-zero public records 0.309548622419\n",
      "No public records 0.342342861031\n",
      "Past 12 months:\n",
      "Non-zero public records 0.350790513834\n",
      "No public records 0.334299701341\n"
     ]
    }
   ],
   "source": [
    "print('Past 10 years:')\n",
    "print('Non-zero public records', reduced_data[reduced_data['NumPublicRecordsLast10Years'] > 0]['Cancelled'].mean())\n",
    "print('No public records', reduced_data[reduced_data['NumPublicRecordsLast10Years'] == 0]['Cancelled'].mean())\n",
    "\n",
    "print('Past 12 months:')\n",
    "print('Non-zero public records', reduced_data[reduced_data['NumPublicRecords12'] > 0]['Cancelled'].mean())\n",
    "print('No public records', reduced_data[reduced_data['NumPublicRecords12'] == 0]['Cancelled'].mean())"
   ]
  },
  {
   "cell_type": "markdown",
   "metadata": {},
   "source": [
    "NumPublicRecords12 looks useless for our purposes. Meanwhile, the fit for NumPublicRecordsLast10Years is lackluster for high numbers of records, but just looking at whether they have any records or not seems potentially promising."
   ]
  },
  {
   "cell_type": "code",
   "execution_count": 66,
   "metadata": {
    "collapsed": true
   },
   "outputs": [],
   "source": [
    "reduced_data['BoolNonzeroPublicRecordsLast10Years'] = reduced_data['NumPublicRecordsLast10Years'] > 0"
   ]
  },
  {
   "cell_type": "code",
   "execution_count": 67,
   "metadata": {
    "collapsed": false
   },
   "outputs": [
    {
     "data": {
      "text/html": [
       "<div>\n",
       "<table border=\"1\" class=\"dataframe\">\n",
       "  <thead>\n",
       "    <tr style=\"text-align: right;\">\n",
       "      <th></th>\n",
       "      <th>BoolPriorProsperLoanee</th>\n",
       "      <th>DolLoanAmountRequested</th>\n",
       "      <th>PctBankcardUtil</th>\n",
       "      <th>StrEmploymentStatus_Employed</th>\n",
       "      <th>StrEmploymentStatus_Full-time</th>\n",
       "      <th>StrEmploymentStatus_Other</th>\n",
       "      <th>StrEmploymentStatus_Self-employed</th>\n",
       "      <th>DolMonthlyDebt</th>\n",
       "      <th>DolMonthlyIncome</th>\n",
       "      <th>BorrowerRate</th>\n",
       "      <th>NumRealEstateTrades</th>\n",
       "      <th>StrOccupation_Accountant/CPA</th>\n",
       "      <th>StrOccupation_Administrative Assistant</th>\n",
       "      <th>StrOccupation_Analyst</th>\n",
       "      <th>StrOccupation_Architect</th>\n",
       "      <th>StrOccupation_Attorney</th>\n",
       "      <th>StrOccupation_Biologist</th>\n",
       "      <th>StrOccupation_Bus Driver</th>\n",
       "      <th>StrOccupation_Car Dealer</th>\n",
       "      <th>StrOccupation_Chemist</th>\n",
       "      <th>StrOccupation_Civil Service</th>\n",
       "      <th>StrOccupation_Clergy</th>\n",
       "      <th>StrOccupation_Clerical</th>\n",
       "      <th>StrOccupation_Computer Programmer</th>\n",
       "      <th>StrOccupation_Construction</th>\n",
       "      <th>StrOccupation_Dentist</th>\n",
       "      <th>StrOccupation_Doctor</th>\n",
       "      <th>StrOccupation_Engineer - Chemical</th>\n",
       "      <th>StrOccupation_Engineer - Electrical</th>\n",
       "      <th>StrOccupation_Engineer - Mechanical</th>\n",
       "      <th>StrOccupation_Executive</th>\n",
       "      <th>StrOccupation_Fireman</th>\n",
       "      <th>StrOccupation_Flight Attendant</th>\n",
       "      <th>StrOccupation_Food Service</th>\n",
       "      <th>StrOccupation_Food Service Management</th>\n",
       "      <th>StrOccupation_Homemaker</th>\n",
       "      <th>StrOccupation_Investor</th>\n",
       "      <th>StrOccupation_Judge</th>\n",
       "      <th>StrOccupation_Laborer</th>\n",
       "      <th>StrOccupation_Landscaping</th>\n",
       "      <th>StrOccupation_Medical Technician</th>\n",
       "      <th>StrOccupation_Military Enlisted</th>\n",
       "      <th>StrOccupation_Military Officer</th>\n",
       "      <th>StrOccupation_Nurse (LPN)</th>\n",
       "      <th>StrOccupation_Nurse (RN)</th>\n",
       "      <th>StrOccupation_Nurse's Aide</th>\n",
       "      <th>StrOccupation_Other</th>\n",
       "      <th>StrOccupation_Pharmacist</th>\n",
       "      <th>StrOccupation_Pilot - Private/Commercial</th>\n",
       "      <th>StrOccupation_Police Officer/Correction Officer</th>\n",
       "      <th>StrOccupation_Postal Service</th>\n",
       "      <th>StrOccupation_Principal</th>\n",
       "      <th>StrOccupation_Professional</th>\n",
       "      <th>StrOccupation_Professor</th>\n",
       "      <th>StrOccupation_Psychologist</th>\n",
       "      <th>StrOccupation_Realtor</th>\n",
       "      <th>StrOccupation_Religious</th>\n",
       "      <th>StrOccupation_Retail Management</th>\n",
       "      <th>StrOccupation_Sales - Commission</th>\n",
       "      <th>StrOccupation_Sales - Retail</th>\n",
       "      <th>StrOccupation_Scientist</th>\n",
       "      <th>StrOccupation_Skilled Labor</th>\n",
       "      <th>StrOccupation_Social Worker</th>\n",
       "      <th>StrOccupation_Student - College Freshman</th>\n",
       "      <th>StrOccupation_Student - College Graduate Student</th>\n",
       "      <th>StrOccupation_Student - College Junior</th>\n",
       "      <th>StrOccupation_Student - College Senior</th>\n",
       "      <th>StrOccupation_Student - College Sophomore</th>\n",
       "      <th>StrOccupation_Student - Community College</th>\n",
       "      <th>StrOccupation_Student - Technical School</th>\n",
       "      <th>StrOccupation_Teacher</th>\n",
       "      <th>StrOccupation_Teacher's Aide</th>\n",
       "      <th>StrOccupation_Tradesman - Carpenter</th>\n",
       "      <th>StrOccupation_Tradesman - Electrician</th>\n",
       "      <th>StrOccupation_Tradesman - Mechanic</th>\n",
       "      <th>StrOccupation_Tradesman - Plumber</th>\n",
       "      <th>StrOccupation_Truck Driver</th>\n",
       "      <th>StrOccupation_Waiter/Waitress</th>\n",
       "      <th>BoolYoungLoanee</th>\n",
       "      <th>BoolOldLoanee</th>\n",
       "      <th>BoolNonzeroPublicRecordsLast10Years</th>\n",
       "    </tr>\n",
       "    <tr>\n",
       "      <th>ListingNumber</th>\n",
       "      <th></th>\n",
       "      <th></th>\n",
       "      <th></th>\n",
       "      <th></th>\n",
       "      <th></th>\n",
       "      <th></th>\n",
       "      <th></th>\n",
       "      <th></th>\n",
       "      <th></th>\n",
       "      <th></th>\n",
       "      <th></th>\n",
       "      <th></th>\n",
       "      <th></th>\n",
       "      <th></th>\n",
       "      <th></th>\n",
       "      <th></th>\n",
       "      <th></th>\n",
       "      <th></th>\n",
       "      <th></th>\n",
       "      <th></th>\n",
       "      <th></th>\n",
       "      <th></th>\n",
       "      <th></th>\n",
       "      <th></th>\n",
       "      <th></th>\n",
       "      <th></th>\n",
       "      <th></th>\n",
       "      <th></th>\n",
       "      <th></th>\n",
       "      <th></th>\n",
       "      <th></th>\n",
       "      <th></th>\n",
       "      <th></th>\n",
       "      <th></th>\n",
       "      <th></th>\n",
       "      <th></th>\n",
       "      <th></th>\n",
       "      <th></th>\n",
       "      <th></th>\n",
       "      <th></th>\n",
       "      <th></th>\n",
       "      <th></th>\n",
       "      <th></th>\n",
       "      <th></th>\n",
       "      <th></th>\n",
       "      <th></th>\n",
       "      <th></th>\n",
       "      <th></th>\n",
       "      <th></th>\n",
       "      <th></th>\n",
       "      <th></th>\n",
       "      <th></th>\n",
       "      <th></th>\n",
       "      <th></th>\n",
       "      <th></th>\n",
       "      <th></th>\n",
       "      <th></th>\n",
       "      <th></th>\n",
       "      <th></th>\n",
       "      <th></th>\n",
       "      <th></th>\n",
       "      <th></th>\n",
       "      <th></th>\n",
       "      <th></th>\n",
       "      <th></th>\n",
       "      <th></th>\n",
       "      <th></th>\n",
       "      <th></th>\n",
       "      <th></th>\n",
       "      <th></th>\n",
       "      <th></th>\n",
       "      <th></th>\n",
       "      <th></th>\n",
       "      <th></th>\n",
       "      <th></th>\n",
       "      <th></th>\n",
       "      <th></th>\n",
       "      <th></th>\n",
       "      <th></th>\n",
       "      <th></th>\n",
       "      <th></th>\n",
       "    </tr>\n",
       "  </thead>\n",
       "  <tbody>\n",
       "    <tr>\n",
       "      <th>973605</th>\n",
       "      <td>False</td>\n",
       "      <td>15000.0</td>\n",
       "      <td>0.97</td>\n",
       "      <td>1</td>\n",
       "      <td>0</td>\n",
       "      <td>0</td>\n",
       "      <td>0</td>\n",
       "      <td>1242</td>\n",
       "      <td>6000.0000</td>\n",
       "      <td>0.1620</td>\n",
       "      <td>2</td>\n",
       "      <td>0</td>\n",
       "      <td>0</td>\n",
       "      <td>0</td>\n",
       "      <td>0</td>\n",
       "      <td>0</td>\n",
       "      <td>0</td>\n",
       "      <td>0</td>\n",
       "      <td>0</td>\n",
       "      <td>0</td>\n",
       "      <td>0</td>\n",
       "      <td>0</td>\n",
       "      <td>0</td>\n",
       "      <td>0</td>\n",
       "      <td>0</td>\n",
       "      <td>0</td>\n",
       "      <td>0</td>\n",
       "      <td>0</td>\n",
       "      <td>0</td>\n",
       "      <td>0</td>\n",
       "      <td>0</td>\n",
       "      <td>0</td>\n",
       "      <td>0</td>\n",
       "      <td>0</td>\n",
       "      <td>0</td>\n",
       "      <td>0</td>\n",
       "      <td>0</td>\n",
       "      <td>0</td>\n",
       "      <td>0</td>\n",
       "      <td>0</td>\n",
       "      <td>0</td>\n",
       "      <td>0</td>\n",
       "      <td>0</td>\n",
       "      <td>0</td>\n",
       "      <td>0</td>\n",
       "      <td>0</td>\n",
       "      <td>0</td>\n",
       "      <td>0</td>\n",
       "      <td>0</td>\n",
       "      <td>0</td>\n",
       "      <td>0</td>\n",
       "      <td>0</td>\n",
       "      <td>0</td>\n",
       "      <td>0</td>\n",
       "      <td>0</td>\n",
       "      <td>0</td>\n",
       "      <td>0</td>\n",
       "      <td>0</td>\n",
       "      <td>0</td>\n",
       "      <td>0</td>\n",
       "      <td>0</td>\n",
       "      <td>0</td>\n",
       "      <td>0</td>\n",
       "      <td>0</td>\n",
       "      <td>0</td>\n",
       "      <td>0</td>\n",
       "      <td>0</td>\n",
       "      <td>0</td>\n",
       "      <td>0</td>\n",
       "      <td>0</td>\n",
       "      <td>0</td>\n",
       "      <td>0</td>\n",
       "      <td>0</td>\n",
       "      <td>0</td>\n",
       "      <td>1</td>\n",
       "      <td>0</td>\n",
       "      <td>0</td>\n",
       "      <td>0</td>\n",
       "      <td>False</td>\n",
       "      <td>True</td>\n",
       "      <td>False</td>\n",
       "    </tr>\n",
       "    <tr>\n",
       "      <th>981099</th>\n",
       "      <td>False</td>\n",
       "      <td>15000.0</td>\n",
       "      <td>0.48</td>\n",
       "      <td>0</td>\n",
       "      <td>0</td>\n",
       "      <td>1</td>\n",
       "      <td>0</td>\n",
       "      <td>2289</td>\n",
       "      <td>7916.6667</td>\n",
       "      <td>0.1585</td>\n",
       "      <td>2</td>\n",
       "      <td>0</td>\n",
       "      <td>0</td>\n",
       "      <td>0</td>\n",
       "      <td>0</td>\n",
       "      <td>0</td>\n",
       "      <td>0</td>\n",
       "      <td>0</td>\n",
       "      <td>0</td>\n",
       "      <td>0</td>\n",
       "      <td>0</td>\n",
       "      <td>0</td>\n",
       "      <td>0</td>\n",
       "      <td>0</td>\n",
       "      <td>0</td>\n",
       "      <td>0</td>\n",
       "      <td>0</td>\n",
       "      <td>0</td>\n",
       "      <td>0</td>\n",
       "      <td>0</td>\n",
       "      <td>0</td>\n",
       "      <td>0</td>\n",
       "      <td>0</td>\n",
       "      <td>0</td>\n",
       "      <td>0</td>\n",
       "      <td>0</td>\n",
       "      <td>0</td>\n",
       "      <td>0</td>\n",
       "      <td>0</td>\n",
       "      <td>0</td>\n",
       "      <td>0</td>\n",
       "      <td>0</td>\n",
       "      <td>0</td>\n",
       "      <td>0</td>\n",
       "      <td>0</td>\n",
       "      <td>0</td>\n",
       "      <td>0</td>\n",
       "      <td>0</td>\n",
       "      <td>0</td>\n",
       "      <td>0</td>\n",
       "      <td>0</td>\n",
       "      <td>0</td>\n",
       "      <td>0</td>\n",
       "      <td>0</td>\n",
       "      <td>0</td>\n",
       "      <td>0</td>\n",
       "      <td>0</td>\n",
       "      <td>0</td>\n",
       "      <td>0</td>\n",
       "      <td>0</td>\n",
       "      <td>0</td>\n",
       "      <td>0</td>\n",
       "      <td>0</td>\n",
       "      <td>0</td>\n",
       "      <td>0</td>\n",
       "      <td>0</td>\n",
       "      <td>0</td>\n",
       "      <td>0</td>\n",
       "      <td>0</td>\n",
       "      <td>0</td>\n",
       "      <td>0</td>\n",
       "      <td>0</td>\n",
       "      <td>0</td>\n",
       "      <td>0</td>\n",
       "      <td>0</td>\n",
       "      <td>0</td>\n",
       "      <td>0</td>\n",
       "      <td>0</td>\n",
       "      <td>False</td>\n",
       "      <td>True</td>\n",
       "      <td>False</td>\n",
       "    </tr>\n",
       "    <tr>\n",
       "      <th>1025766</th>\n",
       "      <td>True</td>\n",
       "      <td>4000.0</td>\n",
       "      <td>0.93</td>\n",
       "      <td>1</td>\n",
       "      <td>0</td>\n",
       "      <td>0</td>\n",
       "      <td>0</td>\n",
       "      <td>911</td>\n",
       "      <td>2083.3333</td>\n",
       "      <td>0.2085</td>\n",
       "      <td>0</td>\n",
       "      <td>0</td>\n",
       "      <td>0</td>\n",
       "      <td>0</td>\n",
       "      <td>0</td>\n",
       "      <td>0</td>\n",
       "      <td>0</td>\n",
       "      <td>0</td>\n",
       "      <td>0</td>\n",
       "      <td>0</td>\n",
       "      <td>0</td>\n",
       "      <td>0</td>\n",
       "      <td>0</td>\n",
       "      <td>0</td>\n",
       "      <td>0</td>\n",
       "      <td>0</td>\n",
       "      <td>0</td>\n",
       "      <td>0</td>\n",
       "      <td>0</td>\n",
       "      <td>0</td>\n",
       "      <td>0</td>\n",
       "      <td>0</td>\n",
       "      <td>0</td>\n",
       "      <td>0</td>\n",
       "      <td>0</td>\n",
       "      <td>0</td>\n",
       "      <td>0</td>\n",
       "      <td>0</td>\n",
       "      <td>0</td>\n",
       "      <td>0</td>\n",
       "      <td>0</td>\n",
       "      <td>0</td>\n",
       "      <td>0</td>\n",
       "      <td>0</td>\n",
       "      <td>0</td>\n",
       "      <td>0</td>\n",
       "      <td>0</td>\n",
       "      <td>0</td>\n",
       "      <td>0</td>\n",
       "      <td>0</td>\n",
       "      <td>0</td>\n",
       "      <td>0</td>\n",
       "      <td>1</td>\n",
       "      <td>0</td>\n",
       "      <td>0</td>\n",
       "      <td>0</td>\n",
       "      <td>0</td>\n",
       "      <td>0</td>\n",
       "      <td>0</td>\n",
       "      <td>0</td>\n",
       "      <td>0</td>\n",
       "      <td>0</td>\n",
       "      <td>0</td>\n",
       "      <td>0</td>\n",
       "      <td>0</td>\n",
       "      <td>0</td>\n",
       "      <td>0</td>\n",
       "      <td>0</td>\n",
       "      <td>0</td>\n",
       "      <td>0</td>\n",
       "      <td>0</td>\n",
       "      <td>0</td>\n",
       "      <td>0</td>\n",
       "      <td>0</td>\n",
       "      <td>0</td>\n",
       "      <td>0</td>\n",
       "      <td>0</td>\n",
       "      <td>0</td>\n",
       "      <td>False</td>\n",
       "      <td>False</td>\n",
       "      <td>False</td>\n",
       "    </tr>\n",
       "    <tr>\n",
       "      <th>1003835</th>\n",
       "      <td>False</td>\n",
       "      <td>10000.0</td>\n",
       "      <td>0.26</td>\n",
       "      <td>1</td>\n",
       "      <td>0</td>\n",
       "      <td>0</td>\n",
       "      <td>0</td>\n",
       "      <td>223</td>\n",
       "      <td>3750.0000</td>\n",
       "      <td>0.1299</td>\n",
       "      <td>0</td>\n",
       "      <td>0</td>\n",
       "      <td>0</td>\n",
       "      <td>0</td>\n",
       "      <td>0</td>\n",
       "      <td>0</td>\n",
       "      <td>0</td>\n",
       "      <td>0</td>\n",
       "      <td>0</td>\n",
       "      <td>0</td>\n",
       "      <td>0</td>\n",
       "      <td>0</td>\n",
       "      <td>0</td>\n",
       "      <td>0</td>\n",
       "      <td>0</td>\n",
       "      <td>0</td>\n",
       "      <td>0</td>\n",
       "      <td>0</td>\n",
       "      <td>0</td>\n",
       "      <td>0</td>\n",
       "      <td>0</td>\n",
       "      <td>0</td>\n",
       "      <td>0</td>\n",
       "      <td>0</td>\n",
       "      <td>0</td>\n",
       "      <td>0</td>\n",
       "      <td>0</td>\n",
       "      <td>0</td>\n",
       "      <td>0</td>\n",
       "      <td>0</td>\n",
       "      <td>1</td>\n",
       "      <td>0</td>\n",
       "      <td>0</td>\n",
       "      <td>0</td>\n",
       "      <td>0</td>\n",
       "      <td>0</td>\n",
       "      <td>0</td>\n",
       "      <td>0</td>\n",
       "      <td>0</td>\n",
       "      <td>0</td>\n",
       "      <td>0</td>\n",
       "      <td>0</td>\n",
       "      <td>0</td>\n",
       "      <td>0</td>\n",
       "      <td>0</td>\n",
       "      <td>0</td>\n",
       "      <td>0</td>\n",
       "      <td>0</td>\n",
       "      <td>0</td>\n",
       "      <td>0</td>\n",
       "      <td>0</td>\n",
       "      <td>0</td>\n",
       "      <td>0</td>\n",
       "      <td>0</td>\n",
       "      <td>0</td>\n",
       "      <td>0</td>\n",
       "      <td>0</td>\n",
       "      <td>0</td>\n",
       "      <td>0</td>\n",
       "      <td>0</td>\n",
       "      <td>0</td>\n",
       "      <td>0</td>\n",
       "      <td>0</td>\n",
       "      <td>0</td>\n",
       "      <td>0</td>\n",
       "      <td>0</td>\n",
       "      <td>0</td>\n",
       "      <td>0</td>\n",
       "      <td>True</td>\n",
       "      <td>False</td>\n",
       "      <td>False</td>\n",
       "    </tr>\n",
       "    <tr>\n",
       "      <th>1011335</th>\n",
       "      <td>True</td>\n",
       "      <td>20000.0</td>\n",
       "      <td>0.81</td>\n",
       "      <td>1</td>\n",
       "      <td>0</td>\n",
       "      <td>0</td>\n",
       "      <td>0</td>\n",
       "      <td>1264</td>\n",
       "      <td>9000.0000</td>\n",
       "      <td>0.1440</td>\n",
       "      <td>1</td>\n",
       "      <td>0</td>\n",
       "      <td>0</td>\n",
       "      <td>0</td>\n",
       "      <td>0</td>\n",
       "      <td>0</td>\n",
       "      <td>0</td>\n",
       "      <td>0</td>\n",
       "      <td>0</td>\n",
       "      <td>0</td>\n",
       "      <td>0</td>\n",
       "      <td>0</td>\n",
       "      <td>0</td>\n",
       "      <td>0</td>\n",
       "      <td>0</td>\n",
       "      <td>0</td>\n",
       "      <td>0</td>\n",
       "      <td>0</td>\n",
       "      <td>0</td>\n",
       "      <td>0</td>\n",
       "      <td>1</td>\n",
       "      <td>0</td>\n",
       "      <td>0</td>\n",
       "      <td>0</td>\n",
       "      <td>0</td>\n",
       "      <td>0</td>\n",
       "      <td>0</td>\n",
       "      <td>0</td>\n",
       "      <td>0</td>\n",
       "      <td>0</td>\n",
       "      <td>0</td>\n",
       "      <td>0</td>\n",
       "      <td>0</td>\n",
       "      <td>0</td>\n",
       "      <td>0</td>\n",
       "      <td>0</td>\n",
       "      <td>0</td>\n",
       "      <td>0</td>\n",
       "      <td>0</td>\n",
       "      <td>0</td>\n",
       "      <td>0</td>\n",
       "      <td>0</td>\n",
       "      <td>0</td>\n",
       "      <td>0</td>\n",
       "      <td>0</td>\n",
       "      <td>0</td>\n",
       "      <td>0</td>\n",
       "      <td>0</td>\n",
       "      <td>0</td>\n",
       "      <td>0</td>\n",
       "      <td>0</td>\n",
       "      <td>0</td>\n",
       "      <td>0</td>\n",
       "      <td>0</td>\n",
       "      <td>0</td>\n",
       "      <td>0</td>\n",
       "      <td>0</td>\n",
       "      <td>0</td>\n",
       "      <td>0</td>\n",
       "      <td>0</td>\n",
       "      <td>0</td>\n",
       "      <td>0</td>\n",
       "      <td>0</td>\n",
       "      <td>0</td>\n",
       "      <td>0</td>\n",
       "      <td>0</td>\n",
       "      <td>0</td>\n",
       "      <td>0</td>\n",
       "      <td>False</td>\n",
       "      <td>False</td>\n",
       "      <td>True</td>\n",
       "    </tr>\n",
       "  </tbody>\n",
       "</table>\n",
       "</div>"
      ],
      "text/plain": [
       "              BoolPriorProsperLoanee  DolLoanAmountRequested  PctBankcardUtil  \\\n",
       "ListingNumber                                                                   \n",
       "973605                         False                 15000.0             0.97   \n",
       "981099                         False                 15000.0             0.48   \n",
       "1025766                         True                  4000.0             0.93   \n",
       "1003835                        False                 10000.0             0.26   \n",
       "1011335                         True                 20000.0             0.81   \n",
       "\n",
       "               StrEmploymentStatus_Employed  StrEmploymentStatus_Full-time  \\\n",
       "ListingNumber                                                                \n",
       "973605                                    1                              0   \n",
       "981099                                    0                              0   \n",
       "1025766                                   1                              0   \n",
       "1003835                                   1                              0   \n",
       "1011335                                   1                              0   \n",
       "\n",
       "               StrEmploymentStatus_Other  StrEmploymentStatus_Self-employed  \\\n",
       "ListingNumber                                                                 \n",
       "973605                                 0                                  0   \n",
       "981099                                 1                                  0   \n",
       "1025766                                0                                  0   \n",
       "1003835                                0                                  0   \n",
       "1011335                                0                                  0   \n",
       "\n",
       "               DolMonthlyDebt  DolMonthlyIncome  BorrowerRate  \\\n",
       "ListingNumber                                                   \n",
       "973605                   1242         6000.0000        0.1620   \n",
       "981099                   2289         7916.6667        0.1585   \n",
       "1025766                   911         2083.3333        0.2085   \n",
       "1003835                   223         3750.0000        0.1299   \n",
       "1011335                  1264         9000.0000        0.1440   \n",
       "\n",
       "               NumRealEstateTrades  StrOccupation_Accountant/CPA  \\\n",
       "ListingNumber                                                      \n",
       "973605                           2                             0   \n",
       "981099                           2                             0   \n",
       "1025766                          0                             0   \n",
       "1003835                          0                             0   \n",
       "1011335                          1                             0   \n",
       "\n",
       "               StrOccupation_Administrative Assistant  StrOccupation_Analyst  \\\n",
       "ListingNumber                                                                  \n",
       "973605                                              0                      0   \n",
       "981099                                              0                      0   \n",
       "1025766                                             0                      0   \n",
       "1003835                                             0                      0   \n",
       "1011335                                             0                      0   \n",
       "\n",
       "               StrOccupation_Architect  StrOccupation_Attorney  \\\n",
       "ListingNumber                                                    \n",
       "973605                               0                       0   \n",
       "981099                               0                       0   \n",
       "1025766                              0                       0   \n",
       "1003835                              0                       0   \n",
       "1011335                              0                       0   \n",
       "\n",
       "               StrOccupation_Biologist  StrOccupation_Bus Driver  \\\n",
       "ListingNumber                                                      \n",
       "973605                               0                         0   \n",
       "981099                               0                         0   \n",
       "1025766                              0                         0   \n",
       "1003835                              0                         0   \n",
       "1011335                              0                         0   \n",
       "\n",
       "               StrOccupation_Car Dealer  StrOccupation_Chemist  \\\n",
       "ListingNumber                                                    \n",
       "973605                                0                      0   \n",
       "981099                                0                      0   \n",
       "1025766                               0                      0   \n",
       "1003835                               0                      0   \n",
       "1011335                               0                      0   \n",
       "\n",
       "               StrOccupation_Civil Service  StrOccupation_Clergy  \\\n",
       "ListingNumber                                                      \n",
       "973605                                   0                     0   \n",
       "981099                                   0                     0   \n",
       "1025766                                  0                     0   \n",
       "1003835                                  0                     0   \n",
       "1011335                                  0                     0   \n",
       "\n",
       "               StrOccupation_Clerical  StrOccupation_Computer Programmer  \\\n",
       "ListingNumber                                                              \n",
       "973605                              0                                  0   \n",
       "981099                              0                                  0   \n",
       "1025766                             0                                  0   \n",
       "1003835                             0                                  0   \n",
       "1011335                             0                                  0   \n",
       "\n",
       "               StrOccupation_Construction  StrOccupation_Dentist  \\\n",
       "ListingNumber                                                      \n",
       "973605                                  0                      0   \n",
       "981099                                  0                      0   \n",
       "1025766                                 0                      0   \n",
       "1003835                                 0                      0   \n",
       "1011335                                 0                      0   \n",
       "\n",
       "               StrOccupation_Doctor  StrOccupation_Engineer - Chemical  \\\n",
       "ListingNumber                                                            \n",
       "973605                            0                                  0   \n",
       "981099                            0                                  0   \n",
       "1025766                           0                                  0   \n",
       "1003835                           0                                  0   \n",
       "1011335                           0                                  0   \n",
       "\n",
       "               StrOccupation_Engineer - Electrical  \\\n",
       "ListingNumber                                        \n",
       "973605                                           0   \n",
       "981099                                           0   \n",
       "1025766                                          0   \n",
       "1003835                                          0   \n",
       "1011335                                          0   \n",
       "\n",
       "               StrOccupation_Engineer - Mechanical  StrOccupation_Executive  \\\n",
       "ListingNumber                                                                 \n",
       "973605                                           0                        0   \n",
       "981099                                           0                        0   \n",
       "1025766                                          0                        0   \n",
       "1003835                                          0                        0   \n",
       "1011335                                          0                        1   \n",
       "\n",
       "               StrOccupation_Fireman  StrOccupation_Flight Attendant  \\\n",
       "ListingNumber                                                          \n",
       "973605                             0                               0   \n",
       "981099                             0                               0   \n",
       "1025766                            0                               0   \n",
       "1003835                            0                               0   \n",
       "1011335                            0                               0   \n",
       "\n",
       "               StrOccupation_Food Service  \\\n",
       "ListingNumber                               \n",
       "973605                                  0   \n",
       "981099                                  0   \n",
       "1025766                                 0   \n",
       "1003835                                 0   \n",
       "1011335                                 0   \n",
       "\n",
       "               StrOccupation_Food Service Management  StrOccupation_Homemaker  \\\n",
       "ListingNumber                                                                   \n",
       "973605                                             0                        0   \n",
       "981099                                             0                        0   \n",
       "1025766                                            0                        0   \n",
       "1003835                                            0                        0   \n",
       "1011335                                            0                        0   \n",
       "\n",
       "               StrOccupation_Investor  StrOccupation_Judge  \\\n",
       "ListingNumber                                                \n",
       "973605                              0                    0   \n",
       "981099                              0                    0   \n",
       "1025766                             0                    0   \n",
       "1003835                             0                    0   \n",
       "1011335                             0                    0   \n",
       "\n",
       "               StrOccupation_Laborer  StrOccupation_Landscaping  \\\n",
       "ListingNumber                                                     \n",
       "973605                             0                          0   \n",
       "981099                             0                          0   \n",
       "1025766                            0                          0   \n",
       "1003835                            0                          0   \n",
       "1011335                            0                          0   \n",
       "\n",
       "               StrOccupation_Medical Technician  \\\n",
       "ListingNumber                                     \n",
       "973605                                        0   \n",
       "981099                                        0   \n",
       "1025766                                       0   \n",
       "1003835                                       1   \n",
       "1011335                                       0   \n",
       "\n",
       "               StrOccupation_Military Enlisted  \\\n",
       "ListingNumber                                    \n",
       "973605                                       0   \n",
       "981099                                       0   \n",
       "1025766                                      0   \n",
       "1003835                                      0   \n",
       "1011335                                      0   \n",
       "\n",
       "               StrOccupation_Military Officer  StrOccupation_Nurse (LPN)  \\\n",
       "ListingNumber                                                              \n",
       "973605                                      0                          0   \n",
       "981099                                      0                          0   \n",
       "1025766                                     0                          0   \n",
       "1003835                                     0                          0   \n",
       "1011335                                     0                          0   \n",
       "\n",
       "               StrOccupation_Nurse (RN)  StrOccupation_Nurse's Aide  \\\n",
       "ListingNumber                                                         \n",
       "973605                                0                           0   \n",
       "981099                                0                           0   \n",
       "1025766                               0                           0   \n",
       "1003835                               0                           0   \n",
       "1011335                               0                           0   \n",
       "\n",
       "               StrOccupation_Other  StrOccupation_Pharmacist  \\\n",
       "ListingNumber                                                  \n",
       "973605                           0                         0   \n",
       "981099                           0                         0   \n",
       "1025766                          0                         0   \n",
       "1003835                          0                         0   \n",
       "1011335                          0                         0   \n",
       "\n",
       "               StrOccupation_Pilot - Private/Commercial  \\\n",
       "ListingNumber                                             \n",
       "973605                                                0   \n",
       "981099                                                0   \n",
       "1025766                                               0   \n",
       "1003835                                               0   \n",
       "1011335                                               0   \n",
       "\n",
       "               StrOccupation_Police Officer/Correction Officer  \\\n",
       "ListingNumber                                                    \n",
       "973605                                                       0   \n",
       "981099                                                       0   \n",
       "1025766                                                      0   \n",
       "1003835                                                      0   \n",
       "1011335                                                      0   \n",
       "\n",
       "               StrOccupation_Postal Service  StrOccupation_Principal  \\\n",
       "ListingNumber                                                          \n",
       "973605                                    0                        0   \n",
       "981099                                    0                        0   \n",
       "1025766                                   0                        0   \n",
       "1003835                                   0                        0   \n",
       "1011335                                   0                        0   \n",
       "\n",
       "               StrOccupation_Professional  StrOccupation_Professor  \\\n",
       "ListingNumber                                                        \n",
       "973605                                  0                        0   \n",
       "981099                                  0                        0   \n",
       "1025766                                 1                        0   \n",
       "1003835                                 0                        0   \n",
       "1011335                                 0                        0   \n",
       "\n",
       "               StrOccupation_Psychologist  StrOccupation_Realtor  \\\n",
       "ListingNumber                                                      \n",
       "973605                                  0                      0   \n",
       "981099                                  0                      0   \n",
       "1025766                                 0                      0   \n",
       "1003835                                 0                      0   \n",
       "1011335                                 0                      0   \n",
       "\n",
       "               StrOccupation_Religious  StrOccupation_Retail Management  \\\n",
       "ListingNumber                                                             \n",
       "973605                               0                                0   \n",
       "981099                               0                                0   \n",
       "1025766                              0                                0   \n",
       "1003835                              0                                0   \n",
       "1011335                              0                                0   \n",
       "\n",
       "               StrOccupation_Sales - Commission  StrOccupation_Sales - Retail  \\\n",
       "ListingNumber                                                                   \n",
       "973605                                        0                             0   \n",
       "981099                                        0                             0   \n",
       "1025766                                       0                             0   \n",
       "1003835                                       0                             0   \n",
       "1011335                                       0                             0   \n",
       "\n",
       "               StrOccupation_Scientist  StrOccupation_Skilled Labor  \\\n",
       "ListingNumber                                                         \n",
       "973605                               0                            0   \n",
       "981099                               0                            0   \n",
       "1025766                              0                            0   \n",
       "1003835                              0                            0   \n",
       "1011335                              0                            0   \n",
       "\n",
       "               StrOccupation_Social Worker  \\\n",
       "ListingNumber                                \n",
       "973605                                   0   \n",
       "981099                                   0   \n",
       "1025766                                  0   \n",
       "1003835                                  0   \n",
       "1011335                                  0   \n",
       "\n",
       "               StrOccupation_Student - College Freshman  \\\n",
       "ListingNumber                                             \n",
       "973605                                                0   \n",
       "981099                                                0   \n",
       "1025766                                               0   \n",
       "1003835                                               0   \n",
       "1011335                                               0   \n",
       "\n",
       "               StrOccupation_Student - College Graduate Student  \\\n",
       "ListingNumber                                                     \n",
       "973605                                                        0   \n",
       "981099                                                        0   \n",
       "1025766                                                       0   \n",
       "1003835                                                       0   \n",
       "1011335                                                       0   \n",
       "\n",
       "               StrOccupation_Student - College Junior  \\\n",
       "ListingNumber                                           \n",
       "973605                                              0   \n",
       "981099                                              0   \n",
       "1025766                                             0   \n",
       "1003835                                             0   \n",
       "1011335                                             0   \n",
       "\n",
       "               StrOccupation_Student - College Senior  \\\n",
       "ListingNumber                                           \n",
       "973605                                              0   \n",
       "981099                                              0   \n",
       "1025766                                             0   \n",
       "1003835                                             0   \n",
       "1011335                                             0   \n",
       "\n",
       "               StrOccupation_Student - College Sophomore  \\\n",
       "ListingNumber                                              \n",
       "973605                                                 0   \n",
       "981099                                                 0   \n",
       "1025766                                                0   \n",
       "1003835                                                0   \n",
       "1011335                                                0   \n",
       "\n",
       "               StrOccupation_Student - Community College  \\\n",
       "ListingNumber                                              \n",
       "973605                                                 0   \n",
       "981099                                                 0   \n",
       "1025766                                                0   \n",
       "1003835                                                0   \n",
       "1011335                                                0   \n",
       "\n",
       "               StrOccupation_Student - Technical School  \\\n",
       "ListingNumber                                             \n",
       "973605                                                0   \n",
       "981099                                                0   \n",
       "1025766                                               0   \n",
       "1003835                                               0   \n",
       "1011335                                               0   \n",
       "\n",
       "               StrOccupation_Teacher  StrOccupation_Teacher's Aide  \\\n",
       "ListingNumber                                                        \n",
       "973605                             0                             0   \n",
       "981099                             0                             0   \n",
       "1025766                            0                             0   \n",
       "1003835                            0                             0   \n",
       "1011335                            0                             0   \n",
       "\n",
       "               StrOccupation_Tradesman - Carpenter  \\\n",
       "ListingNumber                                        \n",
       "973605                                           0   \n",
       "981099                                           0   \n",
       "1025766                                          0   \n",
       "1003835                                          0   \n",
       "1011335                                          0   \n",
       "\n",
       "               StrOccupation_Tradesman - Electrician  \\\n",
       "ListingNumber                                          \n",
       "973605                                             0   \n",
       "981099                                             0   \n",
       "1025766                                            0   \n",
       "1003835                                            0   \n",
       "1011335                                            0   \n",
       "\n",
       "               StrOccupation_Tradesman - Mechanic  \\\n",
       "ListingNumber                                       \n",
       "973605                                          1   \n",
       "981099                                          0   \n",
       "1025766                                         0   \n",
       "1003835                                         0   \n",
       "1011335                                         0   \n",
       "\n",
       "               StrOccupation_Tradesman - Plumber  StrOccupation_Truck Driver  \\\n",
       "ListingNumber                                                                  \n",
       "973605                                         0                           0   \n",
       "981099                                         0                           0   \n",
       "1025766                                        0                           0   \n",
       "1003835                                        0                           0   \n",
       "1011335                                        0                           0   \n",
       "\n",
       "               StrOccupation_Waiter/Waitress BoolYoungLoanee BoolOldLoanee  \\\n",
       "ListingNumber                                                                \n",
       "973605                                     0           False          True   \n",
       "981099                                     0           False          True   \n",
       "1025766                                    0           False         False   \n",
       "1003835                                    0            True         False   \n",
       "1011335                                    0           False         False   \n",
       "\n",
       "              BoolNonzeroPublicRecordsLast10Years  \n",
       "ListingNumber                                      \n",
       "973605                                      False  \n",
       "981099                                      False  \n",
       "1025766                                     False  \n",
       "1003835                                     False  \n",
       "1011335                                      True  "
      ]
     },
     "execution_count": 67,
     "metadata": {},
     "output_type": "execute_result"
    }
   ],
   "source": [
    "X_records = pd.concat([X_final,reduced_data['BoolNonzeroPublicRecordsLast10Years']], axis=1)\n",
    "X_records.head()"
   ]
  },
  {
   "cell_type": "code",
   "execution_count": 68,
   "metadata": {
    "collapsed": false
   },
   "outputs": [
    {
     "name": "stdout",
     "output_type": "stream",
     "text": [
      "(252469, 81)\n",
      "(252469, 80)\n",
      "[[ -2.70323463e-01   2.52892393e-01  -1.44329362e-01   5.23994175e-02\n",
      "   -8.13246034e-03   6.92331194e-02  -1.50999440e-01  -1.20250351e-01\n",
      "    4.40651717e-01   6.75626357e-02  -8.05918810e-02  -1.22701022e-01\n",
      "   -8.91444481e-02  -1.84887970e-01  -3.52269067e-02  -5.21727618e-02\n",
      "   -1.80168620e-02  -1.08753067e-02  -2.25082020e-02  -2.73220056e-02\n",
      "   -1.13536935e-01  -1.63144275e-03  -1.03589953e-01  -1.90915239e-01\n",
      "   -4.11345259e-02   7.65999488e-03  -2.49071115e-02  -2.78077476e-02\n",
      "   -9.33481375e-02  -9.60818739e-02  -1.33211913e-01  -4.80195613e-02\n",
      "   -1.08368764e-02  -2.44039257e-03  -3.54439698e-02   2.73632912e-02\n",
      "    5.26998804e-03  -8.73582832e-03  -2.93163134e-02   3.06637311e-03\n",
      "   -5.34245605e-02  -7.43238968e-02  -4.90946570e-02  -2.85733304e-02\n",
      "   -1.44356365e-01  -1.74883856e-03  -3.12617278e-01  -4.39336609e-02\n",
      "   -2.76819576e-02  -1.14101368e-01  -6.48035317e-02  -3.91272737e-02\n",
      "   -2.66155144e-01  -6.72777188e-02  -1.84637873e-02   1.40780101e-02\n",
      "    1.25304212e-02  -9.01083914e-02  -6.05350380e-02  -4.62963835e-02\n",
      "   -5.71891473e-02  -8.64311645e-02  -5.22873473e-02   9.18185114e-03\n",
      "   -6.75072441e-03  -5.84162230e-03  -9.83197427e-03   1.55269663e-02\n",
      "   -8.49538174e-03   8.06173650e-03  -1.22865068e-01   5.45702541e-05\n",
      "   -6.21020850e-03  -5.11152861e-02  -6.63841712e-02  -3.56729545e-03\n",
      "   -4.59632170e-02   3.85527685e-03   6.26813150e-02   4.16207750e-02]]\n",
      "(252469, 1)\n",
      "[[-0.1577247]]\n",
      "(252469, 81)\n",
      "[[ -2.68658012e-01   2.45275853e-01  -1.43273054e-01   5.23819635e-02\n",
      "   -8.18934031e-03   7.06578144e-02  -1.52543065e-01  -1.34856939e-01\n",
      "    4.55983847e-01   7.94571369e-02  -7.80896801e-02  -1.22911674e-01\n",
      "   -8.87068901e-02  -1.85513329e-01  -3.54270677e-02  -5.23863095e-02\n",
      "   -1.85061716e-02  -9.38708650e-03  -2.17686672e-02  -2.77573542e-02\n",
      "   -1.13520387e-01  -2.01154206e-03  -1.02907336e-01  -1.91674914e-01\n",
      "   -4.04923331e-02   7.89383627e-03  -2.46707879e-02  -2.83672523e-02\n",
      "   -9.36806984e-02  -9.62098203e-02  -1.32366726e-01  -4.82841968e-02\n",
      "   -1.07280112e-02  -2.77471684e-03  -3.55049373e-02   2.71805901e-02\n",
      "    4.75477161e-03  -8.90651978e-03  -2.87303381e-02   3.09462997e-03\n",
      "   -5.34062891e-02  -7.57201372e-02  -4.96549293e-02  -2.83963776e-02\n",
      "   -1.44857916e-01  -1.84636705e-03  -3.12522483e-01  -4.42163095e-02\n",
      "   -2.75884025e-02  -1.13917533e-01  -6.47135145e-02  -3.93850188e-02\n",
      "   -2.65374377e-01  -6.76957363e-02  -1.83400255e-02   1.54919599e-02\n",
      "    1.22993215e-02  -8.96780073e-02  -5.91036610e-02  -4.57724689e-02\n",
      "   -5.75966402e-02  -8.57790379e-02  -5.27574700e-02   8.95747973e-03\n",
      "   -7.19978543e-03  -6.05421131e-03  -1.02240519e-02   1.53142953e-02\n",
      "   -8.56240690e-03   8.01755591e-03  -1.24373251e-01  -2.29663708e-04\n",
      "   -6.05417889e-03  -5.09313053e-02  -6.60416649e-02  -3.63460201e-03\n",
      "   -4.41198811e-02   3.45142237e-03   5.09381862e-02   4.17339172e-02\n",
      "   -6.87977568e-02]]\n"
     ]
    },
    {
     "name": "stderr",
     "output_type": "stream",
     "text": [
      "//anaconda/lib/python3.5/site-packages/matplotlib/axes/_axes.py:492: UserWarning: You have mixed positional and keyword arguments, some input will be discarded.\n",
      "  warnings.warn(\"You have mixed positional and keyword \"\n"
     ]
    },
    {
     "data": {
      "text/plain": [
       "[<matplotlib.lines.Line2D at 0x121eb3d30>]"
      ]
     },
     "execution_count": 68,
     "metadata": {},
     "output_type": "execute_result"
    },
    {
     "data": {
      "image/png": "[encoded data removed]",
      "text/plain": [
       "<matplotlib.figure.Figure at 0x121e406a0>"
      ]
     },
     "metadata": {},
     "output_type": "display_data"
    }
   ],
   "source": [
    "X_records = pd.concat([X_final,reduced_data['BoolNonzeroPublicRecordsLast10Years']], axis=1)\n",
    "print(X_records.shape)\n",
    "\n",
    "fig, ax = plt.subplots()\n",
    "\n",
    "## scale the variables first\n",
    "ss1 = preprocessing.StandardScaler()\n",
    "X_final_sc = ss1.fit_transform(X_final)\n",
    "\n",
    "ss2 = preprocessing.StandardScaler()\n",
    "X_records_sc = ss2.fit_transform(X_records)\n",
    "\n",
    "for X in [X_final_sc, reduced_data['BoolNonzeroPublicRecordsLast10Years'].to_frame(), X_records_sc]:\n",
    "    print(X.shape)\n",
    "    X_tr, X_te, y_tr, y_te = train_test_split(X, y, test_size=0.3, random_state=0)\n",
    "    logm = linear_model.LogisticRegression()\n",
    "    logm.fit(X_tr,y_tr)\n",
    "    probs = logm.predict_proba(X_te)\n",
    "    fpr, tpr, thresholds = metrics.roc_curve(y_te,probs[:,1])\n",
    "    plt.plot(fpr,tpr)\n",
    "    print(logm.coef_)\n",
    "    \n",
    "plt.title('Receiver Operating Characteristic (ROC) Curve', fontsize = 16)\n",
    "plt.xlabel('FPR (False Positive Rate)', fontsize=14)\n",
    "plt.ylabel('TPR (True Positive Rate)', fontsize=14)\n",
    "\n",
    "handles, labels = ax.get_legend_handles_labels()\n",
    "mylabels = ['Final model','Number of Public Records Only','Final model + Number of Public Records']\n",
    "legend = ax.legend(handles, labels = mylabels, loc = 2)\n",
    "\n",
    "## draw the \"no-skill\" line\n",
    "plt.plot([0, 1], [0, 1], color='navy', linestyle='--')"
   ]
  },
  {
   "cell_type": "markdown",
   "metadata": {},
   "source": [
    "Again, the benefits of including the number of previous public records are marginal, but including it as a variable does improve predictive skill - let's add the new variable BoolNonzeroPublicRecordsLast10Years to the final model."
   ]
  },
  {
   "cell_type": "code",
   "execution_count": 69,
   "metadata": {
    "collapsed": true
   },
   "outputs": [],
   "source": [
    "X_final['BoolNonzeroPublicRecordsLast10Years'] = reduced_data['BoolNonzeroPublicRecordsLast10Years']\n",
    "\n",
    "## save the final set of variables to pickle file for easy reload.\n",
    "X_final.to_pickle('theorem_reduced_finalmodel.pkl')"
   ]
  },
  {
   "cell_type": "markdown",
   "metadata": {},
   "source": [
    "## Discarded Variables"
   ]
  },
  {
   "cell_type": "markdown",
   "metadata": {},
   "source": [
    "### Trades"
   ]
  },
  {
   "cell_type": "code",
   "execution_count": 70,
   "metadata": {
    "collapsed": false
   },
   "outputs": [
    {
     "name": "stdout",
     "output_type": "stream",
     "text": [
      "0     0.440430\n",
      "1     0.309709\n",
      "2     0.149999\n",
      "3     0.062233\n",
      "4     0.023013\n",
      "5     0.009007\n",
      "6     0.003355\n",
      "7     0.001351\n",
      "8     0.000503\n",
      "9     0.000238\n",
      "10    0.000067\n",
      "12    0.000036\n",
      "13    0.000028\n",
      "11    0.000024\n",
      "37    0.000004\n",
      "14    0.000004\n",
      "Name: NumTradesOpened6, dtype: float64\n",
      "0    0.994340\n",
      "1    0.005418\n",
      "2    0.000210\n",
      "3    0.000024\n",
      "4    0.000008\n",
      "Name: NumOpenTradesDelinqOrPastDue6, dtype: float64\n"
     ]
    }
   ],
   "source": [
    "print(reduced_data['NumTradesOpened6'].value_counts(normalize = True))\n",
    "print(reduced_data['NumOpenTradesDelinqOrPastDue6'].value_counts(normalize = True))"
   ]
  },
  {
   "cell_type": "code",
   "execution_count": 71,
   "metadata": {
    "collapsed": false
   },
   "outputs": [
    {
     "name": "stdout",
     "output_type": "stream",
     "text": [
      "Trades opened in last 6 months:\n",
      "Non-zero: 0.336190664949\n",
      "Zero: 0.332047304285\n",
      "Number of delinquent trades in last 6 months:\n",
      "Non-zero: 0.375787263821\n",
      "Zero: 0.33413001912\n"
     ]
    }
   ],
   "source": [
    "print('Trades opened in last 6 months:')\n",
    "print('Non-zero:', reduced_data[reduced_data['NumTradesOpened6'] > 0]['Cancelled'].mean())\n",
    "print('Zero:', reduced_data[reduced_data['NumTradesOpened6'] == 0]['Cancelled'].mean())\n",
    "\n",
    "print('Number of delinquent trades in last 6 months:')\n",
    "print('Non-zero:', reduced_data[reduced_data['NumOpenTradesDelinqOrPastDue6'] > 0]['Cancelled'].mean())\n",
    "print('Zero:', reduced_data[reduced_data['NumOpenTradesDelinqOrPastDue6'] == 0]['Cancelled'].mean())"
   ]
  },
  {
   "cell_type": "code",
   "execution_count": 72,
   "metadata": {
    "collapsed": false
   },
   "outputs": [
    {
     "data": {
      "image/png": "[encoded data removed]",
      "text/plain": [
       "<matplotlib.figure.Figure at 0x121f0fbe0>"
      ]
     },
     "metadata": {},
     "output_type": "display_data"
    }
   ],
   "source": [
    "date_vars = reduced_data[['NumTradesOpened6','NumOpenTradesDelinqOrPastDue6']]\n",
    "\n",
    "## create one big figure behind subpanels\n",
    "fig, axes = plt.subplots(2,1,figsize=(8,8), facecolor='w')\n",
    "\n",
    "## cycle through each numeric variable and logistic regress with cancellation (excluding cancellation itself)\n",
    "for ax, var in zip(axes.reshape(-1),date_vars.columns.values):\n",
    "    sns.regplot(ax=ax, x=var, y=\"Cancelled\", data=reduced_data, logistic=True, ci = None, x_bins = 1000)"
   ]
  },
  {
   "cell_type": "markdown",
   "metadata": {},
   "source": [
    "The effects are pretty minimal, and in the case of NumOpenTradesDelinqOrPastDue6 only a very small percentage of population nonzero. As shown below, including them doesn't affect the model at all, so we discard them."
   ]
  },
  {
   "cell_type": "code",
   "execution_count": 73,
   "metadata": {
    "collapsed": false
   },
   "outputs": [
    {
     "name": "stderr",
     "output_type": "stream",
     "text": [
      "//anaconda/lib/python3.5/site-packages/matplotlib/axes/_axes.py:519: UserWarning: No labelled objects found. Use label='...' kwarg on individual plots.\n",
      "  warnings.warn(\"No labelled objects found. \"\n"
     ]
    },
    {
     "name": "stdout",
     "output_type": "stream",
     "text": [
      "[[ -2.68658012e-01   2.45275853e-01  -1.43273054e-01   5.23819635e-02\n",
      "   -8.18934031e-03   7.06578144e-02  -1.52543065e-01  -1.34856939e-01\n",
      "    4.55983847e-01   7.94571369e-02  -7.80896801e-02  -1.22911674e-01\n",
      "   -8.87068901e-02  -1.85513329e-01  -3.54270677e-02  -5.23863095e-02\n",
      "   -1.85061716e-02  -9.38708650e-03  -2.17686672e-02  -2.77573542e-02\n",
      "   -1.13520387e-01  -2.01154206e-03  -1.02907336e-01  -1.91674914e-01\n",
      "   -4.04923331e-02   7.89383627e-03  -2.46707879e-02  -2.83672523e-02\n",
      "   -9.36806984e-02  -9.62098203e-02  -1.32366726e-01  -4.82841968e-02\n",
      "   -1.07280112e-02  -2.77471684e-03  -3.55049373e-02   2.71805901e-02\n",
      "    4.75477161e-03  -8.90651978e-03  -2.87303381e-02   3.09462997e-03\n",
      "   -5.34062891e-02  -7.57201372e-02  -4.96549293e-02  -2.83963776e-02\n",
      "   -1.44857916e-01  -1.84636705e-03  -3.12522483e-01  -4.42163095e-02\n",
      "   -2.75884025e-02  -1.13917533e-01  -6.47135145e-02  -3.93850188e-02\n",
      "   -2.65374377e-01  -6.76957363e-02  -1.83400255e-02   1.54919599e-02\n",
      "    1.22993215e-02  -8.96780073e-02  -5.91036610e-02  -4.57724689e-02\n",
      "   -5.75966402e-02  -8.57790379e-02  -5.27574700e-02   8.95747973e-03\n",
      "   -7.19978543e-03  -6.05421131e-03  -1.02240519e-02   1.53142953e-02\n",
      "   -8.56240690e-03   8.01755591e-03  -1.24373251e-01  -2.29663708e-04\n",
      "   -6.05417889e-03  -5.09313053e-02  -6.60416649e-02  -3.63460201e-03\n",
      "   -4.41198811e-02   3.45142237e-03   5.09381862e-02   4.17339172e-02\n",
      "   -6.87977568e-02]]\n",
      "[[ -2.68708128e-01   2.45382981e-01  -1.41842259e-01   5.22790077e-02\n",
      "   -8.20971249e-03   7.04964427e-02  -1.52210834e-01  -1.35479550e-01\n",
      "    4.55292291e-01   7.82379892e-02  -7.81442426e-02  -1.22967462e-01\n",
      "   -8.87580214e-02  -1.85528374e-01  -3.54302691e-02  -5.23331927e-02\n",
      "   -1.84881428e-02  -9.40559363e-03  -2.18068237e-02  -2.77434572e-02\n",
      "   -1.13562222e-01  -2.00853019e-03  -1.02972600e-01  -1.91680425e-01\n",
      "   -4.04985855e-02   7.90964943e-03  -2.46239896e-02  -2.83530177e-02\n",
      "   -9.37083283e-02  -9.62380694e-02  -1.32357173e-01  -4.83239983e-02\n",
      "   -1.07397630e-02  -2.75952688e-03  -3.55303141e-02   2.71806326e-02\n",
      "    4.76255869e-03  -8.88705383e-03  -2.87700477e-02   3.09232883e-03\n",
      "   -5.33966395e-02  -7.57205189e-02  -4.96518040e-02  -2.84174210e-02\n",
      "   -1.44941595e-01  -1.86976178e-03  -3.12578355e-01  -4.42183254e-02\n",
      "   -2.75819145e-02  -1.13964362e-01  -6.47596992e-02  -3.94124430e-02\n",
      "   -2.65479448e-01  -6.76815664e-02  -1.83151584e-02   1.54844782e-02\n",
      "    1.23081377e-02  -8.97240337e-02  -5.91215370e-02  -4.57891328e-02\n",
      "   -5.75910184e-02  -8.58037414e-02  -5.27375523e-02   8.97709238e-03\n",
      "   -7.18370028e-03  -6.04724209e-03  -1.01993176e-02   1.53006809e-02\n",
      "   -8.55576912e-03   8.02227119e-03  -1.24337206e-01  -2.16273935e-04\n",
      "   -6.06121494e-03  -5.09202294e-02  -6.60461067e-02  -3.63318858e-03\n",
      "   -4.41744259e-02   3.45458372e-03   5.08411382e-02   4.18587062e-02\n",
      "   -6.93400179e-02   5.31838820e-03]]\n",
      "[[ -2.68629318e-01   2.45533718e-01  -1.42694959e-01   5.22461202e-02\n",
      "   -8.30654813e-03   7.08035183e-02  -1.52484090e-01  -1.34923378e-01\n",
      "    4.55166868e-01   7.85727260e-02  -7.84886973e-02  -1.22802477e-01\n",
      "   -8.85920065e-02  -1.85397414e-01  -3.54173534e-02  -5.24070473e-02\n",
      "   -1.85003059e-02  -9.39286882e-03  -2.17232526e-02  -2.77282668e-02\n",
      "   -1.13436140e-01  -1.98716327e-03  -1.02731178e-01  -1.91567617e-01\n",
      "   -4.03750229e-02   7.90795230e-03  -2.46574001e-02  -2.83095801e-02\n",
      "   -9.35913241e-02  -9.62412685e-02  -1.32243375e-01  -4.82700019e-02\n",
      "   -1.07282404e-02  -2.70275696e-03  -3.54660989e-02   2.72394833e-02\n",
      "    4.78626177e-03  -8.86911611e-03  -2.86373786e-02   3.14222710e-03\n",
      "   -5.33520206e-02  -7.56560201e-02  -4.96120850e-02  -2.83575674e-02\n",
      "   -1.44939520e-01  -1.84846532e-03  -3.12251839e-01  -4.41743342e-02\n",
      "   -2.75460291e-02  -1.13904276e-01  -6.46403274e-02  -3.93926157e-02\n",
      "   -2.65139907e-01  -6.76901622e-02  -1.83253512e-02   1.55697636e-02\n",
      "    1.23602452e-02  -8.95902004e-02  -5.89828504e-02  -4.56202959e-02\n",
      "   -5.75541505e-02  -8.57055479e-02  -5.26985702e-02   8.97174935e-03\n",
      "   -7.16110146e-03  -6.03466951e-03  -1.02003757e-02   1.53291297e-02\n",
      "   -8.65723458e-03   8.03156123e-03  -1.24363003e-01  -1.67761064e-04\n",
      "   -5.99753747e-03  -5.08739359e-02  -6.59293931e-02  -3.71228003e-03\n",
      "   -4.39876445e-02   3.49676317e-03   5.11387892e-02   4.16612028e-02\n",
      "   -6.84550444e-02   1.43804040e-02]]\n"
     ]
    },
    {
     "data": {
      "image/png": "[encoded data removed]",
      "text/plain": [
       "<matplotlib.figure.Figure at 0x121ebf550>"
      ]
     },
     "metadata": {},
     "output_type": "display_data"
    }
   ],
   "source": [
    "variables = [[],['NumTradesOpened6'],['NumOpenTradesDelinqOrPastDue6']]\n",
    "\n",
    "X_s = []\n",
    "X_train = []\n",
    "X_test = []\n",
    "y_train = []\n",
    "y_test = []\n",
    "\n",
    "fig, ax = plt.subplots()\n",
    "plt.plot([0, 1], [0, 1], color='navy', linestyle='--')\n",
    "\n",
    "for i,v in enumerate(variables):\n",
    "    \n",
    "    X = pd.concat([X_final,reduced_data[v]], axis=1)\n",
    "    standard_scaler = preprocessing.StandardScaler()\n",
    "    X_s.append(standard_scaler.fit_transform(X))\n",
    "    X_tr, X_te, y_tr, y_te = train_test_split(X_s[i], y, test_size=0.3, random_state=0)\n",
    "    logm = linear_model.LogisticRegression()\n",
    "    logm.fit(X_tr,y_tr)\n",
    "    probs = logm.predict_proba(X_te)\n",
    "    #print(probs[:20])\n",
    "    fpr, tpr, thresholds = metrics.roc_curve(y_te,probs[:,1])\n",
    "    plt.plot(fpr,tpr)\n",
    "    plt.legend()\n",
    "    print(logm.coef_)"
   ]
  },
  {
   "cell_type": "markdown",
   "metadata": {},
   "source": [
    "### Variables with NaNs\n",
    "I put off dealing with NumPriorProsperLoansLatePayments and NumPriorProsperLoans61dpd until now because they contain large amount of NaNs. Misleadingly, they also have cancellation rates that are significantly different from the mean - but that's because the only non-NaN values are among people who've taken out Prosper loans before, and we already know that those people are much less likely to cancel."
   ]
  },
  {
   "cell_type": "code",
   "execution_count": 74,
   "metadata": {
    "collapsed": false,
    "scrolled": true
   },
   "outputs": [
    {
     "name": "stdout",
     "output_type": "stream",
     "text": [
      "True     236180\n",
      "False     16289\n",
      "Name: NumPriorProsperLoansLatePayments, dtype: int64\n",
      "True     252419\n",
      "False        50\n",
      "Name: NumPriorProsperLoans61dpd, dtype: int64\n",
      "0.0     16138\n",
      "1.0        68\n",
      "2.0        25\n",
      "3.0        13\n",
      "4.0        10\n",
      "5.0         6\n",
      "7.0         6\n",
      "6.0         6\n",
      "9.0         6\n",
      "13.0        3\n",
      "8.0         3\n",
      "25.0        2\n",
      "10.0        2\n",
      "11.0        1\n",
      "Name: NumPriorProsperLoansLatePayments, dtype: int64\n",
      "1.0    47\n",
      "2.0     3\n",
      "Name: NumPriorProsperLoans61dpd, dtype: int64\n"
     ]
    }
   ],
   "source": [
    "print(reduced_data['NumPriorProsperLoansLatePayments'].isnull().value_counts())\n",
    "print(reduced_data['NumPriorProsperLoans61dpd'].isnull().value_counts())\n",
    "\n",
    "print(reduced_data['NumPriorProsperLoansLatePayments'].value_counts())\n",
    "print(reduced_data['NumPriorProsperLoans61dpd'].value_counts())"
   ]
  },
  {
   "cell_type": "markdown",
   "metadata": {},
   "source": [
    "Only 50 people have non-NaN values of NumPriorProsperLoans61dpd! It would be more useful if we swapped in 0s for prior loanees who haven't had a loan go 61 days past due."
   ]
  },
  {
   "cell_type": "code",
   "execution_count": 75,
   "metadata": {
    "collapsed": false
   },
   "outputs": [
    {
     "name": "stderr",
     "output_type": "stream",
     "text": [
      "//anaconda/lib/python3.5/site-packages/ipykernel/__main__.py:2: SettingWithCopyWarning: \n",
      "A value is trying to be set on a copy of a slice from a DataFrame\n",
      "\n",
      "See the caveats in the documentation: http://pandas.pydata.org/pandas-docs/stable/indexing.html#indexing-view-versus-copy\n",
      "  from ipykernel import kernelapp as app\n"
     ]
    },
    {
     "data": {
      "text/html": [
       "<div>\n",
       "<table border=\"1\" class=\"dataframe\">\n",
       "  <thead>\n",
       "    <tr style=\"text-align: right;\">\n",
       "      <th></th>\n",
       "      <th>DolLoanAmountRequested</th>\n",
       "      <th>BorrowerRate</th>\n",
       "      <th>NumMonthsTerm</th>\n",
       "      <th>EnumListingCategory</th>\n",
       "      <th>DolMonthlyIncome</th>\n",
       "      <th>FracDebtToIncomeRatio</th>\n",
       "      <th>StrEmploymentStatus</th>\n",
       "      <th>StrOccupation</th>\n",
       "      <th>NumMonthsEmployed</th>\n",
       "      <th>NumPriorProsperLoansLatePayments</th>\n",
       "      <th>NumPriorProsperLoans61dpd</th>\n",
       "      <th>BoolIsLender</th>\n",
       "      <th>BoolInGroup</th>\n",
       "      <th>EnumChannelCode</th>\n",
       "      <th>NumTradesOpened6</th>\n",
       "      <th>NumOpenTradesDelinqOrPastDue6</th>\n",
       "      <th>DolTotalBalanceOnPublicRecords</th>\n",
       "      <th>NumRealEstateTrades</th>\n",
       "      <th>DolMonthlyDebt</th>\n",
       "      <th>NumCurrentDelinquencies</th>\n",
       "      <th>NumPublicRecordsLast10Years</th>\n",
       "      <th>NumPublicRecords12</th>\n",
       "      <th>DolAmountDelinquent</th>\n",
       "      <th>PctBankcardUtil</th>\n",
       "      <th>NumTotalInquiries</th>\n",
       "      <th>DaysSinceFirstCredit</th>\n",
       "      <th>Cancelled</th>\n",
       "      <th>BoolPriorProsperLoanee</th>\n",
       "      <th>BoolYoungLoanee</th>\n",
       "      <th>BoolOldLoanee</th>\n",
       "      <th>BoolNonzeroPublicRecordsLast10Years</th>\n",
       "    </tr>\n",
       "    <tr>\n",
       "      <th>ListingNumber</th>\n",
       "      <th></th>\n",
       "      <th></th>\n",
       "      <th></th>\n",
       "      <th></th>\n",
       "      <th></th>\n",
       "      <th></th>\n",
       "      <th></th>\n",
       "      <th></th>\n",
       "      <th></th>\n",
       "      <th></th>\n",
       "      <th></th>\n",
       "      <th></th>\n",
       "      <th></th>\n",
       "      <th></th>\n",
       "      <th></th>\n",
       "      <th></th>\n",
       "      <th></th>\n",
       "      <th></th>\n",
       "      <th></th>\n",
       "      <th></th>\n",
       "      <th></th>\n",
       "      <th></th>\n",
       "      <th></th>\n",
       "      <th></th>\n",
       "      <th></th>\n",
       "      <th></th>\n",
       "      <th></th>\n",
       "      <th></th>\n",
       "      <th></th>\n",
       "      <th></th>\n",
       "      <th></th>\n",
       "    </tr>\n",
       "  </thead>\n",
       "  <tbody>\n",
       "    <tr>\n",
       "      <th>973605</th>\n",
       "      <td>15000.0</td>\n",
       "      <td>0.1620</td>\n",
       "      <td>60</td>\n",
       "      <td>1</td>\n",
       "      <td>6000.0000</td>\n",
       "      <td>0.27</td>\n",
       "      <td>Employed</td>\n",
       "      <td>Tradesman - Mechanic</td>\n",
       "      <td>445.0</td>\n",
       "      <td>NaN</td>\n",
       "      <td>NaN</td>\n",
       "      <td>0</td>\n",
       "      <td>False</td>\n",
       "      <td>70000</td>\n",
       "      <td>1</td>\n",
       "      <td>0</td>\n",
       "      <td>0</td>\n",
       "      <td>2</td>\n",
       "      <td>1242</td>\n",
       "      <td>0</td>\n",
       "      <td>0</td>\n",
       "      <td>0</td>\n",
       "      <td>0</td>\n",
       "      <td>0.97</td>\n",
       "      <td>5</td>\n",
       "      <td>13920</td>\n",
       "      <td>1</td>\n",
       "      <td>False</td>\n",
       "      <td>False</td>\n",
       "      <td>True</td>\n",
       "      <td>False</td>\n",
       "    </tr>\n",
       "    <tr>\n",
       "      <th>981099</th>\n",
       "      <td>15000.0</td>\n",
       "      <td>0.1585</td>\n",
       "      <td>60</td>\n",
       "      <td>1</td>\n",
       "      <td>7916.6667</td>\n",
       "      <td>0.35</td>\n",
       "      <td>Other</td>\n",
       "      <td>NaN</td>\n",
       "      <td>32.0</td>\n",
       "      <td>NaN</td>\n",
       "      <td>NaN</td>\n",
       "      <td>0</td>\n",
       "      <td>False</td>\n",
       "      <td>70000</td>\n",
       "      <td>1</td>\n",
       "      <td>0</td>\n",
       "      <td>0</td>\n",
       "      <td>2</td>\n",
       "      <td>2289</td>\n",
       "      <td>0</td>\n",
       "      <td>0</td>\n",
       "      <td>0</td>\n",
       "      <td>0</td>\n",
       "      <td>0.48</td>\n",
       "      <td>3</td>\n",
       "      <td>14257</td>\n",
       "      <td>1</td>\n",
       "      <td>False</td>\n",
       "      <td>False</td>\n",
       "      <td>True</td>\n",
       "      <td>False</td>\n",
       "    </tr>\n",
       "    <tr>\n",
       "      <th>1025766</th>\n",
       "      <td>4000.0</td>\n",
       "      <td>0.2085</td>\n",
       "      <td>36</td>\n",
       "      <td>1</td>\n",
       "      <td>2083.3333</td>\n",
       "      <td>0.53</td>\n",
       "      <td>Employed</td>\n",
       "      <td>Professional</td>\n",
       "      <td>4.0</td>\n",
       "      <td>0.0</td>\n",
       "      <td>0.0</td>\n",
       "      <td>0</td>\n",
       "      <td>False</td>\n",
       "      <td>80000</td>\n",
       "      <td>0</td>\n",
       "      <td>0</td>\n",
       "      <td>0</td>\n",
       "      <td>0</td>\n",
       "      <td>911</td>\n",
       "      <td>0</td>\n",
       "      <td>0</td>\n",
       "      <td>0</td>\n",
       "      <td>0</td>\n",
       "      <td>0.93</td>\n",
       "      <td>5</td>\n",
       "      <td>4165</td>\n",
       "      <td>0</td>\n",
       "      <td>True</td>\n",
       "      <td>False</td>\n",
       "      <td>False</td>\n",
       "      <td>False</td>\n",
       "    </tr>\n",
       "    <tr>\n",
       "      <th>1003835</th>\n",
       "      <td>10000.0</td>\n",
       "      <td>0.1299</td>\n",
       "      <td>36</td>\n",
       "      <td>13</td>\n",
       "      <td>3750.0000</td>\n",
       "      <td>0.14</td>\n",
       "      <td>Employed</td>\n",
       "      <td>Medical Technician</td>\n",
       "      <td>2.0</td>\n",
       "      <td>NaN</td>\n",
       "      <td>NaN</td>\n",
       "      <td>0</td>\n",
       "      <td>False</td>\n",
       "      <td>90000</td>\n",
       "      <td>1</td>\n",
       "      <td>0</td>\n",
       "      <td>0</td>\n",
       "      <td>0</td>\n",
       "      <td>223</td>\n",
       "      <td>0</td>\n",
       "      <td>0</td>\n",
       "      <td>0</td>\n",
       "      <td>0</td>\n",
       "      <td>0.26</td>\n",
       "      <td>1</td>\n",
       "      <td>2961</td>\n",
       "      <td>1</td>\n",
       "      <td>False</td>\n",
       "      <td>True</td>\n",
       "      <td>False</td>\n",
       "      <td>False</td>\n",
       "    </tr>\n",
       "    <tr>\n",
       "      <th>1011335</th>\n",
       "      <td>20000.0</td>\n",
       "      <td>0.1440</td>\n",
       "      <td>60</td>\n",
       "      <td>1</td>\n",
       "      <td>9000.0000</td>\n",
       "      <td>0.16</td>\n",
       "      <td>Employed</td>\n",
       "      <td>Executive</td>\n",
       "      <td>90.0</td>\n",
       "      <td>0.0</td>\n",
       "      <td>0.0</td>\n",
       "      <td>0</td>\n",
       "      <td>False</td>\n",
       "      <td>80000</td>\n",
       "      <td>1</td>\n",
       "      <td>0</td>\n",
       "      <td>1249</td>\n",
       "      <td>1</td>\n",
       "      <td>1264</td>\n",
       "      <td>1</td>\n",
       "      <td>2</td>\n",
       "      <td>0</td>\n",
       "      <td>0</td>\n",
       "      <td>0.81</td>\n",
       "      <td>17</td>\n",
       "      <td>8348</td>\n",
       "      <td>0</td>\n",
       "      <td>True</td>\n",
       "      <td>False</td>\n",
       "      <td>False</td>\n",
       "      <td>True</td>\n",
       "    </tr>\n",
       "    <tr>\n",
       "      <th>1010105</th>\n",
       "      <td>10000.0</td>\n",
       "      <td>0.2225</td>\n",
       "      <td>36</td>\n",
       "      <td>1</td>\n",
       "      <td>8416.6667</td>\n",
       "      <td>0.45</td>\n",
       "      <td>Employed</td>\n",
       "      <td>Professional</td>\n",
       "      <td>125.0</td>\n",
       "      <td>NaN</td>\n",
       "      <td>NaN</td>\n",
       "      <td>0</td>\n",
       "      <td>False</td>\n",
       "      <td>90000</td>\n",
       "      <td>0</td>\n",
       "      <td>0</td>\n",
       "      <td>0</td>\n",
       "      <td>2</td>\n",
       "      <td>3455</td>\n",
       "      <td>0</td>\n",
       "      <td>0</td>\n",
       "      <td>0</td>\n",
       "      <td>0</td>\n",
       "      <td>0.87</td>\n",
       "      <td>8</td>\n",
       "      <td>11061</td>\n",
       "      <td>0</td>\n",
       "      <td>False</td>\n",
       "      <td>False</td>\n",
       "      <td>False</td>\n",
       "      <td>False</td>\n",
       "    </tr>\n",
       "    <tr>\n",
       "      <th>1029573</th>\n",
       "      <td>15000.0</td>\n",
       "      <td>0.0809</td>\n",
       "      <td>36</td>\n",
       "      <td>3</td>\n",
       "      <td>6250.0000</td>\n",
       "      <td>NaN</td>\n",
       "      <td>Self-employed</td>\n",
       "      <td>Food Service</td>\n",
       "      <td>9.0</td>\n",
       "      <td>0.0</td>\n",
       "      <td>0.0</td>\n",
       "      <td>1</td>\n",
       "      <td>False</td>\n",
       "      <td>80000</td>\n",
       "      <td>1</td>\n",
       "      <td>0</td>\n",
       "      <td>0</td>\n",
       "      <td>2</td>\n",
       "      <td>1488</td>\n",
       "      <td>0</td>\n",
       "      <td>1</td>\n",
       "      <td>0</td>\n",
       "      <td>0</td>\n",
       "      <td>0.00</td>\n",
       "      <td>8</td>\n",
       "      <td>11029</td>\n",
       "      <td>0</td>\n",
       "      <td>True</td>\n",
       "      <td>False</td>\n",
       "      <td>False</td>\n",
       "      <td>True</td>\n",
       "    </tr>\n",
       "    <tr>\n",
       "      <th>1014296</th>\n",
       "      <td>7000.0</td>\n",
       "      <td>0.0769</td>\n",
       "      <td>36</td>\n",
       "      <td>3</td>\n",
       "      <td>3333.3333</td>\n",
       "      <td>0.16</td>\n",
       "      <td>Employed</td>\n",
       "      <td>Retail Management</td>\n",
       "      <td>22.0</td>\n",
       "      <td>NaN</td>\n",
       "      <td>NaN</td>\n",
       "      <td>0</td>\n",
       "      <td>False</td>\n",
       "      <td>40000</td>\n",
       "      <td>0</td>\n",
       "      <td>0</td>\n",
       "      <td>0</td>\n",
       "      <td>0</td>\n",
       "      <td>308</td>\n",
       "      <td>0</td>\n",
       "      <td>0</td>\n",
       "      <td>0</td>\n",
       "      <td>0</td>\n",
       "      <td>0.05</td>\n",
       "      <td>1</td>\n",
       "      <td>3899</td>\n",
       "      <td>0</td>\n",
       "      <td>False</td>\n",
       "      <td>True</td>\n",
       "      <td>False</td>\n",
       "      <td>False</td>\n",
       "    </tr>\n",
       "    <tr>\n",
       "      <th>1009580</th>\n",
       "      <td>5000.0</td>\n",
       "      <td>0.1314</td>\n",
       "      <td>36</td>\n",
       "      <td>1</td>\n",
       "      <td>6450.9167</td>\n",
       "      <td>0.15</td>\n",
       "      <td>Employed</td>\n",
       "      <td>Other</td>\n",
       "      <td>268.0</td>\n",
       "      <td>NaN</td>\n",
       "      <td>NaN</td>\n",
       "      <td>0</td>\n",
       "      <td>False</td>\n",
       "      <td>90000</td>\n",
       "      <td>2</td>\n",
       "      <td>0</td>\n",
       "      <td>0</td>\n",
       "      <td>3</td>\n",
       "      <td>846</td>\n",
       "      <td>0</td>\n",
       "      <td>1</td>\n",
       "      <td>0</td>\n",
       "      <td>0</td>\n",
       "      <td>0.82</td>\n",
       "      <td>8</td>\n",
       "      <td>9566</td>\n",
       "      <td>0</td>\n",
       "      <td>False</td>\n",
       "      <td>False</td>\n",
       "      <td>False</td>\n",
       "      <td>True</td>\n",
       "    </tr>\n",
       "    <tr>\n",
       "      <th>743482</th>\n",
       "      <td>19000.0</td>\n",
       "      <td>0.1314</td>\n",
       "      <td>60</td>\n",
       "      <td>1</td>\n",
       "      <td>12500.0000</td>\n",
       "      <td>0.28</td>\n",
       "      <td>Employed</td>\n",
       "      <td>Pharmacist</td>\n",
       "      <td>190.0</td>\n",
       "      <td>NaN</td>\n",
       "      <td>NaN</td>\n",
       "      <td>0</td>\n",
       "      <td>False</td>\n",
       "      <td>70000</td>\n",
       "      <td>1</td>\n",
       "      <td>0</td>\n",
       "      <td>0</td>\n",
       "      <td>3</td>\n",
       "      <td>1559</td>\n",
       "      <td>0</td>\n",
       "      <td>0</td>\n",
       "      <td>0</td>\n",
       "      <td>0</td>\n",
       "      <td>0.37</td>\n",
       "      <td>3</td>\n",
       "      <td>11975</td>\n",
       "      <td>1</td>\n",
       "      <td>False</td>\n",
       "      <td>False</td>\n",
       "      <td>False</td>\n",
       "      <td>False</td>\n",
       "    </tr>\n",
       "    <tr>\n",
       "      <th>1013984</th>\n",
       "      <td>11500.0</td>\n",
       "      <td>0.1870</td>\n",
       "      <td>60</td>\n",
       "      <td>1</td>\n",
       "      <td>30583.3333</td>\n",
       "      <td>0.13</td>\n",
       "      <td>Employed</td>\n",
       "      <td>Executive</td>\n",
       "      <td>46.0</td>\n",
       "      <td>0.0</td>\n",
       "      <td>0.0</td>\n",
       "      <td>0</td>\n",
       "      <td>False</td>\n",
       "      <td>80000</td>\n",
       "      <td>3</td>\n",
       "      <td>0</td>\n",
       "      <td>0</td>\n",
       "      <td>0</td>\n",
       "      <td>2595</td>\n",
       "      <td>1</td>\n",
       "      <td>0</td>\n",
       "      <td>0</td>\n",
       "      <td>0</td>\n",
       "      <td>0.36</td>\n",
       "      <td>5</td>\n",
       "      <td>8034</td>\n",
       "      <td>0</td>\n",
       "      <td>True</td>\n",
       "      <td>False</td>\n",
       "      <td>False</td>\n",
       "      <td>False</td>\n",
       "    </tr>\n",
       "    <tr>\n",
       "      <th>991147</th>\n",
       "      <td>2000.0</td>\n",
       "      <td>0.1239</td>\n",
       "      <td>36</td>\n",
       "      <td>1</td>\n",
       "      <td>9583.3333</td>\n",
       "      <td>0.13</td>\n",
       "      <td>Employed</td>\n",
       "      <td>Other</td>\n",
       "      <td>438.0</td>\n",
       "      <td>NaN</td>\n",
       "      <td>NaN</td>\n",
       "      <td>0</td>\n",
       "      <td>False</td>\n",
       "      <td>40000</td>\n",
       "      <td>0</td>\n",
       "      <td>0</td>\n",
       "      <td>0</td>\n",
       "      <td>4</td>\n",
       "      <td>1074</td>\n",
       "      <td>0</td>\n",
       "      <td>0</td>\n",
       "      <td>0</td>\n",
       "      <td>0</td>\n",
       "      <td>0.45</td>\n",
       "      <td>9</td>\n",
       "      <td>12553</td>\n",
       "      <td>0</td>\n",
       "      <td>False</td>\n",
       "      <td>False</td>\n",
       "      <td>True</td>\n",
       "      <td>False</td>\n",
       "    </tr>\n",
       "    <tr>\n",
       "      <th>996748</th>\n",
       "      <td>15000.0</td>\n",
       "      <td>0.1585</td>\n",
       "      <td>60</td>\n",
       "      <td>1</td>\n",
       "      <td>8329.1667</td>\n",
       "      <td>0.29</td>\n",
       "      <td>Employed</td>\n",
       "      <td>Other</td>\n",
       "      <td>19.0</td>\n",
       "      <td>NaN</td>\n",
       "      <td>NaN</td>\n",
       "      <td>0</td>\n",
       "      <td>False</td>\n",
       "      <td>90000</td>\n",
       "      <td>1</td>\n",
       "      <td>0</td>\n",
       "      <td>0</td>\n",
       "      <td>0</td>\n",
       "      <td>2063</td>\n",
       "      <td>0</td>\n",
       "      <td>0</td>\n",
       "      <td>0</td>\n",
       "      <td>0</td>\n",
       "      <td>0.43</td>\n",
       "      <td>5</td>\n",
       "      <td>11922</td>\n",
       "      <td>0</td>\n",
       "      <td>False</td>\n",
       "      <td>False</td>\n",
       "      <td>False</td>\n",
       "      <td>False</td>\n",
       "    </tr>\n",
       "    <tr>\n",
       "      <th>1020431</th>\n",
       "      <td>10500.0</td>\n",
       "      <td>0.0605</td>\n",
       "      <td>36</td>\n",
       "      <td>15</td>\n",
       "      <td>15416.6667</td>\n",
       "      <td>0.25</td>\n",
       "      <td>Employed</td>\n",
       "      <td>Attorney</td>\n",
       "      <td>67.0</td>\n",
       "      <td>0.0</td>\n",
       "      <td>0.0</td>\n",
       "      <td>0</td>\n",
       "      <td>False</td>\n",
       "      <td>80000</td>\n",
       "      <td>3</td>\n",
       "      <td>0</td>\n",
       "      <td>0</td>\n",
       "      <td>2</td>\n",
       "      <td>2888</td>\n",
       "      <td>0</td>\n",
       "      <td>0</td>\n",
       "      <td>0</td>\n",
       "      <td>0</td>\n",
       "      <td>0.83</td>\n",
       "      <td>1</td>\n",
       "      <td>11638</td>\n",
       "      <td>0</td>\n",
       "      <td>True</td>\n",
       "      <td>False</td>\n",
       "      <td>False</td>\n",
       "      <td>False</td>\n",
       "    </tr>\n",
       "    <tr>\n",
       "      <th>1036179</th>\n",
       "      <td>8500.0</td>\n",
       "      <td>0.1099</td>\n",
       "      <td>36</td>\n",
       "      <td>15</td>\n",
       "      <td>3529.3333</td>\n",
       "      <td>0.29</td>\n",
       "      <td>Employed</td>\n",
       "      <td>Other</td>\n",
       "      <td>70.0</td>\n",
       "      <td>0.0</td>\n",
       "      <td>1.0</td>\n",
       "      <td>1</td>\n",
       "      <td>False</td>\n",
       "      <td>80000</td>\n",
       "      <td>1</td>\n",
       "      <td>0</td>\n",
       "      <td>0</td>\n",
       "      <td>2</td>\n",
       "      <td>769</td>\n",
       "      <td>0</td>\n",
       "      <td>1</td>\n",
       "      <td>0</td>\n",
       "      <td>0</td>\n",
       "      <td>0.54</td>\n",
       "      <td>17</td>\n",
       "      <td>4715</td>\n",
       "      <td>1</td>\n",
       "      <td>True</td>\n",
       "      <td>False</td>\n",
       "      <td>False</td>\n",
       "      <td>True</td>\n",
       "    </tr>\n",
       "    <tr>\n",
       "      <th>1036020</th>\n",
       "      <td>20000.0</td>\n",
       "      <td>0.1535</td>\n",
       "      <td>36</td>\n",
       "      <td>1</td>\n",
       "      <td>6833.3333</td>\n",
       "      <td>0.24</td>\n",
       "      <td>Employed</td>\n",
       "      <td>Food Service Management</td>\n",
       "      <td>76.0</td>\n",
       "      <td>NaN</td>\n",
       "      <td>NaN</td>\n",
       "      <td>0</td>\n",
       "      <td>False</td>\n",
       "      <td>70000</td>\n",
       "      <td>0</td>\n",
       "      <td>0</td>\n",
       "      <td>0</td>\n",
       "      <td>2</td>\n",
       "      <td>925</td>\n",
       "      <td>0</td>\n",
       "      <td>2</td>\n",
       "      <td>0</td>\n",
       "      <td>0</td>\n",
       "      <td>0.92</td>\n",
       "      <td>7</td>\n",
       "      <td>12005</td>\n",
       "      <td>0</td>\n",
       "      <td>False</td>\n",
       "      <td>False</td>\n",
       "      <td>False</td>\n",
       "      <td>True</td>\n",
       "    </tr>\n",
       "    <tr>\n",
       "      <th>1038345</th>\n",
       "      <td>11500.0</td>\n",
       "      <td>0.2225</td>\n",
       "      <td>60</td>\n",
       "      <td>1</td>\n",
       "      <td>7916.6667</td>\n",
       "      <td>0.27</td>\n",
       "      <td>Employed</td>\n",
       "      <td>Professional</td>\n",
       "      <td>24.0</td>\n",
       "      <td>0.0</td>\n",
       "      <td>0.0</td>\n",
       "      <td>0</td>\n",
       "      <td>False</td>\n",
       "      <td>80000</td>\n",
       "      <td>1</td>\n",
       "      <td>0</td>\n",
       "      <td>0</td>\n",
       "      <td>2</td>\n",
       "      <td>1809</td>\n",
       "      <td>0</td>\n",
       "      <td>0</td>\n",
       "      <td>0</td>\n",
       "      <td>0</td>\n",
       "      <td>0.87</td>\n",
       "      <td>9</td>\n",
       "      <td>6273</td>\n",
       "      <td>0</td>\n",
       "      <td>True</td>\n",
       "      <td>False</td>\n",
       "      <td>False</td>\n",
       "      <td>False</td>\n",
       "    </tr>\n",
       "    <tr>\n",
       "      <th>1042284</th>\n",
       "      <td>2000.0</td>\n",
       "      <td>0.1039</td>\n",
       "      <td>36</td>\n",
       "      <td>1</td>\n",
       "      <td>4333.3333</td>\n",
       "      <td>0.32</td>\n",
       "      <td>Employed</td>\n",
       "      <td>Executive</td>\n",
       "      <td>34.0</td>\n",
       "      <td>0.0</td>\n",
       "      <td>0.0</td>\n",
       "      <td>1</td>\n",
       "      <td>False</td>\n",
       "      <td>80000</td>\n",
       "      <td>0</td>\n",
       "      <td>0</td>\n",
       "      <td>0</td>\n",
       "      <td>0</td>\n",
       "      <td>1310</td>\n",
       "      <td>0</td>\n",
       "      <td>0</td>\n",
       "      <td>0</td>\n",
       "      <td>0</td>\n",
       "      <td>0.97</td>\n",
       "      <td>2</td>\n",
       "      <td>5055</td>\n",
       "      <td>0</td>\n",
       "      <td>True</td>\n",
       "      <td>False</td>\n",
       "      <td>False</td>\n",
       "      <td>False</td>\n",
       "    </tr>\n",
       "    <tr>\n",
       "      <th>1004506</th>\n",
       "      <td>10000.0</td>\n",
       "      <td>0.1550</td>\n",
       "      <td>36</td>\n",
       "      <td>14</td>\n",
       "      <td>10000.0000</td>\n",
       "      <td>0.13</td>\n",
       "      <td>Employed</td>\n",
       "      <td>Other</td>\n",
       "      <td>64.0</td>\n",
       "      <td>NaN</td>\n",
       "      <td>NaN</td>\n",
       "      <td>0</td>\n",
       "      <td>False</td>\n",
       "      <td>40000</td>\n",
       "      <td>4</td>\n",
       "      <td>0</td>\n",
       "      <td>0</td>\n",
       "      <td>0</td>\n",
       "      <td>934</td>\n",
       "      <td>0</td>\n",
       "      <td>0</td>\n",
       "      <td>0</td>\n",
       "      <td>0</td>\n",
       "      <td>0.46</td>\n",
       "      <td>10</td>\n",
       "      <td>3226</td>\n",
       "      <td>1</td>\n",
       "      <td>False</td>\n",
       "      <td>True</td>\n",
       "      <td>False</td>\n",
       "      <td>False</td>\n",
       "    </tr>\n",
       "    <tr>\n",
       "      <th>1004863</th>\n",
       "      <td>35000.0</td>\n",
       "      <td>0.1274</td>\n",
       "      <td>60</td>\n",
       "      <td>1</td>\n",
       "      <td>13750.0000</td>\n",
       "      <td>0.28</td>\n",
       "      <td>Employed</td>\n",
       "      <td>Attorney</td>\n",
       "      <td>290.0</td>\n",
       "      <td>NaN</td>\n",
       "      <td>NaN</td>\n",
       "      <td>0</td>\n",
       "      <td>False</td>\n",
       "      <td>70000</td>\n",
       "      <td>2</td>\n",
       "      <td>0</td>\n",
       "      <td>0</td>\n",
       "      <td>2</td>\n",
       "      <td>3047</td>\n",
       "      <td>0</td>\n",
       "      <td>0</td>\n",
       "      <td>0</td>\n",
       "      <td>0</td>\n",
       "      <td>0.49</td>\n",
       "      <td>1</td>\n",
       "      <td>14612</td>\n",
       "      <td>1</td>\n",
       "      <td>False</td>\n",
       "      <td>False</td>\n",
       "      <td>True</td>\n",
       "      <td>False</td>\n",
       "    </tr>\n",
       "  </tbody>\n",
       "</table>\n",
       "</div>"
      ],
      "text/plain": [
       "               DolLoanAmountRequested  BorrowerRate  NumMonthsTerm  \\\n",
       "ListingNumber                                                        \n",
       "973605                        15000.0        0.1620             60   \n",
       "981099                        15000.0        0.1585             60   \n",
       "1025766                        4000.0        0.2085             36   \n",
       "1003835                       10000.0        0.1299             36   \n",
       "1011335                       20000.0        0.1440             60   \n",
       "1010105                       10000.0        0.2225             36   \n",
       "1029573                       15000.0        0.0809             36   \n",
       "1014296                        7000.0        0.0769             36   \n",
       "1009580                        5000.0        0.1314             36   \n",
       "743482                        19000.0        0.1314             60   \n",
       "1013984                       11500.0        0.1870             60   \n",
       "991147                         2000.0        0.1239             36   \n",
       "996748                        15000.0        0.1585             60   \n",
       "1020431                       10500.0        0.0605             36   \n",
       "1036179                        8500.0        0.1099             36   \n",
       "1036020                       20000.0        0.1535             36   \n",
       "1038345                       11500.0        0.2225             60   \n",
       "1042284                        2000.0        0.1039             36   \n",
       "1004506                       10000.0        0.1550             36   \n",
       "1004863                       35000.0        0.1274             60   \n",
       "\n",
       "               EnumListingCategory  DolMonthlyIncome  FracDebtToIncomeRatio  \\\n",
       "ListingNumber                                                                 \n",
       "973605                           1         6000.0000                   0.27   \n",
       "981099                           1         7916.6667                   0.35   \n",
       "1025766                          1         2083.3333                   0.53   \n",
       "1003835                         13         3750.0000                   0.14   \n",
       "1011335                          1         9000.0000                   0.16   \n",
       "1010105                          1         8416.6667                   0.45   \n",
       "1029573                          3         6250.0000                    NaN   \n",
       "1014296                          3         3333.3333                   0.16   \n",
       "1009580                          1         6450.9167                   0.15   \n",
       "743482                           1        12500.0000                   0.28   \n",
       "1013984                          1        30583.3333                   0.13   \n",
       "991147                           1         9583.3333                   0.13   \n",
       "996748                           1         8329.1667                   0.29   \n",
       "1020431                         15        15416.6667                   0.25   \n",
       "1036179                         15         3529.3333                   0.29   \n",
       "1036020                          1         6833.3333                   0.24   \n",
       "1038345                          1         7916.6667                   0.27   \n",
       "1042284                          1         4333.3333                   0.32   \n",
       "1004506                         14        10000.0000                   0.13   \n",
       "1004863                          1        13750.0000                   0.28   \n",
       "\n",
       "              StrEmploymentStatus            StrOccupation  NumMonthsEmployed  \\\n",
       "ListingNumber                                                                   \n",
       "973605                   Employed     Tradesman - Mechanic              445.0   \n",
       "981099                      Other                      NaN               32.0   \n",
       "1025766                  Employed             Professional                4.0   \n",
       "1003835                  Employed       Medical Technician                2.0   \n",
       "1011335                  Employed                Executive               90.0   \n",
       "1010105                  Employed             Professional              125.0   \n",
       "1029573             Self-employed             Food Service                9.0   \n",
       "1014296                  Employed        Retail Management               22.0   \n",
       "1009580                  Employed                    Other              268.0   \n",
       "743482                   Employed               Pharmacist              190.0   \n",
       "1013984                  Employed                Executive               46.0   \n",
       "991147                   Employed                    Other              438.0   \n",
       "996748                   Employed                    Other               19.0   \n",
       "1020431                  Employed                 Attorney               67.0   \n",
       "1036179                  Employed                    Other               70.0   \n",
       "1036020                  Employed  Food Service Management               76.0   \n",
       "1038345                  Employed             Professional               24.0   \n",
       "1042284                  Employed                Executive               34.0   \n",
       "1004506                  Employed                    Other               64.0   \n",
       "1004863                  Employed                 Attorney              290.0   \n",
       "\n",
       "               NumPriorProsperLoansLatePayments  NumPriorProsperLoans61dpd  \\\n",
       "ListingNumber                                                                \n",
       "973605                                      NaN                        NaN   \n",
       "981099                                      NaN                        NaN   \n",
       "1025766                                     0.0                        0.0   \n",
       "1003835                                     NaN                        NaN   \n",
       "1011335                                     0.0                        0.0   \n",
       "1010105                                     NaN                        NaN   \n",
       "1029573                                     0.0                        0.0   \n",
       "1014296                                     NaN                        NaN   \n",
       "1009580                                     NaN                        NaN   \n",
       "743482                                      NaN                        NaN   \n",
       "1013984                                     0.0                        0.0   \n",
       "991147                                      NaN                        NaN   \n",
       "996748                                      NaN                        NaN   \n",
       "1020431                                     0.0                        0.0   \n",
       "1036179                                     0.0                        1.0   \n",
       "1036020                                     NaN                        NaN   \n",
       "1038345                                     0.0                        0.0   \n",
       "1042284                                     0.0                        0.0   \n",
       "1004506                                     NaN                        NaN   \n",
       "1004863                                     NaN                        NaN   \n",
       "\n",
       "               BoolIsLender BoolInGroup EnumChannelCode  NumTradesOpened6  \\\n",
       "ListingNumber                                                               \n",
       "973605                    0       False           70000                 1   \n",
       "981099                    0       False           70000                 1   \n",
       "1025766                   0       False           80000                 0   \n",
       "1003835                   0       False           90000                 1   \n",
       "1011335                   0       False           80000                 1   \n",
       "1010105                   0       False           90000                 0   \n",
       "1029573                   1       False           80000                 1   \n",
       "1014296                   0       False           40000                 0   \n",
       "1009580                   0       False           90000                 2   \n",
       "743482                    0       False           70000                 1   \n",
       "1013984                   0       False           80000                 3   \n",
       "991147                    0       False           40000                 0   \n",
       "996748                    0       False           90000                 1   \n",
       "1020431                   0       False           80000                 3   \n",
       "1036179                   1       False           80000                 1   \n",
       "1036020                   0       False           70000                 0   \n",
       "1038345                   0       False           80000                 1   \n",
       "1042284                   1       False           80000                 0   \n",
       "1004506                   0       False           40000                 4   \n",
       "1004863                   0       False           70000                 2   \n",
       "\n",
       "               NumOpenTradesDelinqOrPastDue6  DolTotalBalanceOnPublicRecords  \\\n",
       "ListingNumber                                                                  \n",
       "973605                                     0                               0   \n",
       "981099                                     0                               0   \n",
       "1025766                                    0                               0   \n",
       "1003835                                    0                               0   \n",
       "1011335                                    0                            1249   \n",
       "1010105                                    0                               0   \n",
       "1029573                                    0                               0   \n",
       "1014296                                    0                               0   \n",
       "1009580                                    0                               0   \n",
       "743482                                     0                               0   \n",
       "1013984                                    0                               0   \n",
       "991147                                     0                               0   \n",
       "996748                                     0                               0   \n",
       "1020431                                    0                               0   \n",
       "1036179                                    0                               0   \n",
       "1036020                                    0                               0   \n",
       "1038345                                    0                               0   \n",
       "1042284                                    0                               0   \n",
       "1004506                                    0                               0   \n",
       "1004863                                    0                               0   \n",
       "\n",
       "               NumRealEstateTrades  DolMonthlyDebt  NumCurrentDelinquencies  \\\n",
       "ListingNumber                                                                 \n",
       "973605                           2            1242                        0   \n",
       "981099                           2            2289                        0   \n",
       "1025766                          0             911                        0   \n",
       "1003835                          0             223                        0   \n",
       "1011335                          1            1264                        1   \n",
       "1010105                          2            3455                        0   \n",
       "1029573                          2            1488                        0   \n",
       "1014296                          0             308                        0   \n",
       "1009580                          3             846                        0   \n",
       "743482                           3            1559                        0   \n",
       "1013984                          0            2595                        1   \n",
       "991147                           4            1074                        0   \n",
       "996748                           0            2063                        0   \n",
       "1020431                          2            2888                        0   \n",
       "1036179                          2             769                        0   \n",
       "1036020                          2             925                        0   \n",
       "1038345                          2            1809                        0   \n",
       "1042284                          0            1310                        0   \n",
       "1004506                          0             934                        0   \n",
       "1004863                          2            3047                        0   \n",
       "\n",
       "               NumPublicRecordsLast10Years  NumPublicRecords12  \\\n",
       "ListingNumber                                                    \n",
       "973605                                   0                   0   \n",
       "981099                                   0                   0   \n",
       "1025766                                  0                   0   \n",
       "1003835                                  0                   0   \n",
       "1011335                                  2                   0   \n",
       "1010105                                  0                   0   \n",
       "1029573                                  1                   0   \n",
       "1014296                                  0                   0   \n",
       "1009580                                  1                   0   \n",
       "743482                                   0                   0   \n",
       "1013984                                  0                   0   \n",
       "991147                                   0                   0   \n",
       "996748                                   0                   0   \n",
       "1020431                                  0                   0   \n",
       "1036179                                  1                   0   \n",
       "1036020                                  2                   0   \n",
       "1038345                                  0                   0   \n",
       "1042284                                  0                   0   \n",
       "1004506                                  0                   0   \n",
       "1004863                                  0                   0   \n",
       "\n",
       "               DolAmountDelinquent  PctBankcardUtil  NumTotalInquiries  \\\n",
       "ListingNumber                                                            \n",
       "973605                           0             0.97                  5   \n",
       "981099                           0             0.48                  3   \n",
       "1025766                          0             0.93                  5   \n",
       "1003835                          0             0.26                  1   \n",
       "1011335                          0             0.81                 17   \n",
       "1010105                          0             0.87                  8   \n",
       "1029573                          0             0.00                  8   \n",
       "1014296                          0             0.05                  1   \n",
       "1009580                          0             0.82                  8   \n",
       "743482                           0             0.37                  3   \n",
       "1013984                          0             0.36                  5   \n",
       "991147                           0             0.45                  9   \n",
       "996748                           0             0.43                  5   \n",
       "1020431                          0             0.83                  1   \n",
       "1036179                          0             0.54                 17   \n",
       "1036020                          0             0.92                  7   \n",
       "1038345                          0             0.87                  9   \n",
       "1042284                          0             0.97                  2   \n",
       "1004506                          0             0.46                 10   \n",
       "1004863                          0             0.49                  1   \n",
       "\n",
       "               DaysSinceFirstCredit  Cancelled BoolPriorProsperLoanee  \\\n",
       "ListingNumber                                                           \n",
       "973605                        13920          1                  False   \n",
       "981099                        14257          1                  False   \n",
       "1025766                        4165          0                   True   \n",
       "1003835                        2961          1                  False   \n",
       "1011335                        8348          0                   True   \n",
       "1010105                       11061          0                  False   \n",
       "1029573                       11029          0                   True   \n",
       "1014296                        3899          0                  False   \n",
       "1009580                        9566          0                  False   \n",
       "743482                        11975          1                  False   \n",
       "1013984                        8034          0                   True   \n",
       "991147                        12553          0                  False   \n",
       "996748                        11922          0                  False   \n",
       "1020431                       11638          0                   True   \n",
       "1036179                        4715          1                   True   \n",
       "1036020                       12005          0                  False   \n",
       "1038345                        6273          0                   True   \n",
       "1042284                        5055          0                   True   \n",
       "1004506                        3226          1                  False   \n",
       "1004863                       14612          1                  False   \n",
       "\n",
       "              BoolYoungLoanee BoolOldLoanee  \\\n",
       "ListingNumber                                 \n",
       "973605                  False          True   \n",
       "981099                  False          True   \n",
       "1025766                 False         False   \n",
       "1003835                  True         False   \n",
       "1011335                 False         False   \n",
       "1010105                 False         False   \n",
       "1029573                 False         False   \n",
       "1014296                  True         False   \n",
       "1009580                 False         False   \n",
       "743482                  False         False   \n",
       "1013984                 False         False   \n",
       "991147                  False          True   \n",
       "996748                  False         False   \n",
       "1020431                 False         False   \n",
       "1036179                 False         False   \n",
       "1036020                 False         False   \n",
       "1038345                 False         False   \n",
       "1042284                 False         False   \n",
       "1004506                  True         False   \n",
       "1004863                 False          True   \n",
       "\n",
       "              BoolNonzeroPublicRecordsLast10Years  \n",
       "ListingNumber                                      \n",
       "973605                                      False  \n",
       "981099                                      False  \n",
       "1025766                                     False  \n",
       "1003835                                     False  \n",
       "1011335                                      True  \n",
       "1010105                                     False  \n",
       "1029573                                      True  \n",
       "1014296                                     False  \n",
       "1009580                                      True  \n",
       "743482                                      False  \n",
       "1013984                                     False  \n",
       "991147                                      False  \n",
       "996748                                      False  \n",
       "1020431                                     False  \n",
       "1036179                                      True  \n",
       "1036020                                      True  \n",
       "1038345                                     False  \n",
       "1042284                                     False  \n",
       "1004506                                     False  \n",
       "1004863                                     False  "
      ]
     },
     "execution_count": 75,
     "metadata": {},
     "output_type": "execute_result"
    }
   ],
   "source": [
    "index = (reduced_data['BoolPriorProsperLoanee'] == True) & reduced_data['NumPriorProsperLoans61dpd'].isnull()\n",
    "reduced_data['NumPriorProsperLoans61dpd'][index] = 0\n",
    "\n",
    "## let's make sure that this worked out the way we intended it to...\n",
    "reduced_data[:20]"
   ]
  },
  {
   "cell_type": "code",
   "execution_count": 76,
   "metadata": {
    "collapsed": false
   },
   "outputs": [
    {
     "name": "stdout",
     "output_type": "stream",
     "text": [
      "Number of Prior Prosper Loan Late Payments:\n",
      "Non-zero: 0.165562913907\n",
      "Zero: 0.133349857479\n",
      "Number of prior prosper loans more than 61 days past due:\n",
      "Non-zero: 0.22\n",
      "Zero: 0.133374384236\n"
     ]
    }
   ],
   "source": [
    "print('Number of Prior Prosper Loan Late Payments:')\n",
    "print('Non-zero:', reduced_data[reduced_data['NumPriorProsperLoansLatePayments'] > 0]['Cancelled'].mean())\n",
    "print('Zero:', reduced_data[reduced_data['NumPriorProsperLoansLatePayments'] == 0]['Cancelled'].mean())\n",
    "\n",
    "print('Number of prior prosper loans more than 61 days past due:')\n",
    "print('Non-zero:', reduced_data[reduced_data['NumPriorProsperLoans61dpd'] > 0]['Cancelled'].mean())\n",
    "print('Zero:', reduced_data[reduced_data['NumPriorProsperLoans61dpd'] == 0]['Cancelled'].mean())"
   ]
  },
  {
   "cell_type": "markdown",
   "metadata": {},
   "source": [
    "These aren't huge differences, but let's try looking just among prior Prosper loanees and see if either of these variables can help make projections amongst them."
   ]
  },
  {
   "cell_type": "code",
   "execution_count": 77,
   "metadata": {
    "collapsed": true
   },
   "outputs": [],
   "source": [
    "## I have to append the cancellation vector to the X matrix so I can drop the correct rows (leaving only rows with)\n",
    "## prior prosper loanees\n",
    "X_final['NumPriorProsperLoansLatePayments'] = reduced_data['NumPriorProsperLoansLatePayments']\n",
    "X_final['NumPriorProsperLoans61dpd'] = reduced_data['NumPriorProsperLoans61dpd']\n",
    "X_final['Cancelled'] = reduced_data['Cancelled']"
   ]
  },
  {
   "cell_type": "code",
   "execution_count": 78,
   "metadata": {
    "collapsed": false
   },
   "outputs": [
    {
     "name": "stdout",
     "output_type": "stream",
     "text": [
      "(16289, 84)\n"
     ]
    }
   ],
   "source": [
    "data_nan = X_final.dropna()\n",
    "print(data_nan.shape)\n",
    "\n",
    "X_final.drop('NumPriorProsperLoansLatePayments',inplace=True,axis=1)\n",
    "X_final.drop('NumPriorProsperLoans61dpd',inplace=True,axis=1)\n",
    "X_final.drop('Cancelled',inplace=True,axis=1)\n"
   ]
  },
  {
   "cell_type": "code",
   "execution_count": 82,
   "metadata": {
    "collapsed": false
   },
   "outputs": [
    {
     "name": "stdout",
     "output_type": "stream",
     "text": [
      "[[ 0.03231427]]\n",
      "[[ 0.05239108]]\n"
     ]
    },
    {
     "name": "stderr",
     "output_type": "stream",
     "text": [
      "//anaconda/lib/python3.5/site-packages/matplotlib/axes/_axes.py:519: UserWarning: No labelled objects found. Use label='...' kwarg on individual plots.\n",
      "  warnings.warn(\"No labelled objects found. \"\n"
     ]
    },
    {
     "data": {
      "image/png": "[encoded data removed]",
      "text/plain": [
       "<matplotlib.figure.Figure at 0x132cedf98>"
      ]
     },
     "metadata": {},
     "output_type": "display_data"
    }
   ],
   "source": [
    "variables = [['NumPriorProsperLoansLatePayments'],['NumPriorProsperLoans61dpd']]\n",
    "\n",
    "y = data_nan['Cancelled']\n",
    "X = []\n",
    "X_train = []\n",
    "X_test = []\n",
    "y_train = []\n",
    "y_test = []\n",
    "\n",
    "fig, ax = plt.subplots()\n",
    "plt.plot([0, 1], [0, 1], color='navy', linestyle='--')\n",
    "\n",
    "for i,v in enumerate(variables):\n",
    "    standard_scaler = preprocessing.StandardScaler()\n",
    "    X.append(standard_scaler.fit_transform(data_nan[v]))\n",
    "    X_tr, X_te, y_tr, y_te = train_test_split(X[i], y, test_size=0.3, random_state=0)\n",
    "    logm = linear_model.LogisticRegression()\n",
    "    logm.fit(X_tr,y_tr)\n",
    "    probs = logm.predict_proba(X_te)\n",
    "    #print(probs[:20])\n",
    "    fpr, tpr, thresholds = metrics.roc_curve(y_te,probs[:,1])\n",
    "    plt.legend()\n",
    "    print(logm.coef_)"
   ]
  },
  {
   "cell_type": "markdown",
   "metadata": {},
   "source": [
    "Even looking just among the population of prior Prosper loanees, NumPriorProsperLoansLatePayments and NumPriorProsperLoans61dpd have essentially no predictive skill, so we can simply leave them out of the broader model."
   ]
  },
  {
   "cell_type": "markdown",
   "metadata": {},
   "source": [
    "### Leftover variables\n",
    "Here I show that all of the remaining variables have minimal effect on cancellation."
   ]
  },
  {
   "cell_type": "code",
   "execution_count": 83,
   "metadata": {
    "collapsed": false
   },
   "outputs": [
    {
     "name": "stdout",
     "output_type": "stream",
     "text": [
      "0.342281440841\n",
      "0.333273232123\n"
     ]
    }
   ],
   "source": [
    "print(reduced_data[reduced_data['DolAmountDelinquent']!=0]['Cancelled'].mean())\n",
    "print(reduced_data[reduced_data['DolAmountDelinquent']==0]['Cancelled'].mean())"
   ]
  },
  {
   "cell_type": "code",
   "execution_count": 84,
   "metadata": {
    "collapsed": false
   },
   "outputs": [
    {
     "name": "stdout",
     "output_type": "stream",
     "text": [
      "0.34695719443\n",
      "0.333966728372\n"
     ]
    }
   ],
   "source": [
    "print(reduced_data[reduced_data['DolTotalBalanceOnPublicRecords']!=0]['Cancelled'].mean())\n",
    "print(reduced_data[reduced_data['DolTotalBalanceOnPublicRecords']==0]['Cancelled'].mean())"
   ]
  },
  {
   "cell_type": "code",
   "execution_count": 85,
   "metadata": {
    "collapsed": false
   },
   "outputs": [
    {
     "name": "stdout",
     "output_type": "stream",
     "text": [
      "0.334405972455\n",
      "0.334358499045\n"
     ]
    }
   ],
   "source": [
    "print(reduced_data[reduced_data['NumCurrentDelinquencies']!=0]['Cancelled'].mean())\n",
    "print(reduced_data[reduced_data['NumCurrentDelinquencies']==0]['Cancelled'].mean())"
   ]
  },
  {
   "cell_type": "code",
   "execution_count": 86,
   "metadata": {
    "collapsed": false
   },
   "outputs": [
    {
     "name": "stdout",
     "output_type": "stream",
     "text": [
      "0.329599687746\n",
      "0.34403185569\n"
     ]
    }
   ],
   "source": [
    "print(reduced_data[reduced_data['NumMonthsTerm']==36]['Cancelled'].mean())\n",
    "print(reduced_data[reduced_data['NumMonthsTerm']==60]['Cancelled'].mean())"
   ]
  },
  {
   "cell_type": "markdown",
   "metadata": {},
   "source": [
    "As also indicated by the regression, DolAmountDelinquent, DolTotalBalanceOnPublicRecords, NumCurrentDelinquencies and NumMonthsTerm do not show a strong difference between behavior of zero and non-zero loanees, and are omitted from model (to make 100% sure, notebook scratch_3 shows what happens when they're added to the model)."
   ]
  },
  {
   "cell_type": "markdown",
   "metadata": {},
   "source": [
    "## Evaluating final model performance"
   ]
  },
  {
   "cell_type": "code",
   "execution_count": 87,
   "metadata": {
    "collapsed": false
   },
   "outputs": [
    {
     "data": {
      "text/plain": [
       "Index(['BoolPriorProsperLoanee', 'DolLoanAmountRequested', 'PctBankcardUtil',\n",
       "       'StrEmploymentStatus_Employed', 'StrEmploymentStatus_Full-time',\n",
       "       'StrEmploymentStatus_Other', 'StrEmploymentStatus_Self-employed',\n",
       "       'DolMonthlyDebt', 'DolMonthlyIncome', 'BorrowerRate',\n",
       "       'NumRealEstateTrades', 'StrOccupation_Accountant/CPA',\n",
       "       'StrOccupation_Administrative Assistant', 'StrOccupation_Analyst',\n",
       "       'StrOccupation_Architect', 'StrOccupation_Attorney',\n",
       "       'StrOccupation_Biologist', 'StrOccupation_Bus Driver',\n",
       "       'StrOccupation_Car Dealer', 'StrOccupation_Chemist',\n",
       "       'StrOccupation_Civil Service', 'StrOccupation_Clergy',\n",
       "       'StrOccupation_Clerical', 'StrOccupation_Computer Programmer',\n",
       "       'StrOccupation_Construction', 'StrOccupation_Dentist',\n",
       "       'StrOccupation_Doctor', 'StrOccupation_Engineer - Chemical',\n",
       "       'StrOccupation_Engineer - Electrical',\n",
       "       'StrOccupation_Engineer - Mechanical', 'StrOccupation_Executive',\n",
       "       'StrOccupation_Fireman', 'StrOccupation_Flight Attendant',\n",
       "       'StrOccupation_Food Service', 'StrOccupation_Food Service Management',\n",
       "       'StrOccupation_Homemaker', 'StrOccupation_Investor',\n",
       "       'StrOccupation_Judge', 'StrOccupation_Laborer',\n",
       "       'StrOccupation_Landscaping', 'StrOccupation_Medical Technician',\n",
       "       'StrOccupation_Military Enlisted', 'StrOccupation_Military Officer',\n",
       "       'StrOccupation_Nurse (LPN)', 'StrOccupation_Nurse (RN)',\n",
       "       'StrOccupation_Nurse's Aide', 'StrOccupation_Other',\n",
       "       'StrOccupation_Pharmacist', 'StrOccupation_Pilot - Private/Commercial',\n",
       "       'StrOccupation_Police Officer/Correction Officer',\n",
       "       'StrOccupation_Postal Service', 'StrOccupation_Principal',\n",
       "       'StrOccupation_Professional', 'StrOccupation_Professor',\n",
       "       'StrOccupation_Psychologist', 'StrOccupation_Realtor',\n",
       "       'StrOccupation_Religious', 'StrOccupation_Retail Management',\n",
       "       'StrOccupation_Sales - Commission', 'StrOccupation_Sales - Retail',\n",
       "       'StrOccupation_Scientist', 'StrOccupation_Skilled Labor',\n",
       "       'StrOccupation_Social Worker',\n",
       "       'StrOccupation_Student - College Freshman',\n",
       "       'StrOccupation_Student - College Graduate Student',\n",
       "       'StrOccupation_Student - College Junior',\n",
       "       'StrOccupation_Student - College Senior',\n",
       "       'StrOccupation_Student - College Sophomore',\n",
       "       'StrOccupation_Student - Community College',\n",
       "       'StrOccupation_Student - Technical School', 'StrOccupation_Teacher',\n",
       "       'StrOccupation_Teacher's Aide', 'StrOccupation_Tradesman - Carpenter',\n",
       "       'StrOccupation_Tradesman - Electrician',\n",
       "       'StrOccupation_Tradesman - Mechanic',\n",
       "       'StrOccupation_Tradesman - Plumber', 'StrOccupation_Truck Driver',\n",
       "       'StrOccupation_Waiter/Waitress', 'BoolYoungLoanee', 'BoolOldLoanee',\n",
       "       'BoolNonzeroPublicRecordsLast10Years'],\n",
       "      dtype='object')"
      ]
     },
     "execution_count": 87,
     "metadata": {},
     "output_type": "execute_result"
    }
   ],
   "source": [
    "X_final.columns"
   ]
  },
  {
   "cell_type": "code",
   "execution_count": 88,
   "metadata": {
    "collapsed": false
   },
   "outputs": [
    {
     "name": "stdout",
     "output_type": "stream",
     "text": [
      "[[ -2.68658012e-01   2.45275853e-01  -1.43273054e-01   5.23819635e-02\n",
      "   -8.18934031e-03   7.06578144e-02  -1.52543065e-01  -1.34856939e-01\n",
      "    4.55983847e-01   7.94571369e-02  -7.80896801e-02  -1.22911674e-01\n",
      "   -8.87068901e-02  -1.85513329e-01  -3.54270677e-02  -5.23863095e-02\n",
      "   -1.85061716e-02  -9.38708650e-03  -2.17686672e-02  -2.77573542e-02\n",
      "   -1.13520387e-01  -2.01154206e-03  -1.02907336e-01  -1.91674914e-01\n",
      "   -4.04923331e-02   7.89383627e-03  -2.46707879e-02  -2.83672523e-02\n",
      "   -9.36806984e-02  -9.62098203e-02  -1.32366726e-01  -4.82841968e-02\n",
      "   -1.07280112e-02  -2.77471684e-03  -3.55049373e-02   2.71805901e-02\n",
      "    4.75477161e-03  -8.90651978e-03  -2.87303381e-02   3.09462997e-03\n",
      "   -5.34062891e-02  -7.57201372e-02  -4.96549293e-02  -2.83963776e-02\n",
      "   -1.44857916e-01  -1.84636705e-03  -3.12522483e-01  -4.42163095e-02\n",
      "   -2.75884025e-02  -1.13917533e-01  -6.47135145e-02  -3.93850188e-02\n",
      "   -2.65374377e-01  -6.76957363e-02  -1.83400255e-02   1.54919599e-02\n",
      "    1.22993215e-02  -8.96780073e-02  -5.91036610e-02  -4.57724689e-02\n",
      "   -5.75966402e-02  -8.57790379e-02  -5.27574700e-02   8.95747973e-03\n",
      "   -7.19978543e-03  -6.05421131e-03  -1.02240519e-02   1.53142953e-02\n",
      "   -8.56240690e-03   8.01755591e-03  -1.24373251e-01  -2.29663708e-04\n",
      "   -6.05417889e-03  -5.09313053e-02  -6.60416649e-02  -3.63460201e-03\n",
      "   -4.41198811e-02   3.45142237e-03   5.09381862e-02   4.17339172e-02\n",
      "   -6.87977568e-02]]\n",
      "AUC score: 0.649267956759\n"
     ]
    },
    {
     "data": {
      "image/png": "[encoded data removed]",
      "text/plain": [
       "<matplotlib.figure.Figure at 0x13d2802e8>"
      ]
     },
     "metadata": {},
     "output_type": "display_data"
    }
   ],
   "source": [
    "fig, ax = plt.subplots()\n",
    "\n",
    "## scale the variables first\n",
    "ss = preprocessing.StandardScaler()\n",
    "X_final_sc = ss.fit_transform(X_final)\n",
    "\n",
    "y = reduced_data['Cancelled']\n",
    "\n",
    "X_tr, X_te, y_tr, y_te = train_test_split(X_final_sc, y, test_size=0.3, random_state=0)\n",
    "logm = linear_model.LogisticRegression()\n",
    "logm.fit(X_tr,y_tr)\n",
    "probs = logm.predict_proba(X_te)\n",
    "fpr, tpr, thresholds = metrics.roc_curve(y_te,probs[:,1])\n",
    "score = metrics.roc_auc_score(y_te, probs[:,1])\n",
    "plt.plot(fpr,tpr)\n",
    "print(logm.coef_)\n",
    "print(\"AUC score:\",score)\n",
    "    \n",
    "plt.title('Receiver Operating Characteristic (ROC) Curve', fontsize = 16)\n",
    "plt.xlabel('FPR (False Positive Rate)', fontsize=14)\n",
    "plt.ylabel('TPR (True Positive Rate)', fontsize=14)\n",
    "\n",
    "## draw the \"no-skill\" line\n",
    "plt.plot([0, 1], [0, 1], color='navy', linestyle='--')\n",
    "\n",
    "plt.savefig('roc_final.jpg')"
   ]
  },
  {
   "cell_type": "markdown",
   "metadata": {},
   "source": [
    "# Final thoughts and caveats"
   ]
  },
  {
   "cell_type": "markdown",
   "metadata": {},
   "source": [
    "Some of the variables in this study are treated as linear in this model, but clearly merit further investigation. For instance, the distribution of cancellation rates depending on BorrowerRate clearly looks parabolic, with lower cancellation probability at both low and high rates. Similarly, younger and older borrowers appear much more likely to cancel than middle-aged borrowers. However, for a first pass at a model I have decided not to include non-linear term to avoid over-complexification.\n",
    "\n",
    "It is possible that some model variables that were omitted early on are actual crucial to predictivity. For instance, I chose to leave out the state of the loanee, because I felt that geographic effects on cancellation ought to be secondary relative to economic effects. However, I eventually decided to include the type of employment even without a causal mechanism for why different job types might lead to different cancellation rates."
   ]
  },
  {
   "cell_type": "code",
   "execution_count": null,
   "metadata": {
    "collapsed": true
   },
   "outputs": [],
   "source": []
  }
 ],
 "metadata": {
  "kernelspec": {
   "display_name": "Python 3",
   "language": "python",
   "name": "python3"
  },
  "language_info": {
   "codemirror_mode": {
    "name": "ipython",
    "version": 3
   },
   "file_extension": ".py",
   "mimetype": "text/x-python",
   "name": "python",
   "nbconvert_exporter": "python",
   "pygments_lexer": "ipython3",
   "version": "3.5.2"
  }
 },
 "nbformat": 4,
 "nbformat_minor": 0
}
